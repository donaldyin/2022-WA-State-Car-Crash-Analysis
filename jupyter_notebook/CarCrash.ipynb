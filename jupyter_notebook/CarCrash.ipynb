{
 "cells": [
  {
   "cell_type": "code",
<<<<<<< HEAD
   "execution_count": 83,
=======
<<<<<<< HEAD
   "execution_count": 166,
=======
   "execution_count": 68,
>>>>>>> 887c8019f7a43b753c27014c4933287e8e68cb38
>>>>>>> f2cb805e577da5f6d91d862a1c2d7471d5cd2630
   "id": "abd0c337-aca0-4a8d-8c97-10c4ff599f35",
   "metadata": {},
   "outputs": [],
   "source": [
    "import pandas as pd\n",
    "import re\n",
    "import numpy as np\n",
    "\n",
    "AADT = pd.read_csv(\"https://docs.google.com/spreadsheets/d/e/2PACX-1vRXk2ssI2wP32cbxd7gJecku7nS9Mjim7Ed3dorQsgalcBYC6KbxpWKlx0ClBsmsgAcbf5QzQqt2tsy/pub?output=csv\")"
   ]
  },
  {
   "cell_type": "code",
<<<<<<< HEAD
   "execution_count": 84,
=======
<<<<<<< HEAD
   "execution_count": 167,
   "id": "169cb985-9b53-413c-be79-1083ee8c83b1",
   "metadata": {},
   "outputs": [],
   "source": [
    "Car_Crash = pd.read_csv(\"https://docs.google.com/spreadsheets/d/e/2PACX-1vRJhryMDLGWP2PxsaXiDYb5PdBN_vmZxV0aieOFUJNuD5OBBJTR927qUVRnPFBg_5iDbFgxWzDWPvC9/pub?output=csv\")"
=======
   "execution_count": 69,
>>>>>>> f2cb805e577da5f6d91d862a1c2d7471d5cd2630
   "id": "75346f73-5861-4af6-817a-dc2996fea235",
   "metadata": {},
   "outputs": [],
   "source": [
    "def clean_crash_summary(file_path):\n",
    "    # Read the CSV file\n",
    "    crash_summary = pd.read_csv(file_path)\n",
    "\n",
    "    # Filter and select relevant columns\n",
    "    crash_summary_clean = crash_summary[(crash_summary['Jurisdiction'] == 'State Road') &\n",
    "                                        (~crash_summary['Weather Condition'].isna())].drop(columns=['Collision Type'])\n",
    "\n",
    "    # Create binary columns and convert categorical columns to category type\n",
    "    crash_summary_clean = crash_summary_clean.assign(\n",
    "        **{\n",
    "            'School Zone': crash_summary_clean['School Zone'].apply(lambda x: 1 if x == 'Y' else 0),\n",
    "            'Intersection Related': crash_summary_clean['Intersection Related'].apply(lambda x: 1 if x == 'Y' else 0),\n",
    "            'Damage Threshold Met': crash_summary_clean['Damage Threshold Met'].apply(lambda x: 1 if x == 'Y' else 0),\n",
    "            'Hit and Run': crash_summary_clean['Hit and Run'].apply(lambda x: 1 if x == 'Y' else 0),\n",
    "            'Passengers Involved': crash_summary_clean['Passengers Involved'].apply(lambda x: 1 if x == 'Y' else 0),\n",
    "            'Commercial Carrier Involved': crash_summary_clean['Commercial Carrier Involved'].apply(lambda x: 1 if x == 'Y' else 0),\n",
    "            'School Bus Involved': crash_summary_clean['School Bus Involved'].apply(lambda x: 1 if x == 'Y' else 0),\n",
    "            'Agency': crash_summary_clean['Agency'].astype('category'),\n",
    "            'Weather Condition': crash_summary_clean['Weather Condition'].astype('category'),\n",
    "            'Lighting Condition': crash_summary_clean['Lighting Condition'].astype('category'),\n",
    "            'Injury Severity': crash_summary_clean['Injury Severity'].astype('category')\n",
    "        }\n",
    "    )\n",
    "    \n",
    "    return crash_summary_clean"
>>>>>>> 887c8019f7a43b753c27014c4933287e8e68cb38
   ]
  },
  {
   "cell_type": "code",
<<<<<<< HEAD
   "execution_count": 85,
=======
<<<<<<< HEAD
   "execution_count": 32,
   "id": "194342b1-231d-4181-8137-3c33f6d430fd",
   "metadata": {
    "scrolled": true
   },
=======
   "execution_count": 97,
>>>>>>> f2cb805e577da5f6d91d862a1c2d7471d5cd2630
   "id": "db22dc08-31af-4d2f-889d-55fb513196cd",
   "metadata": {},
>>>>>>> 887c8019f7a43b753c27014c4933287e8e68cb38
   "outputs": [
    {
     "data": {
      "text/html": [
       "<div>\n",
       "<style scoped>\n",
       "    .dataframe tbody tr th:only-of-type {\n",
       "        vertical-align: middle;\n",
       "    }\n",
       "\n",
       "    .dataframe tbody tr th {\n",
       "        vertical-align: top;\n",
       "    }\n",
       "\n",
       "    .dataframe thead th {\n",
       "        text-align: right;\n",
       "    }\n",
       "</style>\n",
       "<table border=\"1\" class=\"dataframe\">\n",
       "  <thead>\n",
       "    <tr style=\"text-align: right;\">\n",
       "      <th></th>\n",
<<<<<<< HEAD
       "      <th>County</th>\n",
       "      <th>City</th>\n",
=======
       "      <th>Collision Report Number</th>\n",
       "      <th>Collision Date</th>\n",
       "      <th>County</th>\n",
       "      <th>City</th>\n",
       "      <th>Jurisdiction</th>\n",
       "      <th>Agency</th>\n",
       "      <th>Primary Trafficway</th>\n",
       "      <th>Secondary Trafficway</th>\n",
       "      <th>Block Number</th>\n",
       "      <th>Mile Post</th>\n",
       "      <th>...</th>\n",
       "      <th>Injury Severity</th>\n",
       "      <th>Object Struck</th>\n",
       "      <th>Damage Threshold Met</th>\n",
       "      <th>Hit and Run</th>\n",
       "      <th>Motor Vehicles Involved</th>\n",
       "      <th>Passengers Involved</th>\n",
       "      <th>Commercial Carrier Involved</th>\n",
       "      <th>School Bus Involved</th>\n",
       "      <th>Pedestrians Involved</th>\n",
       "      <th>Pedalcyclists Involved</th>\n",
>>>>>>> 887c8019f7a43b753c27014c4933287e8e68cb38
       "    </tr>\n",
       "  </thead>\n",
       "  <tbody>\n",
       "    <tr>\n",
       "      <th>0</th>\n",
<<<<<<< HEAD
       "      <td>King</td>\n",
       "      <td>Bellevue</td>\n",
       "    </tr>\n",
       "    <tr>\n",
       "      <th>1</th>\n",
       "      <td>Kitsap</td>\n",
       "      <td>Bremerton</td>\n",
       "    </tr>\n",
       "    <tr>\n",
       "      <th>2</th>\n",
       "      <td>Spokane</td>\n",
       "      <td>Airway Heights</td>\n",
       "    </tr>\n",
       "    <tr>\n",
       "      <th>3</th>\n",
       "      <td>Spokane</td>\n",
       "      <td>Airway Heights</td>\n",
       "    </tr>\n",
       "    <tr>\n",
       "      <th>4</th>\n",
       "      <td>Grant</td>\n",
       "      <td>Mattawa</td>\n",
       "    </tr>\n",
       "  </tbody>\n",
       "</table>\n",
       "</div>"
      ],
      "text/plain": [
       "    County            City\n",
       "0     King        Bellevue\n",
       "1   Kitsap       Bremerton\n",
       "2  Spokane  Airway Heights\n",
       "3  Spokane  Airway Heights\n",
       "4    Grant         Mattawa"
      ]
     },
     "execution_count": 32,
=======
       "      <td>EC12134</td>\n",
       "      <td>1/1/2022 12:13:00 AM</td>\n",
       "      <td>King</td>\n",
       "      <td>Bellevue</td>\n",
       "      <td>State Road</td>\n",
       "      <td>State Patrol</td>\n",
       "      <td>WB I 90</td>\n",
       "      <td>FROM SB I-405</td>\n",
       "      <td>NaN</td>\n",
       "      <td>9.72</td>\n",
       "      <td>...</td>\n",
       "      <td>No Injury Collision</td>\n",
       "      <td>barrier</td>\n",
       "      <td>1.0</td>\n",
       "      <td>0.0</td>\n",
       "      <td>1.0</td>\n",
       "      <td>0.0</td>\n",
       "      <td>0.0</td>\n",
       "      <td>0.0</td>\n",
       "      <td>0.0</td>\n",
       "      <td>0.0</td>\n",
       "    </tr>\n",
       "    <tr>\n",
       "      <th>1</th>\n",
       "      <td>EC09140</td>\n",
       "      <td>1/1/2022 12:26:00 AM</td>\n",
       "      <td>Kitsap</td>\n",
       "      <td>Bremerton</td>\n",
       "      <td>State Road</td>\n",
       "      <td>State Patrol</td>\n",
       "      <td>SR 3</td>\n",
       "      <td>NaN</td>\n",
       "      <td>NaN</td>\n",
       "      <td>36.00</td>\n",
       "      <td>...</td>\n",
       "      <td>No Injury Collision</td>\n",
       "      <td>Concrete/Jersey Barrier</td>\n",
       "      <td>1.0</td>\n",
       "      <td>0.0</td>\n",
       "      <td>1.0</td>\n",
       "      <td>0.0</td>\n",
       "      <td>0.0</td>\n",
       "      <td>0.0</td>\n",
       "      <td>0.0</td>\n",
       "      <td>0.0</td>\n",
       "    </tr>\n",
       "    <tr>\n",
       "      <th>2</th>\n",
       "      <td>EC28579</td>\n",
       "      <td>1/1/2022 12:33:00 AM</td>\n",
       "      <td>Spokane</td>\n",
       "      <td>Airway Heights</td>\n",
       "      <td>State Road</td>\n",
       "      <td>Municipal/City Police</td>\n",
       "      <td>HWY 2</td>\n",
       "      <td>GARFIELD RD</td>\n",
       "      <td>11900</td>\n",
       "      <td>NaN</td>\n",
       "      <td>...</td>\n",
       "      <td>No Injury Collision</td>\n",
       "      <td>NaN</td>\n",
       "      <td>0.0</td>\n",
       "      <td>0.0</td>\n",
       "      <td>2.0</td>\n",
       "      <td>1.0</td>\n",
       "      <td>0.0</td>\n",
       "      <td>0.0</td>\n",
       "      <td>0.0</td>\n",
       "      <td>0.0</td>\n",
       "    </tr>\n",
       "    <tr>\n",
       "      <th>3</th>\n",
       "      <td>EC28579</td>\n",
       "      <td>1/1/2022 12:33:00 AM</td>\n",
       "      <td>Spokane</td>\n",
       "      <td>Airway Heights</td>\n",
       "      <td>State Road</td>\n",
       "      <td>Municipal/City Police</td>\n",
       "      <td>HWY 2</td>\n",
       "      <td>GARFIELD RD</td>\n",
       "      <td>11900</td>\n",
       "      <td>NaN</td>\n",
       "      <td>...</td>\n",
       "      <td>No Injury Collision</td>\n",
       "      <td>NaN</td>\n",
       "      <td>1.0</td>\n",
       "      <td>0.0</td>\n",
       "      <td>2.0</td>\n",
       "      <td>1.0</td>\n",
       "      <td>0.0</td>\n",
       "      <td>0.0</td>\n",
       "      <td>0.0</td>\n",
       "      <td>0.0</td>\n",
       "    </tr>\n",
       "    <tr>\n",
       "      <th>4</th>\n",
       "      <td>EC09574</td>\n",
       "      <td>1/1/2022 12:48:00 AM</td>\n",
       "      <td>Grant</td>\n",
       "      <td>Mattawa</td>\n",
       "      <td>State Road</td>\n",
       "      <td>State Patrol</td>\n",
       "      <td>SR 243</td>\n",
       "      <td>MORRISON ROAD</td>\n",
       "      <td>NaN</td>\n",
       "      <td>18.00</td>\n",
       "      <td>...</td>\n",
       "      <td>No Injury Collision</td>\n",
       "      <td>none</td>\n",
       "      <td>1.0</td>\n",
       "      <td>1.0</td>\n",
       "      <td>2.0</td>\n",
       "      <td>1.0</td>\n",
       "      <td>0.0</td>\n",
       "      <td>0.0</td>\n",
       "      <td>0.0</td>\n",
       "      <td>0.0</td>\n",
       "    </tr>\n",
       "    <tr>\n",
       "      <th>...</th>\n",
       "      <td>...</td>\n",
       "      <td>...</td>\n",
       "      <td>...</td>\n",
       "      <td>...</td>\n",
       "      <td>...</td>\n",
       "      <td>...</td>\n",
       "      <td>...</td>\n",
       "      <td>...</td>\n",
       "      <td>...</td>\n",
       "      <td>...</td>\n",
       "      <td>...</td>\n",
       "      <td>...</td>\n",
       "      <td>...</td>\n",
       "      <td>...</td>\n",
       "      <td>...</td>\n",
       "      <td>...</td>\n",
       "      <td>...</td>\n",
       "      <td>...</td>\n",
       "      <td>...</td>\n",
       "      <td>...</td>\n",
       "      <td>...</td>\n",
       "    </tr>\n",
       "    <tr>\n",
       "      <th>44601</th>\n",
       "      <td>ED20862</td>\n",
       "      <td>12/30/2022 11:25:00 PM</td>\n",
       "      <td>Clark</td>\n",
       "      <td>Vancouver</td>\n",
       "      <td>State Road</td>\n",
       "      <td>State Patrol</td>\n",
       "      <td>I-205</td>\n",
       "      <td>PADDEN PARKWAY</td>\n",
       "      <td>NaN</td>\n",
       "      <td>34.85</td>\n",
       "      <td>...</td>\n",
       "      <td>No Injury Collision</td>\n",
       "      <td>NaN</td>\n",
       "      <td>0.0</td>\n",
       "      <td>1.0</td>\n",
       "      <td>2.0</td>\n",
       "      <td>1.0</td>\n",
       "      <td>0.0</td>\n",
       "      <td>0.0</td>\n",
       "      <td>0.0</td>\n",
       "      <td>0.0</td>\n",
       "    </tr>\n",
       "    <tr>\n",
       "      <th>44602</th>\n",
       "      <td>ED21608</td>\n",
       "      <td>12/30/2022 11:33:00 PM</td>\n",
       "      <td>Cowlitz</td>\n",
       "      <td>Woodland</td>\n",
       "      <td>State Road</td>\n",
       "      <td>State Patrol</td>\n",
       "      <td>INTERSTATE 5</td>\n",
       "      <td>DIKE ROAD</td>\n",
       "      <td>NaN</td>\n",
       "      <td>22.80</td>\n",
       "      <td>...</td>\n",
       "      <td>No Injury Collision</td>\n",
       "      <td>Guardrail</td>\n",
       "      <td>1.0</td>\n",
       "      <td>0.0</td>\n",
       "      <td>1.0</td>\n",
       "      <td>0.0</td>\n",
       "      <td>0.0</td>\n",
       "      <td>0.0</td>\n",
       "      <td>0.0</td>\n",
       "      <td>0.0</td>\n",
       "    </tr>\n",
       "    <tr>\n",
       "      <th>44603</th>\n",
       "      <td>ED20667</td>\n",
       "      <td>12/30/2022 11:50:00 PM</td>\n",
       "      <td>King</td>\n",
       "      <td>North Bend</td>\n",
       "      <td>State Road</td>\n",
       "      <td>State Patrol</td>\n",
       "      <td>WB I-90</td>\n",
       "      <td>MP 53</td>\n",
       "      <td>NaN</td>\n",
       "      <td>53.00</td>\n",
       "      <td>...</td>\n",
       "      <td>No Injury Collision</td>\n",
       "      <td>Over Embankment</td>\n",
       "      <td>1.0</td>\n",
       "      <td>0.0</td>\n",
       "      <td>2.0</td>\n",
       "      <td>1.0</td>\n",
       "      <td>0.0</td>\n",
       "      <td>0.0</td>\n",
       "      <td>0.0</td>\n",
       "      <td>0.0</td>\n",
       "    </tr>\n",
       "    <tr>\n",
       "      <th>44604</th>\n",
       "      <td>ED21604</td>\n",
       "      <td>12/30/2022 11:51:00 PM</td>\n",
       "      <td>King</td>\n",
       "      <td>Federal Way</td>\n",
       "      <td>State Road</td>\n",
       "      <td>State Patrol</td>\n",
       "      <td>SOUTHBOUND I-5</td>\n",
       "      <td>W/B STATE ROUTE 18</td>\n",
       "      <td>NaN</td>\n",
       "      <td>143.00</td>\n",
       "      <td>...</td>\n",
       "      <td>No Injury Collision</td>\n",
       "      <td>NaN</td>\n",
       "      <td>1.0</td>\n",
       "      <td>1.0</td>\n",
       "      <td>2.0</td>\n",
       "      <td>0.0</td>\n",
       "      <td>0.0</td>\n",
       "      <td>0.0</td>\n",
       "      <td>0.0</td>\n",
       "      <td>0.0</td>\n",
       "    </tr>\n",
       "    <tr>\n",
       "      <th>44605</th>\n",
       "      <td>ED22593</td>\n",
       "      <td>12/30/2022 11:51:00 PM</td>\n",
       "      <td>King</td>\n",
       "      <td>Snohomish</td>\n",
       "      <td>State Road</td>\n",
       "      <td>State Patrol</td>\n",
       "      <td>WB I-90</td>\n",
       "      <td>HYAK</td>\n",
       "      <td>NaN</td>\n",
       "      <td>53.00</td>\n",
       "      <td>...</td>\n",
       "      <td>No Injury Collision</td>\n",
       "      <td>Concrete/Jersey Barrier</td>\n",
       "      <td>0.0</td>\n",
       "      <td>0.0</td>\n",
       "      <td>2.0</td>\n",
       "      <td>1.0</td>\n",
       "      <td>1.0</td>\n",
       "      <td>0.0</td>\n",
       "      <td>0.0</td>\n",
       "      <td>0.0</td>\n",
       "    </tr>\n",
       "  </tbody>\n",
       "</table>\n",
       "<p>44606 rows × 24 columns</p>\n",
       "</div>"
      ],
      "text/plain": [
       "      Collision Report Number          Collision Date   County  \\\n",
       "0                     EC12134    1/1/2022 12:13:00 AM     King   \n",
       "1                     EC09140    1/1/2022 12:26:00 AM   Kitsap   \n",
       "2                     EC28579    1/1/2022 12:33:00 AM  Spokane   \n",
       "3                     EC28579    1/1/2022 12:33:00 AM  Spokane   \n",
       "4                     EC09574    1/1/2022 12:48:00 AM    Grant   \n",
       "...                       ...                     ...      ...   \n",
       "44601                 ED20862  12/30/2022 11:25:00 PM    Clark   \n",
       "44602                 ED21608  12/30/2022 11:33:00 PM  Cowlitz   \n",
       "44603                 ED20667  12/30/2022 11:50:00 PM     King   \n",
       "44604                 ED21604  12/30/2022 11:51:00 PM     King   \n",
       "44605                 ED22593  12/30/2022 11:51:00 PM     King   \n",
       "\n",
       "                 City Jurisdiction                 Agency  \\\n",
       "0            Bellevue   State Road           State Patrol   \n",
       "1           Bremerton   State Road           State Patrol   \n",
       "2      Airway Heights   State Road  Municipal/City Police   \n",
       "3      Airway Heights   State Road  Municipal/City Police   \n",
       "4             Mattawa   State Road           State Patrol   \n",
       "...               ...          ...                    ...   \n",
       "44601       Vancouver   State Road           State Patrol   \n",
       "44602        Woodland   State Road           State Patrol   \n",
       "44603      North Bend   State Road           State Patrol   \n",
       "44604     Federal Way   State Road           State Patrol   \n",
       "44605       Snohomish   State Road           State Patrol   \n",
       "\n",
       "         Primary Trafficway  Secondary Trafficway Block Number  Mile Post  \\\n",
       "0      WB I 90               FROM SB I-405                 NaN       9.72   \n",
       "1      SR 3                                   NaN          NaN      36.00   \n",
       "2      HWY 2                 GARFIELD RD                 11900        NaN   \n",
       "3      HWY 2                 GARFIELD RD                 11900        NaN   \n",
       "4      SR 243                MORRISON ROAD                 NaN      18.00   \n",
       "...                     ...                   ...          ...        ...   \n",
       "44601  I-205                 PADDEN PARKWAY                NaN      34.85   \n",
       "44602  INTERSTATE 5          DIKE ROAD                     NaN      22.80   \n",
       "44603  WB I-90               MP 53                         NaN      53.00   \n",
       "44604  SOUTHBOUND I-5        W/B STATE ROUTE 18            NaN     143.00   \n",
       "44605  WB I-90               HYAK                          NaN      53.00   \n",
       "\n",
       "       ...      Injury Severity            Object Struck Damage Threshold Met  \\\n",
       "0      ...  No Injury Collision                  barrier                  1.0   \n",
       "1      ...  No Injury Collision  Concrete/Jersey Barrier                  1.0   \n",
       "2      ...  No Injury Collision                      NaN                  0.0   \n",
       "3      ...  No Injury Collision                      NaN                  1.0   \n",
       "4      ...  No Injury Collision                     none                  1.0   \n",
       "...    ...                  ...                      ...                  ...   \n",
       "44601  ...  No Injury Collision                      NaN                  0.0   \n",
       "44602  ...  No Injury Collision                Guardrail                  1.0   \n",
       "44603  ...  No Injury Collision          Over Embankment                  1.0   \n",
       "44604  ...  No Injury Collision                      NaN                  1.0   \n",
       "44605  ...  No Injury Collision  Concrete/Jersey Barrier                  0.0   \n",
       "\n",
       "      Hit and Run Motor Vehicles Involved Passengers Involved  \\\n",
       "0             0.0                     1.0                 0.0   \n",
       "1             0.0                     1.0                 0.0   \n",
       "2             0.0                     2.0                 1.0   \n",
       "3             0.0                     2.0                 1.0   \n",
       "4             1.0                     2.0                 1.0   \n",
       "...           ...                     ...                 ...   \n",
       "44601         1.0                     2.0                 1.0   \n",
       "44602         0.0                     1.0                 0.0   \n",
       "44603         0.0                     2.0                 1.0   \n",
       "44604         1.0                     2.0                 0.0   \n",
       "44605         0.0                     2.0                 1.0   \n",
       "\n",
       "       Commercial Carrier Involved  School Bus Involved  Pedestrians Involved  \\\n",
       "0                              0.0                  0.0                   0.0   \n",
       "1                              0.0                  0.0                   0.0   \n",
       "2                              0.0                  0.0                   0.0   \n",
       "3                              0.0                  0.0                   0.0   \n",
       "4                              0.0                  0.0                   0.0   \n",
       "...                            ...                  ...                   ...   \n",
       "44601                          0.0                  0.0                   0.0   \n",
       "44602                          0.0                  0.0                   0.0   \n",
       "44603                          0.0                  0.0                   0.0   \n",
       "44604                          0.0                  0.0                   0.0   \n",
       "44605                          1.0                  0.0                   0.0   \n",
       "\n",
       "       Pedalcyclists Involved  \n",
       "0                         0.0  \n",
       "1                         0.0  \n",
       "2                         0.0  \n",
       "3                         0.0  \n",
       "4                         0.0  \n",
       "...                       ...  \n",
       "44601                     0.0  \n",
       "44602                     0.0  \n",
       "44603                     0.0  \n",
       "44604                     0.0  \n",
       "44605                     0.0  \n",
       "\n",
       "[44606 rows x 24 columns]"
      ]
     },
<<<<<<< HEAD
     "execution_count": 85,
=======
     "execution_count": 97,
>>>>>>> 887c8019f7a43b753c27014c4933287e8e68cb38
>>>>>>> f2cb805e577da5f6d91d862a1c2d7471d5cd2630
     "metadata": {},
     "output_type": "execute_result"
    }
   ],
   "source": [
<<<<<<< HEAD
    "Car_Crash.head()[[\"County\",\"City\"]]"
=======
    "Car_Crash = clean_crash_summary(\"https://docs.google.com/spreadsheets/d/e/2PACX-1vRJhryMDLGWP2PxsaXiDYb5PdBN_vmZxV0aieOFUJNuD5OBBJTR927qUVRnPFBg_5iDbFgxWzDWPvC9/pub?output=csv\")\n",
    "Car_Crash.reindex(np.arange(len(Car_Crash)))"
>>>>>>> 887c8019f7a43b753c27014c4933287e8e68cb38
   ]
  },
  {
   "cell_type": "code",
<<<<<<< HEAD
   "execution_count": 86,
=======
<<<<<<< HEAD
   "execution_count": 168,
=======
   "execution_count": 98,
>>>>>>> f2cb805e577da5f6d91d862a1c2d7471d5cd2630
   "id": "3fc5e7db-82f9-4d95-a528-72a9d9e96498",
   "metadata": {
    "scrolled": true
   },
   "outputs": [],
   "source": [
    "validSR = AADT['StateRouteNumber'].unique().tolist()\n",
    "Trafficway = [\"Primary Trafficway\",\"Secondary Trafficway\"]\n",
    "dict = {\n",
    "  0: [],\n",
    "  1: [],\n",
    "}"
   ]
  },
  {
   "cell_type": "code",
<<<<<<< HEAD
   "execution_count": 87,
=======
   "execution_count": 99,
>>>>>>> 887c8019f7a43b753c27014c4933287e8e68cb38
>>>>>>> f2cb805e577da5f6d91d862a1c2d7471d5cd2630
   "id": "0c6d9cf9-c657-4a1f-9ef9-54dec2b83cf3",
   "metadata": {
    "scrolled": true
   },
   "outputs": [],
   "source": [
    "for i in np.arange(2):\n",
    "\n",
    "    for x in Car_Crash[Trafficway[i]]:\n",
    "        #Gets the state roads numbers from the primary trafficway. Has to match \"[String of nondigit text]integer\" \n",
    "        #Does remove some values that don't follow road convenient of state roads. Does account for roads like 123th Highway\n",
    "        if type(x) == str:\n",
    "            if (not re.match(\"\\D+\\d+\", x) == None):\n",
    "                if int(re.findall(r'\\d+', x)[0]) in validSR:\n",
    "                    dict[i].append(int(re.findall(r'\\d+', x)[0]))\n",
    "                else:\n",
    "                    dict[i].append(None)\n",
    "            else:\n",
    "                dict[i].append(None)\n",
    "        else:\n",
    "            dict[i].append(None)\n",
    "\n",
    "State_Road_Num = []\n",
    "for x in np.arange(len(dict[0])):\n",
    "    #From the 2 lists of state road numbers, it will first the state road number of the primary trafficway\n",
    "    #If that is not available, it takes the state road number of the secondary trafficway\n",
    "    if not dict[0][x] == None:\n",
    "        State_Road_Num.append(dict[0][x])\n",
    "    else:\n",
    "        State_Road_Num.append(dict[1][x])"
   ]
  },
  {
   "cell_type": "code",
<<<<<<< HEAD
   "execution_count": 88,
   "id": "c2fef5c3-2fa5-470e-9364-65e2df2fc345",
   "metadata": {
    "scrolled": true
   },
   "outputs": [
    {
     "data": {
      "text/plain": [
       "0.02654351432542707"
      ]
     },
     "execution_count": 88,
     "metadata": {},
     "output_type": "execute_result"
    }
   ],
   "source": [
    "State_Road_Num.count(None) / float(len(State_Road_Num))"
   ]
  },
  {
   "cell_type": "code",
   "execution_count": 89,
=======
<<<<<<< HEAD
   "execution_count": 216,
=======
   "execution_count": 100,
>>>>>>> 887c8019f7a43b753c27014c4933287e8e68cb38
>>>>>>> f2cb805e577da5f6d91d862a1c2d7471d5cd2630
   "id": "48a7bb28-b4ae-4351-9fcf-e1220bdd9b34",
   "metadata": {},
   "outputs": [
    {
     "data": {
      "text/html": [
       "<div>\n",
       "<style scoped>\n",
       "    .dataframe tbody tr th:only-of-type {\n",
       "        vertical-align: middle;\n",
       "    }\n",
       "\n",
       "    .dataframe tbody tr th {\n",
       "        vertical-align: top;\n",
       "    }\n",
       "\n",
       "    .dataframe thead th {\n",
       "        text-align: right;\n",
       "    }\n",
       "</style>\n",
       "<table border=\"1\" class=\"dataframe\">\n",
       "  <thead>\n",
       "    <tr style=\"text-align: right;\">\n",
       "      <th></th>\n",
       "      <th>Primary Road Number</th>\n",
       "      <th>Secondary Road Number</th>\n",
       "      <th>Associated State Road Number</th>\n",
       "    </tr>\n",
       "  </thead>\n",
       "  <tbody>\n",
       "    <tr>\n",
       "      <th>0</th>\n",
       "      <td>90.0</td>\n",
       "      <td>405.0</td>\n",
       "      <td>90.0</td>\n",
       "    </tr>\n",
       "    <tr>\n",
       "      <th>1</th>\n",
       "      <td>3.0</td>\n",
       "      <td>NaN</td>\n",
       "      <td>3.0</td>\n",
       "    </tr>\n",
       "    <tr>\n",
       "      <th>2</th>\n",
       "      <td>2.0</td>\n",
       "      <td>NaN</td>\n",
       "      <td>2.0</td>\n",
       "    </tr>\n",
       "    <tr>\n",
       "      <th>3</th>\n",
       "      <td>2.0</td>\n",
       "      <td>NaN</td>\n",
       "      <td>2.0</td>\n",
       "    </tr>\n",
       "    <tr>\n",
       "      <th>4</th>\n",
       "      <td>243.0</td>\n",
       "      <td>NaN</td>\n",
       "      <td>243.0</td>\n",
       "    </tr>\n",
       "  </tbody>\n",
       "</table>\n",
       "</div>"
      ],
      "text/plain": [
       "   Primary Road Number  Secondary Road Number  Associated State Road Number\n",
       "0                 90.0                  405.0                          90.0\n",
       "1                  3.0                    NaN                           3.0\n",
       "2                  2.0                    NaN                           2.0\n",
       "3                  2.0                    NaN                           2.0\n",
       "4                243.0                    NaN                         243.0"
      ]
     },
<<<<<<< HEAD
     "execution_count": 89,
=======
<<<<<<< HEAD
     "execution_count": 216,
=======
     "execution_count": 100,
>>>>>>> 887c8019f7a43b753c27014c4933287e8e68cb38
>>>>>>> f2cb805e577da5f6d91d862a1c2d7471d5cd2630
     "metadata": {},
     "output_type": "execute_result"
    }
   ],
   "source": [
<<<<<<< HEAD
    "Car_Crash = pd.read_csv(\"https://docs.google.com/spreadsheets/d/e/2PACX-1vRJhryMDLGWP2PxsaXiDYb5PdBN_vmZxV0aieOFUJNuD5OBBJTR927qUVRnPFBg_5iDbFgxWzDWPvC9/pub?output=csv\")\n",
=======
    "\n",
<<<<<<< HEAD
    "Car_Crash.insert(7,\"Primary Road Number\", dict[0])\n",
    "Car_Crash.insert(9,\"Secondary Road Number\", dict[1])\n",
=======
>>>>>>> 887c8019f7a43b753c27014c4933287e8e68cb38
    "Car_Crash.insert(7,\"Primary Road Number\", col1)\n",
    "Car_Crash.insert(9,\"Secondary Road Number\", col2)\n",
>>>>>>> f2cb805e577da5f6d91d862a1c2d7471d5cd2630
    "Car_Crash.insert(10, \"Associated State Road Number\", State_Road_Num)\n",
    "Car_Crash.head()[[\"Primary Road Number\",\"Secondary Road Number\",\"Associated State Road Number\"]]"
   ]
  },
  {
   "cell_type": "code",
<<<<<<< HEAD
   "execution_count": 92,
=======
<<<<<<< HEAD
   "execution_count": 170,
=======
   "execution_count": null,
   "id": "f37f2edd-130b-4175-8bf3-3bd0d5a3d073",
   "metadata": {},
   "outputs": [],
   "source": [
    "Car_Crash[\"Associated State Road Number\"].iloc[9018]"
   ]
  },
  {
   "cell_type": "code",
   "execution_count": 89,
>>>>>>> 887c8019f7a43b753c27014c4933287e8e68cb38
>>>>>>> f2cb805e577da5f6d91d862a1c2d7471d5cd2630
   "id": "11028b13-7a4b-49b5-8ee1-e2e0a53c619c",
   "metadata": {
    "scrolled": true
   },
<<<<<<< HEAD
   "outputs": [],
=======
<<<<<<< HEAD
   "outputs": [],
=======
   "outputs": [
    {
     "ename": "ValueError",
     "evalue": "cannot insert Mile Posts, already exists",
     "output_type": "error",
     "traceback": [
      "\u001b[0;31m---------------------------------------------------------------------------\u001b[0m",
      "\u001b[0;31mValueError\u001b[0m                                Traceback (most recent call last)",
      "\u001b[0;32m/tmp/ipykernel_570/3332813040.py\u001b[0m in \u001b[0;36m?\u001b[0;34m()\u001b[0m\n\u001b[1;32m      2\u001b[0m \u001b[0;32mfor\u001b[0m \u001b[0mx\u001b[0m \u001b[0;32min\u001b[0m \u001b[0mAADT\u001b[0m\u001b[0;34m[\u001b[0m\u001b[0;34m\"Location\"\u001b[0m\u001b[0;34m]\u001b[0m\u001b[0;34m:\u001b[0m\u001b[0;34m\u001b[0m\u001b[0;34m\u001b[0m\u001b[0m\n\u001b[1;32m      3\u001b[0m     \u001b[0mmatch\u001b[0m \u001b[0;34m=\u001b[0m \u001b[0mre\u001b[0m\u001b[0;34m.\u001b[0m\u001b[0msearch\u001b[0m\u001b[0;34m(\u001b[0m\u001b[0;34m\"(MILEPOST) (\\d+.\\d+)\"\u001b[0m\u001b[0;34m,\u001b[0m\u001b[0mx\u001b[0m\u001b[0;34m)\u001b[0m\u001b[0;34m\u001b[0m\u001b[0;34m\u001b[0m\u001b[0m\n\u001b[1;32m      4\u001b[0m     \u001b[0mmileposts\u001b[0m\u001b[0;34m.\u001b[0m\u001b[0mappend\u001b[0m\u001b[0;34m(\u001b[0m\u001b[0mfloat\u001b[0m\u001b[0;34m(\u001b[0m\u001b[0mmatch\u001b[0m\u001b[0;34m.\u001b[0m\u001b[0mgroup\u001b[0m\u001b[0;34m(\u001b[0m\u001b[0;36m2\u001b[0m\u001b[0;34m)\u001b[0m\u001b[0;34m)\u001b[0m\u001b[0;34m)\u001b[0m\u001b[0;34m\u001b[0m\u001b[0;34m\u001b[0m\u001b[0m\n\u001b[1;32m      5\u001b[0m \u001b[0;34m\u001b[0m\u001b[0m\n\u001b[0;32m----> 6\u001b[0;31m \u001b[0mAADT\u001b[0m\u001b[0;34m.\u001b[0m\u001b[0minsert\u001b[0m\u001b[0;34m(\u001b[0m\u001b[0;36m6\u001b[0m\u001b[0;34m,\u001b[0m \u001b[0;34m\"Mile Posts\"\u001b[0m\u001b[0;34m,\u001b[0m \u001b[0mmileposts\u001b[0m\u001b[0;34m)\u001b[0m\u001b[0;34m\u001b[0m\u001b[0;34m\u001b[0m\u001b[0m\n\u001b[0m",
      "\u001b[0;32m/opt/conda/lib/python3.10/site-packages/pandas/core/frame.py\u001b[0m in \u001b[0;36m?\u001b[0;34m(self, loc, column, value, allow_duplicates)\u001b[0m\n\u001b[1;32m   4927\u001b[0m                 \u001b[0;34m\"'self.flags.allows_duplicate_labels' is False.\"\u001b[0m\u001b[0;34m\u001b[0m\u001b[0;34m\u001b[0m\u001b[0m\n\u001b[1;32m   4928\u001b[0m             )\n\u001b[1;32m   4929\u001b[0m         \u001b[0;32mif\u001b[0m \u001b[0;32mnot\u001b[0m \u001b[0mallow_duplicates\u001b[0m \u001b[0;32mand\u001b[0m \u001b[0mcolumn\u001b[0m \u001b[0;32min\u001b[0m \u001b[0mself\u001b[0m\u001b[0;34m.\u001b[0m\u001b[0mcolumns\u001b[0m\u001b[0;34m:\u001b[0m\u001b[0;34m\u001b[0m\u001b[0;34m\u001b[0m\u001b[0m\n\u001b[1;32m   4930\u001b[0m             \u001b[0;31m# Should this be a different kind of error??\u001b[0m\u001b[0;34m\u001b[0m\u001b[0;34m\u001b[0m\u001b[0m\n\u001b[0;32m-> 4931\u001b[0;31m             \u001b[0;32mraise\u001b[0m \u001b[0mValueError\u001b[0m\u001b[0;34m(\u001b[0m\u001b[0;34mf\"cannot insert {column}, already exists\"\u001b[0m\u001b[0;34m)\u001b[0m\u001b[0;34m\u001b[0m\u001b[0;34m\u001b[0m\u001b[0m\n\u001b[0m\u001b[1;32m   4932\u001b[0m         \u001b[0;32mif\u001b[0m \u001b[0;32mnot\u001b[0m \u001b[0mis_integer\u001b[0m\u001b[0;34m(\u001b[0m\u001b[0mloc\u001b[0m\u001b[0;34m)\u001b[0m\u001b[0;34m:\u001b[0m\u001b[0;34m\u001b[0m\u001b[0;34m\u001b[0m\u001b[0m\n\u001b[1;32m   4933\u001b[0m             \u001b[0;32mraise\u001b[0m \u001b[0mTypeError\u001b[0m\u001b[0;34m(\u001b[0m\u001b[0;34m\"loc must be int\"\u001b[0m\u001b[0;34m)\u001b[0m\u001b[0;34m\u001b[0m\u001b[0;34m\u001b[0m\u001b[0m\n\u001b[1;32m   4934\u001b[0m         \u001b[0;31m# convert non stdlib ints to satisfy typing checks\u001b[0m\u001b[0;34m\u001b[0m\u001b[0;34m\u001b[0m\u001b[0m\n",
      "\u001b[0;31mValueError\u001b[0m: cannot insert Mile Posts, already exists"
     ]
    }
   ],
>>>>>>> 887c8019f7a43b753c27014c4933287e8e68cb38
>>>>>>> f2cb805e577da5f6d91d862a1c2d7471d5cd2630
   "source": [
    "mileposts = []\n",
    "for x in AADT[\"Location\"]:\n",
    "    match = re.search(\"(MILEPOST) (\\d+.\\d+)\",x)\n",
    "    mileposts.append(float(match.group(2)))\n",
    "\n",
    "AADT.insert(6, \"Mile Posts\", mileposts)"
   ]
  },
  {
   "cell_type": "code",
<<<<<<< HEAD
   "execution_count": 95,
=======
<<<<<<< HEAD
   "execution_count": 212,
=======
   "execution_count": 102,
>>>>>>> f2cb805e577da5f6d91d862a1c2d7471d5cd2630
   "id": "b54a5d6a-1944-4471-acbe-cc90066d7ab8",
   "metadata": {},
   "outputs": [
    {
     "data": {
      "text/plain": [
       "44606"
      ]
     },
     "execution_count": 95,
     "metadata": {},
     "output_type": "execute_result"
    }
   ],
   "source": [
    "len(Car_Crash['Associated State Road Number'])"
   ]
  },
  {
   "cell_type": "code",
<<<<<<< HEAD
   "execution_count": 96,
=======
   "execution_count": 112,
>>>>>>> 887c8019f7a43b753c27014c4933287e8e68cb38
>>>>>>> f2cb805e577da5f6d91d862a1c2d7471d5cd2630
   "id": "126bdbc4-cacd-4e98-b7b2-9c338cce990b",
   "metadata": {
    "scrolled": true
   },
   "outputs": [],
   "source": [
    "Crash_AADT = []\n",
    "for x in np.arange(len(Car_Crash)):\n",
<<<<<<< HEAD
    "    if not np.isnan(Car_Crash['Associated State Road Number'].iloc[x]):\n",
    "        if Car_Crash['Mile Post'].iloc[x] > -1:\n",
    "            SR = AADT[['Mile Posts', 'AADT']].loc[AADT['StateRouteNumber'] == Car_Crash['Associated State Road Number'].iloc[x]]\n",
    "            SR.index = np.arange(len(SR))\n",
    "            # Calculate absolute differences\n",
    "            abs_diff = np.abs(SR['Mile Posts'] - Car_Crash['Mile Post'].iloc[x])\n",
    "            \n",
    "            # Find the index of the minimum absolute difference\n",
    "            min_index = np.argmin(abs_diff)\n",
    "\n",
    "            Crash_AADT.append(SR['AADT'].iloc[min_index])\n",
=======
<<<<<<< HEAD
    "    if not Car_Crash['Associated State Road Number'][x] == None:\n",
    "        if Car_Crash['Mile Post'][x] > -1:\n",
    "            SR = AADT[['Mile Posts', 'AADT']].loc[AADT['StateRouteNumber'] == int(Car_Crash['Associated State Road Number'][x])]\n",
=======
    "    if not Car_Crash['Associated State Road Number'].iloc[x] == None:\n",
    "        if Car_Crash['Mile Post'].iloc[x] > -1:\n",
    "            SR = AADT[['Mile Posts', 'AADT']].loc[AADT['StateRouteNumber'] == int(Car_Crash['Associated State Road Number'].iloc[x])]\n",
>>>>>>> 887c8019f7a43b753c27014c4933287e8e68cb38
    "            if len(SR) > 0:\n",
    "                SR.index = np.arange(len(SR))\n",
    "                Dist = 100090\n",
    "                Best = -1\n",
    "                for y in np.arange(len(SR)):\n",
<<<<<<< HEAD
    "                    if (np.abs(SR['Mile Posts'][y]-Car_Crash['Mile Post'][x])) < Dist:\n",
    "                        Best = y\n",
    "                        Dist = np.abs(SR['Mile Posts'][y]-Car_Crash['Mile Post'][x])\n",
    "                Crash_AADT.append(SR['AADT'][Best])\n",
    "            else:\n",
    "                Crash_AADT.append(None)\n",
    "        else:\n",
    "            R = AADT['AADT'].loc[AADT['StateRouteNumber'] == int(Car_Crash['Associated State Road Number'][0])]\n",
=======
    "                    if (np.abs(SR['Mile Posts'].iloc[y]-Car_Crash['Mile Post'].iloc[x])) < Dist:\n",
    "                        Best = y\n",
    "                        Dist = np.abs(SR['Mile Posts'].iloc[y]-Car_Crash['Mile Post'].iloc[x])\n",
    "                Crash_AADT.append(SR['AADT'].iloc[Best])\n",
    "            else:\n",
    "                Crash_AADT.append(None)\n",
>>>>>>> f2cb805e577da5f6d91d862a1c2d7471d5cd2630
    "        else:\n",
    "            R = AADT['AADT'].loc[AADT['StateRouteNumber'] == int(Car_Crash['Associated State Road Number'].iloc[0])]\n",
>>>>>>> 887c8019f7a43b753c27014c4933287e8e68cb38
    "            Crash_AADT.append(R.median())\n",
    "    else:\n",
    "        Crash_AADT.append(None)"
   ]
  },
  {
   "cell_type": "code",
<<<<<<< HEAD
   "execution_count": 97,
=======
<<<<<<< HEAD
   "execution_count": 217,
=======
   "execution_count": 113,
>>>>>>> 887c8019f7a43b753c27014c4933287e8e68cb38
>>>>>>> f2cb805e577da5f6d91d862a1c2d7471d5cd2630
   "id": "c26253d8-fb86-4b28-918a-33fcc20fb53a",
   "metadata": {},
   "outputs": [],
   "source": [
    "Car_Crash.insert(Car_Crash.shape[1], \"AADT\", Crash_AADT)"
   ]
  },
  {
   "cell_type": "code",
<<<<<<< HEAD
   "execution_count": 98,
=======
<<<<<<< HEAD
   "execution_count": 218,
=======
   "execution_count": 114,
>>>>>>> 887c8019f7a43b753c27014c4933287e8e68cb38
>>>>>>> f2cb805e577da5f6d91d862a1c2d7471d5cd2630
   "id": "c157e878-2a63-48f9-9f2b-edaad73ff114",
   "metadata": {},
   "outputs": [
    {
     "data": {
      "text/html": [
       "<div>\n",
       "<style scoped>\n",
       "    .dataframe tbody tr th:only-of-type {\n",
       "        vertical-align: middle;\n",
       "    }\n",
       "\n",
       "    .dataframe tbody tr th {\n",
       "        vertical-align: top;\n",
       "    }\n",
       "\n",
       "    .dataframe thead th {\n",
       "        text-align: right;\n",
       "    }\n",
       "</style>\n",
       "<table border=\"1\" class=\"dataframe\">\n",
       "  <thead>\n",
       "    <tr style=\"text-align: right;\">\n",
       "      <th></th>\n",
       "      <th>Collision Report Number</th>\n",
       "      <th>Collision Date</th>\n",
       "      <th>County</th>\n",
       "      <th>City</th>\n",
       "      <th>Jurisdiction</th>\n",
       "      <th>Agency</th>\n",
       "      <th>Primary Trafficway</th>\n",
       "      <th>Primary Road Number</th>\n",
       "      <th>Secondary Trafficway</th>\n",
       "      <th>Secondary Road Number</th>\n",
       "      <th>...</th>\n",
       "      <th>Object Struck</th>\n",
       "      <th>Damage Threshold Met</th>\n",
       "      <th>Hit and Run</th>\n",
       "      <th>Motor Vehicles Involved</th>\n",
       "      <th>Passengers Involved</th>\n",
       "      <th>Commercial Carrier Involved</th>\n",
       "      <th>School Bus Involved</th>\n",
       "      <th>Pedestrians Involved</th>\n",
       "      <th>Pedalcyclists Involved</th>\n",
       "      <th>AADT</th>\n",
       "    </tr>\n",
       "  </thead>\n",
       "  <tbody>\n",
       "    <tr>\n",
       "      <th>0</th>\n",
       "      <td>EC12134</td>\n",
       "      <td>1/1/2022 12:13:00 AM</td>\n",
       "      <td>King</td>\n",
       "      <td>Bellevue</td>\n",
       "      <td>State Road</td>\n",
       "      <td>State Patrol</td>\n",
       "      <td>WB I 90</td>\n",
       "      <td>90.0</td>\n",
       "      <td>FROM SB I-405</td>\n",
       "      <td>405.0</td>\n",
       "      <td>...</td>\n",
       "      <td>barrier</td>\n",
<<<<<<< HEAD
       "      <td>Y</td>\n",
       "      <td>N</td>\n",
       "      <td>1</td>\n",
       "      <td>N</td>\n",
       "      <td>N</td>\n",
       "      <td>N</td>\n",
=======
       "      <td>1</td>\n",
       "      <td>0</td>\n",
       "      <td>1</td>\n",
       "      <td>0</td>\n",
       "      <td>0</td>\n",
       "      <td>0</td>\n",
>>>>>>> 887c8019f7a43b753c27014c4933287e8e68cb38
       "      <td>0</td>\n",
       "      <td>0</td>\n",
       "      <td>84000.0</td>\n",
       "    </tr>\n",
       "    <tr>\n",
       "      <th>1</th>\n",
       "      <td>EC09140</td>\n",
       "      <td>1/1/2022 12:26:00 AM</td>\n",
       "      <td>Kitsap</td>\n",
       "      <td>Bremerton</td>\n",
       "      <td>State Road</td>\n",
       "      <td>State Patrol</td>\n",
       "      <td>SR 3</td>\n",
       "      <td>3.0</td>\n",
       "      <td>NaN</td>\n",
       "      <td>NaN</td>\n",
       "      <td>...</td>\n",
       "      <td>Concrete/Jersey Barrier</td>\n",
<<<<<<< HEAD
       "      <td>Y</td>\n",
       "      <td>N</td>\n",
       "      <td>1</td>\n",
       "      <td>N</td>\n",
       "      <td>N</td>\n",
       "      <td>N</td>\n",
=======
       "      <td>1</td>\n",
       "      <td>0</td>\n",
       "      <td>1</td>\n",
       "      <td>0</td>\n",
       "      <td>0</td>\n",
       "      <td>0</td>\n",
>>>>>>> 887c8019f7a43b753c27014c4933287e8e68cb38
       "      <td>0</td>\n",
       "      <td>0</td>\n",
       "      <td>80000.0</td>\n",
       "    </tr>\n",
       "    <tr>\n",
       "      <th>2</th>\n",
       "      <td>EC28579</td>\n",
       "      <td>1/1/2022 12:33:00 AM</td>\n",
       "      <td>Spokane</td>\n",
       "      <td>Airway Heights</td>\n",
       "      <td>State Road</td>\n",
       "      <td>Municipal/City Police</td>\n",
       "      <td>HWY 2</td>\n",
       "      <td>2.0</td>\n",
       "      <td>GARFIELD RD</td>\n",
       "      <td>NaN</td>\n",
       "      <td>...</td>\n",
       "      <td>NaN</td>\n",
<<<<<<< HEAD
       "      <td>N</td>\n",
       "      <td>N</td>\n",
       "      <td>2</td>\n",
       "      <td>Y</td>\n",
       "      <td>N</td>\n",
       "      <td>N</td>\n",
=======
       "      <td>0</td>\n",
       "      <td>0</td>\n",
       "      <td>2</td>\n",
       "      <td>1</td>\n",
       "      <td>0</td>\n",
       "      <td>0</td>\n",
>>>>>>> 887c8019f7a43b753c27014c4933287e8e68cb38
       "      <td>0</td>\n",
       "      <td>0</td>\n",
       "      <td>5400.0</td>\n",
       "    </tr>\n",
       "    <tr>\n",
       "      <th>3</th>\n",
       "      <td>EC28579</td>\n",
       "      <td>1/1/2022 12:33:00 AM</td>\n",
       "      <td>Spokane</td>\n",
       "      <td>Airway Heights</td>\n",
       "      <td>State Road</td>\n",
       "      <td>Municipal/City Police</td>\n",
       "      <td>HWY 2</td>\n",
       "      <td>2.0</td>\n",
       "      <td>GARFIELD RD</td>\n",
       "      <td>NaN</td>\n",
       "      <td>...</td>\n",
       "      <td>NaN</td>\n",
<<<<<<< HEAD
       "      <td>Y</td>\n",
       "      <td>N</td>\n",
       "      <td>2</td>\n",
       "      <td>Y</td>\n",
       "      <td>N</td>\n",
       "      <td>N</td>\n",
=======
       "      <td>1</td>\n",
       "      <td>0</td>\n",
       "      <td>2</td>\n",
       "      <td>1</td>\n",
       "      <td>0</td>\n",
       "      <td>0</td>\n",
>>>>>>> 887c8019f7a43b753c27014c4933287e8e68cb38
       "      <td>0</td>\n",
       "      <td>0</td>\n",
       "      <td>5400.0</td>\n",
       "    </tr>\n",
       "    <tr>\n",
       "      <th>4</th>\n",
       "      <td>EC09574</td>\n",
       "      <td>1/1/2022 12:48:00 AM</td>\n",
       "      <td>Grant</td>\n",
       "      <td>Mattawa</td>\n",
       "      <td>State Road</td>\n",
       "      <td>State Patrol</td>\n",
       "      <td>SR 243</td>\n",
       "      <td>243.0</td>\n",
       "      <td>MORRISON ROAD</td>\n",
       "      <td>NaN</td>\n",
       "      <td>...</td>\n",
       "      <td>none</td>\n",
<<<<<<< HEAD
       "      <td>Y</td>\n",
       "      <td>Y</td>\n",
       "      <td>2</td>\n",
       "      <td>Y</td>\n",
       "      <td>N</td>\n",
       "      <td>N</td>\n",
=======
       "      <td>1</td>\n",
       "      <td>1</td>\n",
       "      <td>2</td>\n",
       "      <td>1</td>\n",
       "      <td>0</td>\n",
       "      <td>0</td>\n",
>>>>>>> 887c8019f7a43b753c27014c4933287e8e68cb38
       "      <td>0</td>\n",
       "      <td>0</td>\n",
       "      <td>5200.0</td>\n",
       "    </tr>\n",
       "  </tbody>\n",
       "</table>\n",
<<<<<<< HEAD
       "<p>5 rows × 29 columns</p>\n",
=======
       "<p>5 rows × 28 columns</p>\n",
>>>>>>> 887c8019f7a43b753c27014c4933287e8e68cb38
       "</div>"
      ],
      "text/plain": [
       "  Collision Report Number        Collision Date   County            City  \\\n",
       "0                 EC12134  1/1/2022 12:13:00 AM     King        Bellevue   \n",
       "1                 EC09140  1/1/2022 12:26:00 AM   Kitsap       Bremerton   \n",
       "2                 EC28579  1/1/2022 12:33:00 AM  Spokane  Airway Heights   \n",
       "3                 EC28579  1/1/2022 12:33:00 AM  Spokane  Airway Heights   \n",
       "4                 EC09574  1/1/2022 12:48:00 AM    Grant         Mattawa   \n",
       "\n",
       "  Jurisdiction                 Agency    Primary Trafficway  \\\n",
       "0   State Road           State Patrol  WB I 90                \n",
       "1   State Road           State Patrol  SR 3                   \n",
       "2   State Road  Municipal/City Police  HWY 2                  \n",
       "3   State Road  Municipal/City Police  HWY 2                  \n",
       "4   State Road           State Patrol  SR 243                 \n",
       "\n",
       "   Primary Road Number  Secondary Trafficway  Secondary Road Number  ...  \\\n",
       "0                 90.0  FROM SB I-405                         405.0  ...   \n",
       "1                  3.0                   NaN                    NaN  ...   \n",
       "2                  2.0  GARFIELD RD                             NaN  ...   \n",
       "3                  2.0  GARFIELD RD                             NaN  ...   \n",
       "4                243.0  MORRISON ROAD                           NaN  ...   \n",
       "\n",
       "             Object Struck Damage Threshold Met  Hit and Run  \\\n",
<<<<<<< HEAD
       "0                  barrier                    Y            N   \n",
       "1  Concrete/Jersey Barrier                    Y            N   \n",
       "2                      NaN                    N            N   \n",
       "3                      NaN                    Y            N   \n",
       "4                     none                    Y            Y   \n",
       "\n",
       "  Motor Vehicles Involved Passengers Involved Commercial Carrier Involved  \\\n",
       "0                       1                   N                           N   \n",
       "1                       1                   N                           N   \n",
       "2                       2                   Y                           N   \n",
       "3                       2                   Y                           N   \n",
       "4                       2                   Y                           N   \n",
       "\n",
       "  School Bus Involved Pedestrians Involved  Pedalcyclists Involved     AADT  \n",
       "0                   N                    0                       0  84000.0  \n",
       "1                   N                    0                       0  80000.0  \n",
       "2                   N                    0                       0   5400.0  \n",
       "3                   N                    0                       0   5400.0  \n",
       "4                   N                    0                       0   5200.0  \n",
       "\n",
       "[5 rows x 29 columns]"
      ]
     },
     "execution_count": 218,
=======
       "0                  barrier                    1            0   \n",
       "1  Concrete/Jersey Barrier                    1            0   \n",
       "2                      NaN                    0            0   \n",
       "3                      NaN                    1            0   \n",
       "4                     none                    1            1   \n",
       "\n",
       "   Motor Vehicles Involved  Passengers Involved Commercial Carrier Involved  \\\n",
       "0                        1                    0                           0   \n",
       "1                        1                    0                           0   \n",
       "2                        2                    1                           0   \n",
       "3                        2                    1                           0   \n",
       "4                        2                    1                           0   \n",
       "\n",
       "  School Bus Involved Pedestrians Involved Pedalcyclists Involved     AADT  \n",
       "0                   0                    0                      0  84000.0  \n",
       "1                   0                    0                      0  80000.0  \n",
       "2                   0                    0                      0   5400.0  \n",
       "3                   0                    0                      0   5400.0  \n",
       "4                   0                    0                      0   5200.0  \n",
       "\n",
       "[5 rows x 28 columns]"
      ]
     },
<<<<<<< HEAD
     "execution_count": 98,
=======
     "execution_count": 114,
>>>>>>> 887c8019f7a43b753c27014c4933287e8e68cb38
>>>>>>> f2cb805e577da5f6d91d862a1c2d7471d5cd2630
     "metadata": {},
     "output_type": "execute_result"
    }
   ],
   "source": [
    "Car_Crash.head()"
   ]
  },
  {
   "cell_type": "code",
<<<<<<< HEAD
   "execution_count": 99,
=======
<<<<<<< HEAD
   "execution_count": 198,
=======
   "execution_count": 115,
>>>>>>> 887c8019f7a43b753c27014c4933287e8e68cb38
>>>>>>> f2cb805e577da5f6d91d862a1c2d7471d5cd2630
   "id": "cffaf88b-69dd-4cf4-a7be-3c902a83260d",
   "metadata": {},
   "outputs": [
    {
     "data": {
      "text/plain": [
       "Collision Report Number                      EC21598\n",
       "Collision Date                  2/4/2022 12:05:00 PM\n",
       "County                                         Clark\n",
       "City                                       Vancouver\n",
       "Jurisdiction                              State Road\n",
       "Agency                                  State Patrol\n",
       "Primary Trafficway                               503\n",
       "Primary Road Number                              NaN\n",
       "Secondary Trafficway            NE 65T ST           \n",
       "Secondary Road Number                            NaN\n",
       "Associated State Road Number                     NaN\n",
       "Block Number                                     NaN\n",
       "Mile Post                                        0.2\n",
<<<<<<< HEAD
       "School Zone                                        N\n",
       "Intersection Related                               Y\n",
       "Weather Condition                           Overcast\n",
       "Lighting Condition                          Daylight\n",
       "Injury Severity                  No Injury Collision\n",
       "Collision Type                                   NaN\n",
       "Object Struck                                    NaN\n",
       "Damage Threshold Met                               Y\n",
       "Hit and Run                                        Y\n",
       "Motor Vehicles Involved                            2\n",
       "Passengers Involved                                N\n",
       "Commercial Carrier Involved                        N\n",
       "School Bus Involved                                N\n",
       "Pedestrians Involved                               0\n",
       "Pedalcyclists Involved                             0\n",
       "Name: 3594, dtype: object"
      ]
     },
     "execution_count": 198,
=======
       "School Zone                                        0\n",
       "Intersection Related                               1\n",
       "Weather Condition                           Overcast\n",
       "Lighting Condition                          Daylight\n",
       "Injury Severity                  No Injury Collision\n",
       "Object Struck                                    NaN\n",
       "Damage Threshold Met                               1\n",
       "Hit and Run                                        1\n",
       "Motor Vehicles Involved                            2\n",
       "Passengers Involved                                0\n",
       "Commercial Carrier Involved                        0\n",
       "School Bus Involved                                0\n",
       "Pedestrians Involved                               0\n",
       "Pedalcyclists Involved                             0\n",
       "AADT                                             NaN\n",
       "Name: 3594, dtype: object"
      ]
     },
<<<<<<< HEAD
     "execution_count": 99,
=======
     "execution_count": 115,
>>>>>>> 887c8019f7a43b753c27014c4933287e8e68cb38
>>>>>>> f2cb805e577da5f6d91d862a1c2d7471d5cd2630
     "metadata": {},
     "output_type": "execute_result"
    }
   ],
   "source": [
    "Car_Crash.iloc[3594]"
   ]
  },
  {
   "cell_type": "code",
<<<<<<< HEAD
   "execution_count": 100,
=======
<<<<<<< HEAD
   "execution_count": null,
   "id": "c93f62b6-5dc2-440a-8008-b55a5299b0cf",
=======
   "execution_count": 116,
>>>>>>> f2cb805e577da5f6d91d862a1c2d7471d5cd2630
   "id": "badf47f0-72bf-4663-8a54-1d2e83780e4f",
   "metadata": {},
   "outputs": [
    {
     "data": {
      "text/plain": [
       "1184"
      ]
     },
     "execution_count": 100,
     "metadata": {},
     "output_type": "execute_result"
    }
   ],
   "source": [
    "Car_Crash[\"AADT\"].isna().sum()"
   ]
  },
  {
   "cell_type": "code",
   "execution_count": 101,
   "id": "c7c1879d-a47b-4ba9-bb08-c7ccdef281b1",
   "metadata": {},
   "outputs": [
    {
     "data": {
      "text/plain": [
       "44606.0"
      ]
     },
     "execution_count": 101,
     "metadata": {},
     "output_type": "execute_result"
    }
   ],
   "source": [
    "float(len(Car_Crash[\"AADT\"]))"
   ]
  },
  {
   "cell_type": "code",
   "execution_count": 103,
   "id": "08c89cd5-6a1a-42a2-9276-5ba3db6ac4a3",
   "metadata": {},
   "outputs": [
    {
     "data": {
      "text/plain": [
       "0.9734564856745729"
      ]
     },
     "execution_count": 103,
     "metadata": {},
     "output_type": "execute_result"
    }
   ],
   "source": [
    "(float(len(Car_Crash[\"AADT\"])) - Car_Crash[\"AADT\"].isna().sum())/float(len(Car_Crash[\"AADT\"]))"
   ]
  },
  {
   "cell_type": "code",
   "execution_count": 104,
   "id": "1a52abb6-c660-4ac8-8136-27c974245cc8",
   "metadata": {},
   "outputs": [],
   "source": [
    "Car_Crash.dropna(subset=['AADT'], inplace=True)"
   ]
  },
  {
   "cell_type": "code",
   "execution_count": 105,
   "id": "f1171de0-8af2-495c-8b6a-a3d33ebbefa1",
   "metadata": {},
   "outputs": [],
   "source": [
    "Car_Crash.to_csv('Car_Crash_Cleaned_AADT.csv', index=False)"
   ]
  },
  {
   "cell_type": "code",
   "execution_count": null,
<<<<<<< HEAD
   "id": "3e50df25-875c-4ce9-8f39-7be4f24eed76",
=======
   "id": "80f62f42-4085-4e0b-a216-55913126aade",
>>>>>>> 887c8019f7a43b753c27014c4933287e8e68cb38
>>>>>>> f2cb805e577da5f6d91d862a1c2d7471d5cd2630
   "metadata": {},
   "outputs": [],
   "source": []
  }
 ],
 "metadata": {
  "kernelspec": {
   "display_name": "Python 3 (ipykernel)",
   "language": "python",
   "name": "python3"
  },
  "language_info": {
   "codemirror_mode": {
    "name": "ipython",
    "version": 3
   },
   "file_extension": ".py",
   "mimetype": "text/x-python",
   "name": "python",
   "nbconvert_exporter": "python",
   "pygments_lexer": "ipython3",
   "version": "3.10.13"
  }
 },
 "nbformat": 4,
 "nbformat_minor": 5
}
