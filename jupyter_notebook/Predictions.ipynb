{
 "cells": [
  {
   "cell_type": "code",
   "execution_count": 43,
   "id": "442ce37a-98bd-4f43-bea9-c3495a9777f5",
   "metadata": {},
   "outputs": [],
   "source": [
    "from sklearn.model_selection import train_test_split\n",
    "from sklearn.metrics import confusion_matrix, classification_report\n",
    "from sklearn.naive_bayes import *\n",
    "from sklearn.linear_model import LinearRegression\n",
    "import statsmodels.api as sm\n",
    "import pandas as pd\n",
    "import numpy as np\n",
    "import seaborn as sns\n",
    "import matplotlib.pyplot as plt\n",
    "from scipy import stats as st\n",
    "from statsmodels.stats.diagnostic import het_breuschpagan"
   ]
  },
  {
   "cell_type": "code",
   "execution_count": 14,
   "id": "fd16a27c-8dae-46ef-a162-1736b6c408a8",
   "metadata": {
    "scrolled": true
   },
   "outputs": [],
   "source": [
    "Data = pd.read_csv(\"Car_Crash_Cleaned_AADT.csv\")"
   ]
  },
  {
   "cell_type": "code",
   "execution_count": 15,
   "id": "8767cfe1-772f-485c-8712-d3c807c373c2",
   "metadata": {},
   "outputs": [],
   "source": [
    "def PredictionReport(X_values: pd.DataFrame, Y_values: pd.DataFrame, classifier: str = \"Gaussian\") -> None:\n",
    "    Observation = X_values.to_numpy()\n",
    "    Results = Y_values.to_numpy().ravel()\n",
    "    X_train, X_test, y_train, y_test = train_test_split(Observation, Results, test_size=0.2, random_state=0)\n",
    "    \n",
    "    gnb = GaussianNB()\n",
    "    if classifier == \"Multinomial\":\n",
    "        gnb = MultinomialNB()\n",
    "    elif classifier == \"Complement\":\n",
    "        gnb = ComplementNB()\n",
    "    elif classifier == \"Categorical\":\n",
    "        gnb = CategoricalNB()\n",
    "        \n",
    "    y_pred = gnb.fit(X_train, y_train).predict(X_test)\n",
    "    print(\"Number of mislabeled points out of a total %d points : %d\"\n",
    "          % (X_test.shape[0], (y_test != y_pred).sum()))\n",
    "    conf_matrix = confusion_matrix(y_test, y_pred)\n",
    "    \n",
    "    # Generate classification report\n",
    "    class_report = classification_report(y_test, y_pred)\n",
    "    \n",
    "    # Print classification report\n",
    "    print(\"\\nClassification Report:\")\n",
    "    print(class_report)\n",
    "    values_index = Y_values['Injury Severity'].unique().tolist()\n",
    "    values_index.sort()\n",
    "    cm_df = pd.DataFrame(conf_matrix,\n",
    "                     index = values_index, \n",
    "                     columns = values_index)\n",
    "    #Plotting the confusion matrix\n",
    "    plt.figure(figsize=(5,4))\n",
    "    sns.heatmap(cm_df, annot=True, fmt='g')\n",
    "    plt.title('Confusion Matrix')\n",
    "    plt.ylabel('Actal Values')\n",
    "    plt.xlabel('Predicted Values')\n",
    "    plt.show()\n",
    "\n",
    "    unique_values, counts = np.unique(y_pred, return_counts=True)\n",
    "    print(\"Predicted values:\")\n",
    "    for value, count in zip(unique_values, counts):\n",
    "        print(f\"{value} occurs {count} times\")\n",
    "    unique_values, counts = np.unique(y_test, return_counts=True)\n",
    "    \n",
    "    print(\"\\nActual values:\")\n",
    "    for value, count in zip(unique_values, counts):\n",
    "        print(f\"{value} occurs {count} times\")\n",
    "\n",
    "    return None"
   ]
  },
  {
   "cell_type": "code",
   "execution_count": 16,
   "id": "1c758376-d385-4c68-b817-67fd9c5d9718",
   "metadata": {},
   "outputs": [],
   "source": [
    "def Prepare_Data_for_Prediction(df) -> list:\n",
    "    LightingCond = {'Dark-Street Lights On':3, 'Dark-No Street Lights':5, 'Daylight':1,\n",
    "       'Unknown':1, 'Dark-Street Lights Off':4, 'Dawn':0,\n",
    "       'Dark - Unknown Lighting':5, 'Dusk':2, 'Other':1}\n",
    "\n",
    "    WeatherCond = {'Clear':0,\n",
    "              'Partly Cloudy': 1,\n",
    "              'Overcast': 2,\n",
    "              'Raining': 5,\n",
    "              'Snowing': 6,\n",
    "              'Sleet or Hail or Freezing Rain': 7,\n",
    "              'Other':0, 'Severe Crosswind':4,\n",
    "       'Fog or Smog or Smoke':3, 'Blowing Sand or Dirt or Snow':8}\n",
    "    \n",
    "    Known_Injury = df[(df[\"Injury Severity\"] != \"Unknown Injury Collision\")]\n",
    "    X = Known_Injury[['Associated State Road Number','Mile Post','Intersection Related', 'Weather Condition',\n",
    "       'Lighting Condition', 'Motor Vehicles Involved',\n",
    "       'Passengers Involved', 'Commercial Carrier Involved',\n",
    "       'School Bus Involved', 'Pedestrians Involved', 'Pedalcyclists Involved',\n",
    "       'AADT']]\n",
    "    values = {\"Lighting Condition\": 'Unknown', \"Weather Condition\": 'Other', 'Passengers Involved':0.0, 'Commercial Carrier Involved':0.0,\n",
    "       'School Bus Involved':0.0, 'Pedestrians Involved':0.0, 'Pedalcyclists Involved':0.0}\n",
    "    X=X.fillna(value=values)\n",
    "    X=X.dropna()\n",
    "    Conditions = ['Weather Condition','Lighting Condition']\n",
    "    for Condition in Conditions:\n",
    "        use_list = []\n",
    "        states = []\n",
    "        if Condition == 'Weather Condition':\n",
    "            use_dict = WeatherCond\n",
    "            states = X['Weather Condition'].unique()\n",
    "        else:\n",
    "            use_dict = LightingCond\n",
    "            states = X['Lighting Condition'].unique()\n",
    "        for i in np.arange(X[Condition].unique().shape[0]):\n",
    "            X.loc[X[Condition] == states[i], Condition] = use_dict[states[i]]\n",
    "    Y = Data[['Injury Severity']].iloc[X.index.to_list()]\n",
    "\n",
    "    return {\"X\": X, \"Y\":Y}"
   ]
  },
  {
   "cell_type": "code",
   "execution_count": 17,
   "id": "f0d62cde-ee28-412f-adbd-1350f032d1d5",
   "metadata": {},
   "outputs": [
    {
     "name": "stdout",
     "output_type": "stream",
     "text": [
      "Number of mislabeled points out of a total 7722 points : 3951\n",
      "\n",
      "Classification Report:\n",
      "                          precision    recall  f1-score   support\n",
      "\n",
      "         Fatal Collision       0.50      0.04      0.08        71\n",
      "  Minor Injury Collision       0.23      0.43      0.30      1665\n",
      "     No Injury Collision       0.78      0.52      0.62      5819\n",
      "Serious Injury Collision       0.04      0.16      0.06       167\n",
      "\n",
      "                accuracy                           0.49      7722\n",
      "               macro avg       0.39      0.29      0.27      7722\n",
      "            weighted avg       0.64      0.49      0.54      7722\n",
      "\n"
     ]
    },
    {
     "data": {
      "image/png": "[encoded data removed]",
      "text/plain": [
       "<Figure size 500x400 with 2 Axes>"
      ]
     },
     "metadata": {},
     "output_type": "display_data"
    },
    {
     "name": "stdout",
     "output_type": "stream",
     "text": [
      "Predicted values:\n",
      "Fatal Collision occurs 6 times\n",
      "Minor Injury Collision occurs 3096 times\n",
      "No Injury Collision occurs 3878 times\n",
      "Serious Injury Collision occurs 742 times\n",
      "\n",
      "Actual values:\n",
      "Fatal Collision occurs 71 times\n",
      "Minor Injury Collision occurs 1665 times\n",
      "No Injury Collision occurs 5819 times\n",
      "Serious Injury Collision occurs 167 times\n"
     ]
    }
   ],
   "source": [
    "PredictionReport(Prepare_Data(Data)[\"X\"],Prepare_Data(Data)[\"Y\"],\"Complement\")"
   ]
  },
  {
   "cell_type": "code",
   "execution_count": 18,
   "id": "e5c057b3-9ecc-4887-afbd-339d5ba4a70d",
   "metadata": {},
   "outputs": [],
   "source": [
    "def Prediction_Models() -> None:\n",
    "    print(\"Using Categorical Naive Bayesian Classifier Algorithm\")\n",
    "    PredictionReport(Prepare_Data(Data)[\"X\"],Prepare_Data(Data)[\"Y\"],\"Categorical\")\n",
    "    print(\"\\n\\nUsing Complement Naive Bayesian Classifier Algorithm\")\n",
    "    PredictionReport(Prepare_Data(Data)[\"X\"],Prepare_Data(Data)[\"Y\"],\"Complement\")"
   ]
  },
  {
   "cell_type": "code",
   "execution_count": 19,
   "id": "765bd870-d4ea-43f2-ac3d-0dcfd3a6e013",
   "metadata": {},
   "outputs": [],
   "source": [
    "def AADT_Dist(df)-> None:\n",
    "    print(df['AADT'].value_counts())\n",
    "    plt.hist(df['AADT'].to_numpy(), bins = 100)\n",
    "    plt.show\n",
    "    print(st.mode(df['AADT'].to_numpy()))"
   ]
  },
  {
   "cell_type": "code",
   "execution_count": 20,
   "id": "3d760210-35ab-49b3-80f9-fe1059415088",
   "metadata": {
    "scrolled": true
   },
   "outputs": [
    {
     "name": "stdout",
     "output_type": "stream",
     "text": [
      "Using Categorical Naive Bayesian Classifier Algorithm\n",
      "Number of mislabeled points out of a total 7722 points : 1895\n",
      "\n",
      "Classification Report:\n",
      "                          precision    recall  f1-score   support\n",
      "\n",
      "         Fatal Collision       0.00      0.00      0.00        71\n",
      "  Minor Injury Collision       0.37      0.01      0.02      1665\n",
      "     No Injury Collision       0.76      1.00      0.86      5819\n",
      "Serious Injury Collision       0.00      0.00      0.00       167\n",
      "\n",
      "                accuracy                           0.75      7722\n",
      "               macro avg       0.28      0.25      0.22      7722\n",
      "            weighted avg       0.65      0.75      0.65      7722\n",
      "\n"
     ]
    },
    {
     "name": "stderr",
     "output_type": "stream",
     "text": [
      "/opt/conda/lib/python3.10/site-packages/sklearn/metrics/_classification.py:1471: UndefinedMetricWarning: Precision and F-score are ill-defined and being set to 0.0 in labels with no predicted samples. Use `zero_division` parameter to control this behavior.\n",
      "  _warn_prf(average, modifier, msg_start, len(result))\n",
      "/opt/conda/lib/python3.10/site-packages/sklearn/metrics/_classification.py:1471: UndefinedMetricWarning: Precision and F-score are ill-defined and being set to 0.0 in labels with no predicted samples. Use `zero_division` parameter to control this behavior.\n",
      "  _warn_prf(average, modifier, msg_start, len(result))\n",
      "/opt/conda/lib/python3.10/site-packages/sklearn/metrics/_classification.py:1471: UndefinedMetricWarning: Precision and F-score are ill-defined and being set to 0.0 in labels with no predicted samples. Use `zero_division` parameter to control this behavior.\n",
      "  _warn_prf(average, modifier, msg_start, len(result))\n"
     ]
    },
    {
     "data": {
      "image/png": "[encoded data removed]",
      "text/plain": [
       "<Figure size 500x400 with 2 Axes>"
      ]
     },
     "metadata": {},
     "output_type": "display_data"
    },
    {
     "name": "stdout",
     "output_type": "stream",
     "text": [
      "Predicted values:\n",
      "Minor Injury Collision occurs 46 times\n",
      "No Injury Collision occurs 7676 times\n",
      "\n",
      "Actual values:\n",
      "Fatal Collision occurs 71 times\n",
      "Minor Injury Collision occurs 1665 times\n",
      "No Injury Collision occurs 5819 times\n",
      "Serious Injury Collision occurs 167 times\n",
      "\n",
      "\n",
      "Using Complement Naive Bayesian Classifier Algorithm\n",
      "Number of mislabeled points out of a total 7722 points : 3951\n",
      "\n",
      "Classification Report:\n",
      "                          precision    recall  f1-score   support\n",
      "\n",
      "         Fatal Collision       0.50      0.04      0.08        71\n",
      "  Minor Injury Collision       0.23      0.43      0.30      1665\n",
      "     No Injury Collision       0.78      0.52      0.62      5819\n",
      "Serious Injury Collision       0.04      0.16      0.06       167\n",
      "\n",
      "                accuracy                           0.49      7722\n",
      "               macro avg       0.39      0.29      0.27      7722\n",
      "            weighted avg       0.64      0.49      0.54      7722\n",
      "\n"
     ]
    },
    {
     "data": {
      "image/png": "[encoded data removed]",
      "text/plain": [
       "<Figure size 500x400 with 2 Axes>"
      ]
     },
     "metadata": {},
     "output_type": "display_data"
    },
    {
     "name": "stdout",
     "output_type": "stream",
     "text": [
      "Predicted values:\n",
      "Fatal Collision occurs 6 times\n",
      "Minor Injury Collision occurs 3096 times\n",
      "No Injury Collision occurs 3878 times\n",
      "Serious Injury Collision occurs 742 times\n",
      "\n",
      "Actual values:\n",
      "Fatal Collision occurs 71 times\n",
      "Minor Injury Collision occurs 1665 times\n",
      "No Injury Collision occurs 5819 times\n",
      "Serious Injury Collision occurs 167 times\n"
     ]
    }
   ],
   "source": [
    "Prediction_Models()"
   ]
  },
  {
   "cell_type": "code",
   "execution_count": 56,
   "id": "43e18eda-c754-4d20-b36a-93a815360c96",
   "metadata": {},
   "outputs": [],
   "source": [
    "def LSData(df: pd.DataFrame, AADT: int = 0):\n",
    "\n",
    "    RData = df[df['County'].notna() & df['Weather Condition'].notna() & df['Lighting Condition'].notna()]\n",
    "    RData = RData.join(pd.get_dummies(RData[['County','Weather Condition','Lighting Condition']], dtype=float))\n",
    "    RData = RData.drop(['County','Weather Condition','Lighting Condition',\n",
    "        'Collision Report Number', 'Collision Date', 'City', 'Jurisdiction',\n",
    "       'Agency', 'Primary Trafficway', 'Primary Road Number',\n",
    "       'Secondary Trafficway', 'Secondary Road Number', 'Block Number',\n",
    "                   'Object Struck', 'Mile Post', 'Associated State Road Number'], axis=1)\n",
    "\n",
    "    if AADT in df['AADT'].unique():\n",
    "        RData = RData[RData['AADT'] == AADT]\n",
    "        RData = RData.drop(['AADT'], axis = 1)\n",
    "    \n",
    "    RData = RData.replace({'Injury Severity': {\"No Injury Collision\": 0, \n",
    "                                   'Minor Injury Collision': 0,\n",
    "                                                 \"Unknown Injury Collision\":0,\n",
    "                                  \"Serious Injury Collision\": 1, \n",
    "                                   'Fatal Collision': 1}})\n",
    "    RData = RData.dropna()\n",
    "    RY = RData['Injury Severity']\n",
    "    RX = RData.drop(['Injury Severity'], axis=1)\n",
    "    X_model = sm.add_constant(RX)\n",
    "    model = sm.OLS(RY, X_model)\n",
    "    results = model.fit(cov_type = \"HC1\")\n",
    "    print(results.summary())\n",
    "    return None"
   ]
  },
  {
   "cell_type": "code",
   "execution_count": 64,
   "id": "c6532a9f-f592-425f-97df-6626cbbcb5f7",
   "metadata": {},
   "outputs": [
    {
     "name": "stderr",
     "output_type": "stream",
     "text": [
      "/opt/conda/lib/python3.10/site-packages/statsmodels/base/model.py:1896: ValueWarning: covariance of constraints does not have full rank. The number of constraints is 67, but rank is 60\n",
      "  warnings.warn('covariance of constraints does not have full '\n"
     ]
    },
    {
     "name": "stdout",
     "output_type": "stream",
     "text": [
      "                            OLS Regression Results                            \n",
      "==============================================================================\n",
      "Dep. Variable:        Injury Severity   R-squared:                       0.165\n",
      "Model:                            OLS   Adj. R-squared:                  0.152\n",
      "Method:                 Least Squares   F-statistic:                     2.729\n",
      "Date:                Wed, 29 May 2024   Prob (F-statistic):           2.96e-11\n",
      "Time:                        09:41:28   Log-Likelihood:                 1959.0\n",
      "No. Observations:                3922   AIC:                            -3794.\n",
      "Df Residuals:                    3860   BIC:                            -3405.\n",
      "Df Model:                          61                                         \n",
      "Covariance Type:                  HC1                                         \n",
      "====================================================================================================================\n",
      "                                                       coef    std err          z      P>|z|      [0.025      0.975]\n",
      "--------------------------------------------------------------------------------------------------------------------\n",
      "const                                               -0.0041      0.014     -0.300      0.764      -0.031       0.023\n",
      "School Zone                                          0.0232      0.015      1.553      0.120      -0.006       0.052\n",
      "Intersection Related                                -0.0016      0.005     -0.304      0.761      -0.012       0.009\n",
      "Damage Threshold Met                                 0.0123      0.006      2.226      0.026       0.001       0.023\n",
      "Hit and Run                                         -0.0206      0.005     -3.877      0.000      -0.031      -0.010\n",
      "Motor Vehicles Involved                              0.0173      0.007      2.359      0.018       0.003       0.032\n",
      "Passengers Involved                                 -0.0012      0.005     -0.246      0.805      -0.011       0.009\n",
      "Commercial Carrier Involved                          0.0315      0.014      2.198      0.028       0.003       0.060\n",
      "School Bus Involved                                 -0.0752      0.026     -2.874      0.004      -0.126      -0.024\n",
      "Pedestrians Involved                                 0.4521      0.058      7.839      0.000       0.339       0.565\n",
      "Pedalcyclists Involved                               0.1075      0.057      1.903      0.057      -0.003       0.218\n",
      "County_Adams                                        -0.0336      0.008     -4.278      0.000      -0.049      -0.018\n",
      "County_Asotin                                       -0.0333      0.009     -3.692      0.000      -0.051      -0.016\n",
      "County_Benton                                       -0.0345      0.008     -4.545      0.000      -0.049      -0.020\n",
      "County_Chelan                                       -0.0262      0.033     -0.784      0.433      -0.092       0.039\n",
      "County_Clallam                                       0.2083      0.088      2.364      0.018       0.036       0.381\n",
      "County_Clark                                        -0.0245      0.015     -1.624      0.104      -0.054       0.005\n",
      "County_Columbia                                  -6.643e-17   3.65e-17     -1.822      0.068   -1.38e-16    5.01e-18\n",
      "County_Cowlitz                                       0.1169      0.062      1.873      0.061      -0.005       0.239\n",
      "County_Douglas                                      -0.0244      0.007     -3.688      0.000      -0.037      -0.011\n",
      "County_Ferry                                      3.558e-17   3.33e-17      1.070      0.285   -2.96e-17    1.01e-16\n",
      "County_Franklin                                      0.0570      0.057      0.997      0.319      -0.055       0.169\n",
      "County_Garfield                                  -7.904e-17   4.09e-17     -1.933      0.053   -1.59e-16    1.09e-18\n",
      "County_Grant                                        -0.0106      0.018     -0.598      0.550      -0.046       0.024\n",
      "County_Grays Harbor                                 -0.0322      0.010     -3.224      0.001      -0.052      -0.013\n",
      "County_Island                                       -0.0118      0.013     -0.937      0.349      -0.037       0.013\n",
      "County_Jefferson                                     0.0888      0.067      1.329      0.184      -0.042       0.220\n",
      "County_King                                         -0.0076      0.009     -0.848      0.396      -0.025       0.010\n",
      "County_Kitsap                                       -0.0048      0.012     -0.389      0.697      -0.029       0.019\n",
      "County_Kittitas                                      0.0979      0.090      1.082      0.279      -0.079       0.275\n",
      "County_Klickitat                                    -0.0225      0.009     -2.495      0.013      -0.040      -0.005\n",
      "County_Lewis                                         0.0409      0.065      0.627      0.530      -0.087       0.169\n",
      "County_Lincoln                                      -0.0277      0.015     -1.853      0.064      -0.057       0.002\n",
      "County_Mason                                        -0.0292      0.008     -3.630      0.000      -0.045      -0.013\n",
      "County_Okanogan                                     -0.0255      0.007     -3.430      0.001      -0.040      -0.011\n",
      "County_Pacific                                      -0.0351      0.008     -4.608      0.000      -0.050      -0.020\n",
      "County_Pend Oreille                                 -0.0401      0.009     -4.528      0.000      -0.057      -0.023\n",
      "County_Pierce                                       -0.0197      0.010     -1.953      0.051      -0.039    6.85e-05\n",
      "County_Skagit                                       -0.0239      0.011     -2.101      0.036      -0.046      -0.002\n",
      "County_Skamania                                     -0.0272      0.009     -2.894      0.004      -0.046      -0.009\n",
      "County_Snohomish                                    -0.0184      0.008     -2.322      0.020      -0.034      -0.003\n",
      "County_Spokane                                      -0.0256      0.010     -2.455      0.014      -0.046      -0.005\n",
      "County_Stevens                                       0.0519      0.052      0.990      0.322      -0.051       0.155\n",
      "County_Thurston                                     -0.0334      0.007     -5.059      0.000      -0.046      -0.020\n",
      "County_Wahkiakum                                    -0.0309      0.028     -1.088      0.276      -0.087       0.025\n",
      "County_Walla Walla                                   0.0160      0.043      0.368      0.713      -0.069       0.101\n",
      "County_Whatcom                                      -0.0303      0.007     -4.294      0.000      -0.044      -0.016\n",
      "County_Whitman                                      -0.0349      0.008     -4.297      0.000      -0.051      -0.019\n",
      "County_Yakima                                       -0.0139      0.020     -0.711      0.477      -0.052       0.024\n",
      "Weather Condition_Blowing Sand or Dirt or Snow      -0.0200      0.019     -1.068      0.285      -0.057       0.017\n",
      "Weather Condition_Clear                             -0.0070      0.011     -0.627      0.531      -0.029       0.015\n",
      "Weather Condition_Fog or Smog or Smoke              -0.0218      0.023     -0.955      0.340      -0.067       0.023\n",
      "Weather Condition_Other                              0.1310      0.096      1.363      0.173      -0.057       0.319\n",
      "Weather Condition_Overcast                          -0.0034      0.012     -0.292      0.771      -0.026       0.020\n",
      "Weather Condition_Partly Cloudy                     -0.0170      0.014     -1.211      0.226      -0.045       0.011\n",
      "Weather Condition_Raining                           -0.0153      0.012     -1.281      0.200      -0.039       0.008\n",
      "Weather Condition_Severe Crosswind                  -0.0114      0.017     -0.649      0.516      -0.046       0.023\n",
      "Weather Condition_Sleet or Hail or Freezing Rain    -0.0123      0.011     -1.128      0.259      -0.034       0.009\n",
      "Weather Condition_Snowing                           -0.0268      0.016     -1.705      0.088      -0.058       0.004\n",
      "Lighting Condition_Dark - Unknown Lighting           0.0015      0.023      0.064      0.949      -0.043       0.046\n",
      "Lighting Condition_Dark-No Street Lights             0.0273      0.014      2.000      0.045       0.001       0.054\n",
      "Lighting Condition_Dark-Street Lights Off           -0.0102      0.007     -1.521      0.128      -0.023       0.003\n",
      "Lighting Condition_Dark-Street Lights On             0.0190      0.007      2.545      0.011       0.004       0.034\n",
      "Lighting Condition_Dawn                             -0.0279      0.011     -2.531      0.011      -0.050      -0.006\n",
      "Lighting Condition_Daylight                         -0.0021      0.005     -0.392      0.695      -0.013       0.008\n",
      "Lighting Condition_Dusk                             -0.0067      0.015     -0.439      0.661      -0.037       0.023\n",
      "Lighting Condition_Other                            -0.0185      0.008     -2.329      0.020      -0.034      -0.003\n",
      "Lighting Condition_Unknown                           0.0136      0.013      1.084      0.278      -0.011       0.038\n",
      "==============================================================================\n",
      "Omnibus:                     3985.520   Durbin-Watson:                   1.726\n",
      "Prob(Omnibus):                  0.000   Jarque-Bera (JB):           184104.080\n",
      "Skew:                           5.144   Prob(JB):                         0.00\n",
      "Kurtosis:                      34.949   Cond. No.                     1.11e+16\n",
      "==============================================================================\n",
      "\n",
      "Notes:\n",
      "[1] Standard Errors are heteroscedasticity robust (HC1)\n",
      "[2] The smallest eigenvalue is 2.27e-28. This might indicate that there are\n",
      "strong multicollinearity problems or that the design matrix is singular.\n"
     ]
    }
   ],
   "source": [
    "LSData(Data,5400)"
   ]
  },
  {
   "cell_type": "code",
   "execution_count": 57,
   "id": "31166312-b89b-4c96-a0fd-8294ec1deced",
   "metadata": {},
   "outputs": [
    {
     "name": "stdout",
     "output_type": "stream",
     "text": [
      "AADT\n",
      "5400.0      3922\n",
      "190000.0     770\n",
      "17000.0      562\n",
      "23000.0      558\n",
      "19000.0      514\n",
      "            ... \n",
      "920.0          1\n",
      "330.0          1\n",
      "530.0          1\n",
      "990.0          1\n",
      "980.0          1\n",
      "Name: count, Length: 336, dtype: int64\n",
      "ModeResult(mode=5400.0, count=3922)\n"
     ]
    },
    {
     "data": {
      "image/png": "[encoded data removed]",
      "text/plain": [
       "<Figure size 640x480 with 1 Axes>"
      ]
     },
     "metadata": {},
     "output_type": "display_data"
    }
   ],
   "source": [
    "AADT_Dist(Data)"
   ]
  },
  {
   "cell_type": "code",
   "execution_count": 61,
   "id": "9a152a05-ba82-4e3f-9081-1a24d6c647cc",
   "metadata": {},
   "outputs": [],
   "source": [
    "def LS_report(data):\n",
    "    LSData(data)\n",
    "    LSData(data,5400)"
   ]
  },
  {
   "cell_type": "code",
   "execution_count": null,
   "id": "389f4ae3-d6bd-4e6a-beaf-95013ca47539",
   "metadata": {},
   "outputs": [],
   "source": [
    "LS_report"
   ]
  },
  {
   "cell_type": "code",
   "execution_count": null,
   "id": "9f1e44fb-b603-4323-b56b-f20f3ad50a8a",
   "metadata": {},
   "outputs": [],
   "source": [
    "PredictionReport(Prepare_Data(Data)[\"X\"],Prepare_Data(Data)[\"Y\"],\"Complement\")"
   ]
  },
  {
   "cell_type": "code",
   "execution_count": 31,
   "id": "50c0f4b3-239c-4e96-96a4-f5be098bb249",
   "metadata": {},
   "outputs": [],
   "source": [
    "Known_Injury_Data = Data[(Data[\"Injury Severity\"] != \"Unknown Injury Collision\")]"
   ]
  },
  {
   "cell_type": "code",
   "execution_count": 32,
   "id": "80769750-ae69-4511-a81a-a3992b6f5c3e",
   "metadata": {},
   "outputs": [],
   "source": [
    "Seattle_Known_Injury_Data = Known_Injury_Data[Known_Injury_Data[\"City\"] == \"Seattle\"]"
   ]
  },
  {
   "cell_type": "code",
   "execution_count": 33,
   "id": "8c57ac64-37c8-4714-a41e-83b993c8650d",
   "metadata": {},
   "outputs": [],
   "source": [
    "X = Known_Injury_Data[['Associated State Road Number','Mile Post','Intersection Related', 'Weather Condition',\n",
    "       'Lighting Condition', 'Motor Vehicles Involved',\n",
    "       'Passengers Involved', 'Commercial Carrier Involved',\n",
    "       'School Bus Involved', 'Pedestrians Involved', 'Pedalcyclists Involved',\n",
    "       'AADT']]\n",
    "\n",
    "SeattleX = Seattle_Known_Injury_Data[['Associated State Road Number','Mile Post','Intersection Related', 'Weather Condition',\n",
    "       'Lighting Condition',\n",
    "       'Passengers Involved', 'Commercial Carrier Involved',\n",
    "       'School Bus Involved', 'Pedestrians Involved', 'Pedalcyclists Involved',\n",
    "       'AADT']]"
   ]
  },
  {
   "cell_type": "code",
   "execution_count": 34,
   "id": "b687eb98-691e-4b31-b696-7a7628f518df",
   "metadata": {
    "scrolled": true
   },
   "outputs": [],
   "source": [
    "values = {\"Lighting Condition\": 'Unkown', \"Weather Condition\": 'Other', 'Passengers Involved':0.0, 'Commercial Carrier Involved':0.0,\n",
    "       'School Bus Involved':0.0, 'Pedestrians Involved':0.0, 'Pedalcyclists Involved':0.0}\n",
    "X=X.fillna(value=values)\n",
    "X=X.dropna()\n",
    "SeattleX = SeattleX.fillna(value=values)\n",
    "SeattleX = SeattleX.dropna()"
   ]
  },
  {
   "cell_type": "code",
   "execution_count": 35,
   "id": "f32c37a0-8293-4898-aa83-dbeb005fae54",
   "metadata": {},
   "outputs": [
    {
     "data": {
      "text/plain": [
       "array(['Raining', 'Overcast', 'Clear', 'Snowing',\n",
       "       'Sleet or Hail or Freezing Rain', 'Other', 'Severe Crosswind',\n",
       "       'Fog or Smog or Smoke', 'Blowing Sand or Dirt or Snow'],\n",
       "      dtype=object)"
      ]
     },
     "execution_count": 35,
     "metadata": {},
     "output_type": "execute_result"
    }
   ],
   "source": [
    "X[\"Weather Condition\"].unique()"
   ]
  },
  {
   "cell_type": "code",
   "execution_count": 36,
   "id": "8aa31bf2-b655-49b2-8dfb-6c57b45e201f",
   "metadata": {},
   "outputs": [],
   "source": [
    "Conditions = ['Weather Condition','Lighting Condition']\n",
    "Weather_Correspondance = [2,1,0,3,4,8,6,5,7]\n",
    "Lighting_Correspondance=[3,5,1,7,4,0,6,2,7]"
   ]
  },
  {
   "cell_type": "code",
   "execution_count": 37,
   "id": "9a2cbbd7-8dd9-4a4a-9022-4a6efd776f4f",
   "metadata": {},
   "outputs": [],
   "source": [
    "for Condition in Conditions:\n",
    "    use_list = []\n",
    "    states = []\n",
    "    if Condition == 'Weather Condition':\n",
    "        use_list = Weather_Correspondance = [2,1,0,3,4,8,6,5,7]\n",
    "        states = X['Weather Condition'].unique()\n",
    "    else:\n",
    "        use_list = Lighting_Correspondance=[3,5,2,7,4,0,6,2,7]\n",
    "        states = X['Lighting Condition'].unique()\n",
    "    for i in np.arange(X[Condition].unique().shape[0]):\n",
    "        X.loc[X[Condition] == states[i], Condition] = use_list[i]"
   ]
  },
  {
   "cell_type": "code",
   "execution_count": 38,
   "id": "8a7814f5-b585-4fc7-ad21-150bea8e9aed",
   "metadata": {},
   "outputs": [],
   "source": [
    "for Condition in Conditions:\n",
    "    use_list = []\n",
    "    states = []\n",
    "    if Condition == 'Weather Condition':\n",
    "        use_list = Weather_Correspondance = [1,2,0,4,5,6,3]\n",
    "        states = SeattleX['Weather Condition'].unique()\n",
    "    else:\n",
    "        use_list = Lighting_Correspondance=[3,5,2,7,4,0,6,2,7]\n",
    "        states = SeattleX['Lighting Condition'].unique()\n",
    "    for i in np.arange(SeattleX[Condition].unique().shape[0]):\n",
    "        SeattleX.loc[X[Condition] == states[i], Condition] = use_list[i]"
   ]
  },
  {
   "cell_type": "code",
   "execution_count": 39,
   "id": "7cd9739b-ba7e-4dba-bb81-70967030e540",
   "metadata": {},
   "outputs": [
    {
     "data": {
      "text/plain": [
       "array(['Overcast', 'Raining', 'Clear', 'Sleet or Hail or Freezing Rain',\n",
       "       'Fog or Smog or Smoke', 'Other', 'Snowing'], dtype=object)"
      ]
     },
     "execution_count": 39,
     "metadata": {},
     "output_type": "execute_result"
    }
   ],
   "source": [
    "SeattleX['Weather Condition'].unique()"
   ]
  },
  {
   "cell_type": "code",
   "execution_count": 40,
   "id": "dae67e42-5e76-49c3-a725-f3badbe5ea45",
   "metadata": {},
   "outputs": [],
   "source": [
    "Y = Data[['Injury Severity']].iloc[X.index.to_list()]\n",
    "SeattleY = Data[['Injury Severity']].iloc[SeattleX.index.to_list()]"
   ]
  },
  {
   "cell_type": "code",
   "execution_count": 16,
   "id": "8c34d3d7-950a-4f2b-bf46-83bbb85c3f18",
   "metadata": {},
   "outputs": [
    {
     "name": "stdout",
     "output_type": "stream",
     "text": [
      "Number of mislabeled points out of a total 7722 points : 3954\n",
      "0.48795648795648794\n",
      "Confusion Matrix:\n",
      "[[   3   38   18   12]\n",
      " [   1  724  779  161]\n",
      " [   1 2269 3015  534]\n",
      " [   1   82   58   26]]\n",
      "\n",
      "Classification Report:\n",
      "                          precision    recall  f1-score   support\n",
      "\n",
      "         Fatal Collision       0.50      0.04      0.08        71\n",
      "  Minor Injury Collision       0.23      0.43      0.30      1665\n",
      "     No Injury Collision       0.78      0.52      0.62      5819\n",
      "Serious Injury Collision       0.04      0.16      0.06       167\n",
      "\n",
      "                accuracy                           0.49      7722\n",
      "               macro avg       0.39      0.29      0.27      7722\n",
      "            weighted avg       0.64      0.49      0.54      7722\n",
      "\n"
     ]
    },
    {
     "data": {
      "image/png": "[encoded data removed]",
      "text/plain": [
       "<Figure size 500x400 with 2 Axes>"
      ]
     },
     "metadata": {},
     "output_type": "display_data"
    },
    {
     "name": "stdout",
     "output_type": "stream",
     "text": [
      "Predicted values:\n",
      "Fatal Collision occurs 6 times\n",
      "Minor Injury Collision occurs 3113 times\n",
      "No Injury Collision occurs 3870 times\n",
      "Serious Injury Collision occurs 733 times\n",
      "\n",
      "Actual values:\n",
      "Fatal Collision occurs 71 times\n",
      "Minor Injury Collision occurs 1665 times\n",
      "No Injury Collision occurs 5819 times\n",
      "Serious Injury Collision occurs 167 times\n"
     ]
    }
   ],
   "source": [
    "PredictionReport(X.drop(['Weather Condition','Lighting Condition'],axis = 1),Y,\"Complement\")"
   ]
  },
  {
   "cell_type": "code",
   "execution_count": null,
   "id": "32d1f3b3-fba9-40f2-8427-ed3897a1a4d3",
   "metadata": {},
   "outputs": [],
   "source": [
    "'Associated State Road Number','Mile Post','Intersection Related', 'Weather Condition',\n",
    "       'Lighting Condition', 'Motor Vehicles Involved',\n",
    "       'Passengers Involved', 'Commercial Carrier Involved',\n",
    "       'School Bus Involved', 'Pedestrians Involved', 'Pedalcyclists Involved',\n",
    "       'AADT'"
   ]
  },
  {
   "cell_type": "code",
   "execution_count": 45,
   "id": "c2150d91-6842-4c98-900f-55102169344e",
   "metadata": {},
   "outputs": [
    {
     "name": "stdout",
     "output_type": "stream",
     "text": [
      "Number of mislabeled points out of a total 7722 points : 3581\n",
      "0.5362600362600363\n",
      "\n",
      "Classification Report:\n",
      "                          precision    recall  f1-score   support\n",
      "\n",
      "         Fatal Collision       0.11      0.03      0.04        71\n",
      "  Minor Injury Collision       0.24      0.48      0.32      1665\n",
      "     No Injury Collision       0.77      0.57      0.66      5819\n",
      "Serious Injury Collision       0.08      0.01      0.02       167\n",
      "\n",
      "                accuracy                           0.54      7722\n",
      "               macro avg       0.30      0.27      0.26      7722\n",
      "            weighted avg       0.64      0.54      0.57      7722\n",
      "\n"
     ]
    },
    {
     "data": {
      "image/png": "[encoded data removed]",
      "text/plain": [
       "<Figure size 500x400 with 2 Axes>"
      ]
     },
     "metadata": {},
     "output_type": "display_data"
    },
    {
     "name": "stdout",
     "output_type": "stream",
     "text": [
      "Predicted values:\n",
      "Fatal Collision occurs 18 times\n",
      "Minor Injury Collision occurs 3365 times\n",
      "No Injury Collision occurs 4314 times\n",
      "Serious Injury Collision occurs 25 times\n",
      "\n",
      "Actual values:\n",
      "Fatal Collision occurs 71 times\n",
      "Minor Injury Collision occurs 1665 times\n",
      "No Injury Collision occurs 5819 times\n",
      "Serious Injury Collision occurs 167 times\n"
     ]
    }
   ],
   "source": [
    "PredictionReport(X.drop(['AADT'],axis = 1),Y,\"Complement\")"
   ]
  },
  {
   "cell_type": "code",
   "execution_count": 19,
   "id": "8d03d9f2-61dd-4793-ad69-edeb9d2362af",
   "metadata": {},
   "outputs": [],
   "source": [
    "Y['Injury Severity'] = np.where((Y['Injury Severity'] == \"No Injury Collision\"), \"No Injury\", \"Injury\")\n"
   ]
  },
  {
   "cell_type": "code",
   "execution_count": 23,
   "id": "a413914e-7407-4347-b2c4-7cb761c0f696",
   "metadata": {},
   "outputs": [
    {
     "name": "stdout",
     "output_type": "stream",
     "text": [
      "Number of mislabeled points out of a total 7722 points : 3631\n",
      "0.5297850297850297\n",
      "\n",
      "Classification Report:\n",
      "              precision    recall  f1-score   support\n",
      "\n",
      "      Injury       0.27      0.55      0.37      1903\n",
      "   No Injury       0.78      0.52      0.63      5819\n",
      "\n",
      "    accuracy                           0.53      7722\n",
      "   macro avg       0.53      0.54      0.50      7722\n",
      "weighted avg       0.66      0.53      0.56      7722\n",
      "\n"
     ]
    },
    {
     "data": {
      "image/png": "[encoded data removed]",
      "text/plain": [
       "<Figure size 500x400 with 2 Axes>"
      ]
     },
     "metadata": {},
     "output_type": "display_data"
    },
    {
     "name": "stdout",
     "output_type": "stream",
     "text": [
      "Predicted values:\n",
      "Injury occurs 3816 times\n",
      "No Injury occurs 3906 times\n",
      "\n",
      "Actual values:\n",
      "Injury occurs 1903 times\n",
      "No Injury occurs 5819 times\n"
     ]
    }
   ],
   "source": [
    "PredictionReport(X,Y,\"Complement\")"
   ]
  },
  {
   "cell_type": "code",
   "execution_count": 500,
   "id": "f9d02815-483d-41f2-ad5a-9cc43301a058",
   "metadata": {},
   "outputs": [
    {
     "name": "stdout",
     "output_type": "stream",
     "text": [
      "Number of mislabeled points out of a total 1843 points : 710\n",
      "0.6147585458491589\n",
      "Confusion Matrix:\n",
      "[[   0    4    7    0]\n",
      " [   0  113  304    0]\n",
      " [   0  381 1020    0]\n",
      " [   0    6    8    0]]\n",
      "\n",
      "Classification Report:\n",
      "                          precision    recall  f1-score   support\n",
      "\n",
      "         Fatal Collision       0.00      0.00      0.00        11\n",
      "  Minor Injury Collision       0.22      0.27      0.25       417\n",
      "     No Injury Collision       0.76      0.73      0.74      1401\n",
      "Serious Injury Collision       0.00      0.00      0.00        14\n",
      "\n",
      "                accuracy                           0.61      1843\n",
      "               macro avg       0.25      0.25      0.25      1843\n",
      "            weighted avg       0.63      0.61      0.62      1843\n",
      "\n"
     ]
    },
    {
     "name": "stderr",
     "output_type": "stream",
     "text": [
      "/opt/conda/lib/python3.10/site-packages/sklearn/metrics/_classification.py:1471: UndefinedMetricWarning: Precision and F-score are ill-defined and being set to 0.0 in labels with no predicted samples. Use `zero_division` parameter to control this behavior.\n",
      "  _warn_prf(average, modifier, msg_start, len(result))\n",
      "/opt/conda/lib/python3.10/site-packages/sklearn/metrics/_classification.py:1471: UndefinedMetricWarning: Precision and F-score are ill-defined and being set to 0.0 in labels with no predicted samples. Use `zero_division` parameter to control this behavior.\n",
      "  _warn_prf(average, modifier, msg_start, len(result))\n",
      "/opt/conda/lib/python3.10/site-packages/sklearn/metrics/_classification.py:1471: UndefinedMetricWarning: Precision and F-score are ill-defined and being set to 0.0 in labels with no predicted samples. Use `zero_division` parameter to control this behavior.\n",
      "  _warn_prf(average, modifier, msg_start, len(result))\n"
     ]
    },
    {
     "data": {
      "image/png": "[encoded data removed]",
      "text/plain": [
       "<Figure size 500x400 with 2 Axes>"
      ]
     },
     "metadata": {},
     "output_type": "display_data"
    },
    {
     "name": "stdout",
     "output_type": "stream",
     "text": [
      "Predicted values:\n",
      "Minor Injury Collision occurs 504 times\n",
      "No Injury Collision occurs 1339 times\n",
      "\n",
      "Actual values:\n",
      "Fatal Collision occurs 11 times\n",
      "Minor Injury Collision occurs 417 times\n",
      "No Injury Collision occurs 1401 times\n",
      "Serious Injury Collision occurs 14 times\n"
     ]
    }
   ],
   "source": [
    "PredictionReport(SeattleX,SeattleY,\"Complement\")"
   ]
  },
  {
   "cell_type": "code",
   "execution_count": 153,
   "id": "26d21ca4-a9f0-4845-a727-03c23dc7278f",
   "metadata": {},
   "outputs": [
    {
     "data": {
      "text/plain": [
       "True"
      ]
     },
     "execution_count": 153,
     "metadata": {},
     "output_type": "execute_result"
    }
   ],
   "source": [
    "5400 in Data['AADT'].unique()"
   ]
  },
  {
   "cell_type": "code",
   "execution_count": 156,
   "id": "254a45fe-8766-4b62-9e07-95c394a481e4",
   "metadata": {},
   "outputs": [
    {
     "name": "stdout",
     "output_type": "stream",
     "text": [
      "                            OLS Regression Results                            \n",
      "==============================================================================\n",
      "Dep. Variable:        Injury Severity   R-squared:                       0.165\n",
      "Model:                            OLS   Adj. R-squared:                  0.152\n",
      "Method:                 Least Squares   F-statistic:                     12.48\n",
      "Date:                Wed, 29 May 2024   Prob (F-statistic):          2.48e-109\n",
      "Time:                        02:04:10   Log-Likelihood:                 1959.0\n",
      "No. Observations:                3922   AIC:                            -3794.\n",
      "Df Residuals:                    3860   BIC:                            -3405.\n",
      "Df Model:                          61                                         \n",
      "Covariance Type:            nonrobust                                         \n",
      "====================================================================================================================\n",
      "                                                       coef    std err          t      P>|t|      [0.025      0.975]\n",
      "--------------------------------------------------------------------------------------------------------------------\n",
      "const                                               -0.0041      0.020     -0.207      0.836      -0.043       0.035\n",
      "School Zone                                          0.0232      0.107      0.217      0.828      -0.186       0.233\n",
      "Intersection Related                                -0.0016      0.005     -0.314      0.753      -0.012       0.008\n",
      "Damage Threshold Met                                 0.0123      0.006      2.088      0.037       0.001       0.024\n",
      "Hit and Run                                         -0.0206      0.007     -2.870      0.004      -0.035      -0.007\n",
      "Motor Vehicles Involved                              0.0173      0.004      4.265      0.000       0.009       0.025\n",
      "Passengers Involved                                 -0.0012      0.005     -0.243      0.808      -0.011       0.009\n",
      "Commercial Carrier Involved                          0.0315      0.011      2.744      0.006       0.009       0.054\n",
      "School Bus Involved                                 -0.0752      0.075     -0.999      0.318      -0.223       0.072\n",
      "Pedestrians Involved                                 0.4521      0.019     23.911      0.000       0.415       0.489\n",
      "Pedalcyclists Involved                               0.1075      0.026      4.083      0.000       0.056       0.159\n",
      "County_Adams                                        -0.0336      0.055     -0.611      0.541      -0.142       0.074\n",
      "County_Asotin                                       -0.0333      0.072     -0.460      0.645      -0.175       0.109\n",
      "County_Benton                                       -0.0345      0.024     -1.412      0.158      -0.082       0.013\n",
      "County_Chelan                                       -0.0262      0.027     -0.981      0.327      -0.079       0.026\n",
      "County_Clallam                                       0.2083      0.032      6.562      0.000       0.146       0.270\n",
      "County_Clark                                        -0.0245      0.015     -1.635      0.102      -0.054       0.005\n",
      "County_Columbia                                  -6.643e-17   1.14e-16     -0.582      0.561    -2.9e-16    1.58e-16\n",
      "County_Cowlitz                                       0.1169      0.029      4.044      0.000       0.060       0.174\n",
      "County_Douglas                                      -0.0244      0.022     -1.115      0.265      -0.067       0.018\n",
      "County_Ferry                                      3.558e-17   1.06e-16      0.336      0.737   -1.72e-16    2.43e-16\n",
      "County_Franklin                                      0.0570      0.032      1.757      0.079      -0.007       0.121\n",
      "County_Garfield                                  -7.904e-17   1.42e-16     -0.558      0.577   -3.57e-16    1.99e-16\n",
      "County_Grant                                        -0.0106      0.020     -0.521      0.602      -0.051       0.029\n",
      "County_Grays Harbor                                 -0.0322      0.041     -0.789      0.430      -0.112       0.048\n",
      "County_Island                                       -0.0118      0.014     -0.834      0.404      -0.040       0.016\n",
      "County_Jefferson                                     0.0888      0.031      2.845      0.004       0.028       0.150\n",
      "County_King                                         -0.0076      0.010     -0.790      0.429      -0.026       0.011\n",
      "County_Kitsap                                       -0.0048      0.012     -0.388      0.698      -0.029       0.019\n",
      "County_Kittitas                                      0.0979      0.039      2.483      0.013       0.021       0.175\n",
      "County_Klickitat                                    -0.0225      0.059     -0.380      0.704      -0.139       0.094\n",
      "County_Lewis                                         0.0409      0.041      1.006      0.315      -0.039       0.121\n",
      "County_Lincoln                                      -0.0277      0.057     -0.483      0.629      -0.140       0.085\n",
      "County_Mason                                        -0.0292      0.024     -1.208      0.227      -0.077       0.018\n",
      "County_Okanogan                                     -0.0255      0.065     -0.392      0.695      -0.153       0.102\n",
      "County_Pacific                                      -0.0351      0.041     -0.861      0.389      -0.115       0.045\n",
      "County_Pend Oreille                                 -0.0401      0.102     -0.392      0.695      -0.240       0.160\n",
      "County_Pierce                                       -0.0197      0.011     -1.750      0.080      -0.042       0.002\n",
      "County_Skagit                                       -0.0239      0.013     -1.877      0.061      -0.049       0.001\n",
      "County_Skamania                                     -0.0272      0.059     -0.459      0.646      -0.144       0.089\n",
      "County_Snohomish                                    -0.0184      0.009     -2.069      0.039      -0.036      -0.001\n",
      "County_Spokane                                      -0.0256      0.014     -1.885      0.060      -0.052       0.001\n",
      "County_Stevens                                       0.0519      0.029      1.768      0.077      -0.006       0.110\n",
      "County_Thurston                                     -0.0334      0.025     -1.322      0.186      -0.083       0.016\n",
      "County_Wahkiakum                                    -0.0309      0.146     -0.212      0.832      -0.317       0.255\n",
      "County_Walla Walla                                   0.0160      0.032      0.503      0.615      -0.046       0.078\n",
      "County_Whatcom                                      -0.0303      0.028     -1.066      0.287      -0.086       0.025\n",
      "County_Whitman                                      -0.0349      0.018     -1.887      0.059      -0.071       0.001\n",
      "County_Yakima                                       -0.0139      0.018     -0.778      0.437      -0.049       0.021\n",
      "Weather Condition_Blowing Sand or Dirt or Snow      -0.0200      0.136     -0.147      0.883      -0.287       0.247\n",
      "Weather Condition_Clear                             -0.0070      0.019     -0.373      0.709      -0.044       0.030\n",
      "Weather Condition_Fog or Smog or Smoke              -0.0218      0.026     -0.834      0.404      -0.073       0.029\n",
      "Weather Condition_Other                              0.1310      0.043      3.027      0.002       0.046       0.216\n",
      "Weather Condition_Overcast                          -0.0034      0.019     -0.177      0.860      -0.041       0.035\n",
      "Weather Condition_Partly Cloudy                     -0.0170      0.037     -0.461      0.644      -0.089       0.055\n",
      "Weather Condition_Raining                           -0.0153      0.020     -0.779      0.436      -0.054       0.023\n",
      "Weather Condition_Severe Crosswind                  -0.0114      0.102     -0.112      0.911      -0.211       0.188\n",
      "Weather Condition_Sleet or Hail or Freezing Rain    -0.0123      0.043     -0.286      0.775      -0.097       0.072\n",
      "Weather Condition_Snowing                           -0.0268      0.023     -1.160      0.246      -0.072       0.019\n",
      "Lighting Condition_Dark - Unknown Lighting           0.0015      0.023      0.065      0.948      -0.043       0.046\n",
      "Lighting Condition_Dark-No Street Lights             0.0273      0.014      1.942      0.052      -0.000       0.055\n",
      "Lighting Condition_Dark-Street Lights Off           -0.0102      0.032     -0.322      0.747      -0.072       0.052\n",
      "Lighting Condition_Dark-Street Lights On             0.0190      0.011      1.695      0.090      -0.003       0.041\n",
      "Lighting Condition_Dawn                             -0.0279      0.021     -1.351      0.177      -0.068       0.013\n",
      "Lighting Condition_Daylight                         -0.0021      0.010     -0.199      0.842      -0.023       0.018\n",
      "Lighting Condition_Dusk                             -0.0067      0.018     -0.382      0.702      -0.041       0.028\n",
      "Lighting Condition_Other                            -0.0185      0.060     -0.308      0.758      -0.137       0.099\n",
      "Lighting Condition_Unknown                           0.0136      0.044      0.313      0.755      -0.072       0.099\n",
      "==============================================================================\n",
      "Omnibus:                     3985.520   Durbin-Watson:                   1.726\n",
      "Prob(Omnibus):                  0.000   Jarque-Bera (JB):           184104.080\n",
      "Skew:                           5.144   Prob(JB):                         0.00\n",
      "Kurtosis:                      34.949   Cond. No.                     1.11e+16\n",
      "==============================================================================\n",
      "\n",
      "Notes:\n",
      "[1] Standard Errors assume that the covariance matrix of the errors is correctly specified.\n",
      "[2] The smallest eigenvalue is 2.27e-28. This might indicate that there are\n",
      "strong multicollinearity problems or that the design matrix is singular.\n"
     ]
    }
   ],
   "source": [
    "LSData(Data,5400)"
   ]
  },
  {
   "cell_type": "code",
   "execution_count": null,
   "id": "0c72ba75-7394-4026-9534-9876338d8a25",
   "metadata": {},
   "outputs": [],
   "source": [
    "RX = RData[['Injury Severity','Associated State Road Number',\n",
    "       'School Zone', 'Intersection Related', \n",
    "       'Motor Vehicles Involved',\n",
    "       'Passengers Involved', 'Commercial Carrier Involved',\n",
    "       'School Bus Involved', 'Pedestrians Involved', 'Pedalcyclists Involved',\n",
    "       'AADT', 'County_Adams', 'County_Asotin', 'County_Benton',\n",
    "       'County_Chelan', 'County_Clallam', 'County_Clark', 'County_Columbia',\n",
    "       'County_Cowlitz', 'County_Douglas', 'County_Ferry', 'County_Franklin',\n",
    "       'County_Garfield', 'County_Grant', 'County_Grays Harbor',\n",
    "       'County_Island', 'County_Jefferson', 'County_Kitsap', 'County_Kittitas',\n",
    "       'County_Klickitat', 'County_Lewis', 'County_Lincoln', 'County_Mason',\n",
    "       'County_Okanogan', 'County_Pacific', 'County_Pend Oreille',\n",
    "       'County_Pierce', 'County_Skagit', 'County_Skamania', 'County_Snohomish',\n",
    "       'County_Spokane', 'County_Stevens', 'County_Thurston',\n",
    "       'County_Wahkiakum', 'County_Walla Walla', 'County_Whatcom',\n",
    "       'County_Whitman', 'County_Yakima',\n",
    "       'Weather Condition_Blowing Sand or Dirt or Snow',\n",
    "       'Weather Condition_Clear', 'Weather Condition_Fog or Smog or Smoke',\n",
    "       'Weather Condition_Overcast', 'Weather Condition_Partly Cloudy',\n",
    "       'Weather Condition_Raining', 'Weather Condition_Severe Crosswind',\n",
    "       'Weather Condition_Sleet or Hail or Freezing Rain',\n",
    "       'Weather Condition_Snowing',\n",
    "       'Lighting Condition_Dark - Unknown Lighting',\n",
    "       'Lighting Condition_Dark-No Street Lights',\n",
    "       'Lighting Condition_Dark-Street Lights Off',\n",
    "       'Lighting Condition_Dark-Street Lights On', 'Lighting Condition_Dawn',\n",
    "       'Lighting Condition_Daylight', 'Lighting Condition_Dusk',\n",
    "       'Lighting Condition_Other']]\n",
    "    RX = RX.dropna()\n",
    "    RY = RX['Injury Severity']\n",
    "RX = RX[['Associated State Road Number',\n",
    "       'School Zone', 'Intersection Related', \n",
    "       'Motor Vehicles Involved',\n",
    "       'Passengers Involved', 'Commercial Carrier Involved',\n",
    "       'School Bus Involved', 'Pedestrians Involved', 'Pedalcyclists Involved',\n",
    "       'AADT', 'County_Adams', 'County_Asotin', 'County_Benton',\n",
    "       'County_Chelan', 'County_Clallam', 'County_Clark', 'County_Columbia',\n",
    "       'County_Cowlitz', 'County_Douglas', 'County_Ferry', 'County_Franklin',\n",
    "       'County_Garfield', 'County_Grant', 'County_Grays Harbor',\n",
    "       'County_Island', 'County_Jefferson', 'County_Kitsap', 'County_Kittitas',\n",
    "       'County_Klickitat', 'County_Lewis', 'County_Lincoln', 'County_Mason',\n",
    "       'County_Okanogan', 'County_Pacific', 'County_Pend Oreille',\n",
    "       'County_Pierce', 'County_Skagit', 'County_Skamania', 'County_Snohomish',\n",
    "       'County_Spokane', 'County_Stevens', 'County_Thurston',\n",
    "       'County_Wahkiakum', 'County_Walla Walla', 'County_Whatcom',\n",
    "       'County_Whitman', 'County_Yakima',\n",
    "       'Weather Condition_Blowing Sand or Dirt or Snow',\n",
    "       'Weather Condition_Clear', 'Weather Condition_Fog or Smog or Smoke',\n",
    "       'Weather Condition_Overcast', 'Weather Condition_Partly Cloudy',\n",
    "       'Weather Condition_Raining', 'Weather Condition_Severe Crosswind',\n",
    "       'Weather Condition_Sleet or Hail or Freezing Rain',\n",
    "       'Weather Condition_Snowing',\n",
    "       'Lighting Condition_Dark - Unknown Lighting',\n",
    "       'Lighting Condition_Dark-No Street Lights',\n",
    "       'Lighting Condition_Dark-Street Lights Off',\n",
    "       'Lighting Condition_Dark-Street Lights On', 'Lighting Condition_Dawn',\n",
    "       'Lighting Condition_Daylight', 'Lighting Condition_Dusk',\n",
    "       'Lighting Condition_Other']]\n",
    "    "
   ]
  },
  {
   "cell_type": "code",
   "execution_count": 462,
   "id": "0ab432b5-53f5-44f3-83a7-f3e2a036cce8",
   "metadata": {},
   "outputs": [],
   "source": [
    "Known_Injury = df[(df[\"Injury Severity\"] != \"Unknown Injury Collision\")]\n",
    "RData = Known_Injury_Data[Known_Injury_Data['County'].notna() & Known_Injury_Data['Weather Condition'].notna() & Known_Injury_Data['Lighting Condition'].notna()]\n",
    "RData = RData.join(pd.get_dummies(RData[['County','Weather Condition','Lighting Condition']], dtype=float))"
   ]
  },
  {
   "cell_type": "code",
   "execution_count": 463,
   "id": "19b36e8c-e905-49ec-b19e-3bf37295423c",
   "metadata": {},
   "outputs": [],
   "source": [
    "RData = RData.drop(['County','Weather Condition','Lighting Condition','Associated S'\n",
    "        'Collision Report Number', 'Collision Date', 'City', 'Jurisdiction',\n",
    "       'Agency', 'Primary Trafficway', 'Primary Road Number',\n",
    "       'Secondary Trafficway', 'Secondary Road Number', 'Block Number',\n",
    "                   'Object Struck', 'Damage Threshold Met', 'Hit and Run', 'Mile Post'], axis=1)"
   ]
  },
  {
   "cell_type": "code",
   "execution_count": 464,
   "id": "9ead0526-9fbf-4513-883b-99991566c781",
   "metadata": {},
   "outputs": [],
   "source": [
    "#Distincting between sever and not severe injury\n",
    "RegressData = RData.replace({'Injury Severity': {\"No Injury Collision\": 0, \n",
    "                                   'Minor Injury Collision': 0,\n",
    "                                                 \"Unknown Injury Collision\":0,\n",
    "                                  \"Serious Injury Collision\": 1, \n",
    "                                   'Fatal Collision': 1}})"
   ]
  },
  {
   "cell_type": "code",
   "execution_count": 465,
   "id": "2180a99e-e875-497a-8072-9b50e168d7be",
   "metadata": {},
   "outputs": [],
   "source": [
    "RX = RegressData[['Injury Severity','Associated State Road Number',\n",
    "       'School Zone', 'Intersection Related', \n",
    "       'Motor Vehicles Involved',\n",
    "       'Passengers Involved', 'Commercial Carrier Involved',\n",
    "       'School Bus Involved', 'Pedestrians Involved', 'Pedalcyclists Involved',\n",
    "       'AADT', 'County_Adams', 'County_Asotin', 'County_Benton',\n",
    "       'County_Chelan', 'County_Clallam', 'County_Clark', 'County_Columbia',\n",
    "       'County_Cowlitz', 'County_Douglas', 'County_Ferry', 'County_Franklin',\n",
    "       'County_Garfield', 'County_Grant', 'County_Grays Harbor',\n",
    "       'County_Island', 'County_Jefferson', 'County_Kitsap', 'County_Kittitas',\n",
    "       'County_Klickitat', 'County_Lewis', 'County_Lincoln', 'County_Mason',\n",
    "       'County_Okanogan', 'County_Pacific', 'County_Pend Oreille',\n",
    "       'County_Pierce', 'County_Skagit', 'County_Skamania', 'County_Snohomish',\n",
    "       'County_Spokane', 'County_Stevens', 'County_Thurston',\n",
    "       'County_Wahkiakum', 'County_Walla Walla', 'County_Whatcom',\n",
    "       'County_Whitman', 'County_Yakima',\n",
    "       'Weather Condition_Blowing Sand or Dirt or Snow',\n",
    "       'Weather Condition_Clear', 'Weather Condition_Fog or Smog or Smoke',\n",
    "       'Weather Condition_Overcast', 'Weather Condition_Partly Cloudy',\n",
    "       'Weather Condition_Raining', 'Weather Condition_Severe Crosswind',\n",
    "       'Weather Condition_Sleet or Hail or Freezing Rain',\n",
    "       'Weather Condition_Snowing',\n",
    "       'Lighting Condition_Dark - Unknown Lighting',\n",
    "       'Lighting Condition_Dark-No Street Lights',\n",
    "       'Lighting Condition_Dark-Street Lights Off',\n",
    "       'Lighting Condition_Dark-Street Lights On', 'Lighting Condition_Dawn',\n",
    "       'Lighting Condition_Daylight', 'Lighting Condition_Dusk',\n",
    "       'Lighting Condition_Other']]"
   ]
  },
  {
   "cell_type": "code",
   "execution_count": 466,
   "id": "9777857d-4f10-4eeb-98e0-46dfb545dd99",
   "metadata": {
    "scrolled": true
   },
   "outputs": [],
   "source": [
    "RX = RX.dropna()"
   ]
  },
  {
   "cell_type": "code",
   "execution_count": 467,
   "id": "48ffcf02-ef4b-4c5a-b659-afe49db1bffa",
   "metadata": {},
   "outputs": [],
   "source": [
    "RY = RX['Injury Severity']\n",
    "RX = RX[['Associated State Road Number',\n",
    "       'School Zone', 'Intersection Related', \n",
    "       'Motor Vehicles Involved',\n",
    "       'Passengers Involved', 'Commercial Carrier Involved',\n",
    "       'School Bus Involved', 'Pedestrians Involved', 'Pedalcyclists Involved',\n",
    "       'AADT', 'County_Adams', 'County_Asotin', 'County_Benton',\n",
    "       'County_Chelan', 'County_Clallam', 'County_Clark', 'County_Columbia',\n",
    "       'County_Cowlitz', 'County_Douglas', 'County_Ferry', 'County_Franklin',\n",
    "       'County_Garfield', 'County_Grant', 'County_Grays Harbor',\n",
    "       'County_Island', 'County_Jefferson', 'County_Kitsap', 'County_Kittitas',\n",
    "       'County_Klickitat', 'County_Lewis', 'County_Lincoln', 'County_Mason',\n",
    "       'County_Okanogan', 'County_Pacific', 'County_Pend Oreille',\n",
    "       'County_Pierce', 'County_Skagit', 'County_Skamania', 'County_Snohomish',\n",
    "       'County_Spokane', 'County_Stevens', 'County_Thurston',\n",
    "       'County_Wahkiakum', 'County_Walla Walla', 'County_Whatcom',\n",
    "       'County_Whitman', 'County_Yakima',\n",
    "       'Weather Condition_Blowing Sand or Dirt or Snow',\n",
    "       'Weather Condition_Clear', 'Weather Condition_Fog or Smog or Smoke',\n",
    "       'Weather Condition_Overcast', 'Weather Condition_Partly Cloudy',\n",
    "       'Weather Condition_Raining', 'Weather Condition_Severe Crosswind',\n",
    "       'Weather Condition_Sleet or Hail or Freezing Rain',\n",
    "       'Weather Condition_Snowing',\n",
    "       'Lighting Condition_Dark - Unknown Lighting',\n",
    "       'Lighting Condition_Dark-No Street Lights',\n",
    "       'Lighting Condition_Dark-Street Lights Off',\n",
    "       'Lighting Condition_Dark-Street Lights On', 'Lighting Condition_Dawn',\n",
    "       'Lighting Condition_Daylight', 'Lighting Condition_Dusk',\n",
    "       'Lighting Condition_Other']]"
   ]
  },
  {
   "cell_type": "code",
   "execution_count": null,
   "id": "4fbec3e3-2703-40d3-aca3-938a610ec209",
   "metadata": {},
   "outputs": [],
   "source": []
  },
  {
   "cell_type": "code",
   "execution_count": 468,
   "id": "5908b907-7c12-4e46-8f5a-5ce6607cf4b6",
   "metadata": {},
   "outputs": [],
   "source": [
    "X_model = sm.add_constant(RX)\n",
    "model = sm.OLS(RY, X_model)\n",
    "results = model.fit()"
   ]
  },
  {
   "cell_type": "code",
   "execution_count": 469,
   "id": "f09e7e6a-6dfb-4736-83bc-a9c498324f7a",
   "metadata": {
    "scrolled": true
   },
   "outputs": [
    {
     "name": "stdout",
     "output_type": "stream",
     "text": [
      "                            OLS Regression Results                            \n",
      "==============================================================================\n",
      "Dep. Variable:        Injury Severity   R-squared:                       0.081\n",
      "Model:                            OLS   Adj. R-squared:                  0.080\n",
      "Method:                 Least Squares   F-statistic:                     58.36\n",
      "Date:                Mon, 27 May 2024   Prob (F-statistic):               0.00\n",
      "Time:                        23:19:44   Log-Likelihood:                -32946.\n",
      "No. Observations:               42360   AIC:                         6.602e+04\n",
      "Df Residuals:                   42295   BIC:                         6.658e+04\n",
      "Df Model:                          64                                         \n",
      "Covariance Type:            nonrobust                                         \n",
      "====================================================================================================================\n",
      "                                                       coef    std err          t      P>|t|      [0.025      0.975]\n",
      "--------------------------------------------------------------------------------------------------------------------\n",
      "const                                                0.5556      0.124      4.496      0.000       0.313       0.798\n",
      "Associated State Road Number                     -8.665e-06   1.47e-05     -0.589      0.556   -3.75e-05    2.02e-05\n",
      "School Zone                                          0.0818      0.236      0.347      0.729      -0.381       0.544\n",
      "Intersection Related                                 0.0262      0.008      3.379      0.001       0.011       0.041\n",
      "Motor Vehicles Involved                              0.0671      0.004     17.710      0.000       0.060       0.075\n",
      "Passengers Involved                                  0.1053      0.006     18.424      0.000       0.094       0.117\n",
      "Commercial Carrier Involved                         -0.0194      0.009     -2.190      0.029      -0.037      -0.002\n",
      "School Bus Involved                                  0.1219      0.121      1.004      0.316      -0.116       0.360\n",
      "Pedestrians Involved                                 1.4575      0.030     47.842      0.000       1.398       1.517\n",
      "Pedalcyclists Involved                               0.6695      0.050     13.264      0.000       0.571       0.768\n",
      "AADT                                             -5.155e-07   5.29e-08     -9.737      0.000   -6.19e-07   -4.12e-07\n",
      "County_Adams                                         0.1055      0.032      3.264      0.001       0.042       0.169\n",
      "County_Asotin                                        0.2001      0.098      2.036      0.042       0.007       0.393\n",
      "County_Benton                                       -0.0405      0.016     -2.563      0.010      -0.071      -0.010\n",
      "County_Chelan                                       -0.0517      0.026     -1.985      0.047      -0.103      -0.001\n",
      "County_Clallam                                       0.0876      0.029      3.033      0.002       0.031       0.144\n",
      "County_Clark                                        -0.0102      0.014     -0.736      0.462      -0.037       0.017\n",
      "County_Columbia                                      0.2170      0.111      1.964      0.050       0.000       0.434\n",
      "County_Cowlitz                                      -0.0286      0.022     -1.319      0.187      -0.071       0.014\n",
      "County_Douglas                                       0.0026      0.032      0.082      0.935      -0.060       0.065\n",
      "County_Ferry                                         0.2713      0.083      3.278      0.001       0.109       0.434\n",
      "County_Franklin                                      0.0127      0.024      0.539      0.590      -0.033       0.059\n",
      "County_Garfield                                      0.1340      0.108      1.240      0.215      -0.078       0.346\n",
      "County_Grant                                         0.0087      0.022      0.405      0.685      -0.033       0.051\n",
      "County_Grays Harbor                                 -0.0210      0.027     -0.788      0.431      -0.073       0.031\n",
      "County_Island                                       -0.0503      0.031     -1.614      0.107      -0.111       0.011\n",
      "County_Jefferson                                     0.1077      0.035      3.107      0.002       0.040       0.176\n",
      "County_Kitsap                                       -0.0810      0.016     -4.919      0.000      -0.113      -0.049\n",
      "County_Kittitas                                      0.0028      0.019      0.149      0.882      -0.034       0.039\n",
      "County_Klickitat                                     0.1553      0.042      3.717      0.000       0.073       0.237\n",
      "County_Lewis                                        -0.0438      0.021     -2.047      0.041      -0.086      -0.002\n",
      "County_Lincoln                                       0.0879      0.046      1.901      0.057      -0.003       0.178\n",
      "County_Mason                                        -0.0395      0.025     -1.551      0.121      -0.089       0.010\n",
      "County_Okanogan                                      0.1120      0.036      3.085      0.002       0.041       0.183\n",
      "County_Pacific                                       0.0124      0.040      0.307      0.759      -0.067       0.091\n",
      "County_Pend Oreille                                  0.1761      0.055      3.214      0.001       0.069       0.283\n",
      "County_Pierce                                       -0.0365      0.009     -4.231      0.000      -0.053      -0.020\n",
      "County_Skagit                                       -0.0531      0.018     -3.033      0.002      -0.087      -0.019\n",
      "County_Skamania                                      0.1666      0.068      2.465      0.014       0.034       0.299\n",
      "County_Snohomish                                    -0.0385      0.009     -4.373      0.000      -0.056      -0.021\n",
      "County_Spokane                                      -0.0087      0.013     -0.652      0.515      -0.035       0.017\n",
      "County_Stevens                                       0.1269      0.037      3.451      0.001       0.055       0.199\n",
      "County_Thurston                                     -0.0678      0.015     -4.428      0.000      -0.098      -0.038\n",
      "County_Wahkiakum                                    -0.0459      0.091     -0.505      0.613      -0.224       0.132\n",
      "County_Walla Walla                                   0.0331      0.032      1.034      0.301      -0.030       0.096\n",
      "County_Whatcom                                      -0.0736      0.019     -3.841      0.000      -0.111      -0.036\n",
      "County_Whitman                                       0.0339      0.036      0.938      0.348      -0.037       0.105\n",
      "County_Yakima                                       -0.0332      0.018     -1.837      0.066      -0.069       0.002\n",
      "Weather Condition_Blowing Sand or Dirt or Snow      -0.3051      0.193     -1.583      0.113      -0.683       0.073\n",
      "Weather Condition_Clear                             -0.1127      0.048     -2.327      0.020      -0.208      -0.018\n",
      "Weather Condition_Fog or Smog or Smoke              -0.0616      0.053     -1.173      0.241      -0.165       0.041\n",
      "Weather Condition_Overcast                          -0.1269      0.049     -2.607      0.009      -0.222      -0.032\n",
      "Weather Condition_Partly Cloudy                     -0.0866      0.134     -0.648      0.517      -0.348       0.175\n",
      "Weather Condition_Raining                           -0.1497      0.049     -3.068      0.002      -0.245      -0.054\n",
      "Weather Condition_Severe Crosswind                  -0.0844      0.087     -0.974      0.330      -0.254       0.085\n",
      "Weather Condition_Sleet or Hail or Freezing Rain    -0.1460      0.054     -2.688      0.007      -0.253      -0.040\n",
      "Weather Condition_Snowing                           -0.2086      0.050     -4.147      0.000      -0.307      -0.110\n",
      "Lighting Condition_Dark - Unknown Lighting          -0.2525      0.118     -2.143      0.032      -0.483      -0.022\n",
      "Lighting Condition_Dark-No Street Lights            -0.2003      0.115     -1.735      0.083      -0.427       0.026\n",
      "Lighting Condition_Dark-Street Lights Off           -0.1709      0.120     -1.429      0.153      -0.405       0.063\n",
      "Lighting Condition_Dark-Street Lights On            -0.2449      0.115     -2.123      0.034      -0.471      -0.019\n",
      "Lighting Condition_Dawn                             -0.2388      0.117     -2.049      0.040      -0.467      -0.010\n",
      "Lighting Condition_Daylight                         -0.2752      0.115     -2.388      0.017      -0.501      -0.049\n",
      "Lighting Condition_Dusk                             -0.2463      0.116     -2.115      0.034      -0.475      -0.018\n",
      "Lighting Condition_Other                            -0.2254      0.158     -1.429      0.153      -0.535       0.084\n",
      "==============================================================================\n",
      "Omnibus:                    16357.914   Durbin-Watson:                   1.714\n",
      "Prob(Omnibus):                  0.000   Jarque-Bera (JB):            65578.948\n",
      "Skew:                           1.919   Prob(JB):                         0.00\n",
      "Kurtosis:                       7.735   Cond. No.                     1.31e+07\n",
      "==============================================================================\n",
      "\n",
      "Notes:\n",
      "[1] Standard Errors assume that the covariance matrix of the errors is correctly specified.\n",
      "[2] The condition number is large, 1.31e+07. This might indicate that there are\n",
      "strong multicollinearity or other numerical problems.\n"
     ]
    }
   ],
   "source": [
    "print(results.summary())"
   ]
  },
  {
   "cell_type": "code",
   "execution_count": 470,
   "id": "6dc38c40-0ef6-429a-9244-b38edf7244d2",
   "metadata": {},
   "outputs": [],
   "source": [
    "#Just finding between severe Injury or not\n",
    "RegressData = RData.replace({'Injury Severity': {\"No Injury Collision\": 0, \n",
    "                                   'Minor Injury Collision': 0,\n",
    "                                  \"Serious Injury Collision\": 1, \n",
    "                                   'Fatal Collision': 1}})\n",
    "RX = RegressData[['Injury Severity','Associated State Road Number', \n",
    "       'School Zone', 'Intersection Related', \n",
    "       'Motor Vehicles Involved',\n",
    "       'Passengers Involved', 'Commercial Carrier Involved',\n",
    "       'School Bus Involved', 'Pedestrians Involved', 'Pedalcyclists Involved',\n",
    "       'AADT', 'County_Adams', 'County_Asotin', 'County_Benton',\n",
    "       'County_Chelan', 'County_Clallam', 'County_Clark', 'County_Columbia',\n",
    "       'County_Cowlitz', 'County_Douglas', 'County_Ferry', 'County_Franklin',\n",
    "       'County_Garfield', 'County_Grant', 'County_Grays Harbor',\n",
    "       'County_Island', 'County_Jefferson', 'County_Kitsap', 'County_Kittitas',\n",
    "       'County_Klickitat', 'County_Lewis', 'County_Lincoln', 'County_Mason',\n",
    "       'County_Okanogan', 'County_Pacific', 'County_Pend Oreille',\n",
    "       'County_Pierce', 'County_Skagit', 'County_Skamania', 'County_Snohomish',\n",
    "       'County_Spokane', 'County_Stevens', 'County_Thurston',\n",
    "       'County_Wahkiakum', 'County_Walla Walla', 'County_Whatcom',\n",
    "       'County_Whitman', 'County_Yakima',\n",
    "       'Weather Condition_Blowing Sand or Dirt or Snow',\n",
    "       'Weather Condition_Clear', 'Weather Condition_Fog or Smog or Smoke',\n",
    "       'Weather Condition_Overcast', 'Weather Condition_Partly Cloudy',\n",
    "       'Weather Condition_Raining', 'Weather Condition_Severe Crosswind',\n",
    "       'Weather Condition_Sleet or Hail or Freezing Rain',\n",
    "       'Weather Condition_Snowing',\n",
    "       'Lighting Condition_Dark - Unknown Lighting',\n",
    "       'Lighting Condition_Dark-No Street Lights',\n",
    "       'Lighting Condition_Dark-Street Lights Off',\n",
    "       'Lighting Condition_Dark-Street Lights On', 'Lighting Condition_Dawn',\n",
    "       'Lighting Condition_Daylight', 'Lighting Condition_Dusk',\n",
    "       'Lighting Condition_Other']]\n",
    "RX = RX.dropna()\n",
    "RY = RX['Injury Severity']\n",
    "RX = RX[['Associated State Road Number',\n",
    "       'School Zone', 'Intersection Related', \n",
    "       'Motor Vehicles Involved',\n",
    "       'Passengers Involved', 'Commercial Carrier Involved',\n",
    "       'School Bus Involved', 'Pedestrians Involved', 'Pedalcyclists Involved',\n",
    "       'AADT', 'County_Adams', 'County_Asotin', 'County_Benton',\n",
    "       'County_Chelan', 'County_Clallam', 'County_Clark', 'County_Columbia',\n",
    "       'County_Cowlitz', 'County_Douglas', 'County_Ferry', 'County_Franklin',\n",
    "       'County_Garfield', 'County_Grant', 'County_Grays Harbor',\n",
    "       'County_Island', 'County_Jefferson', 'County_Kitsap', 'County_Kittitas',\n",
    "       'County_Klickitat', 'County_Lewis', 'County_Lincoln', 'County_Mason',\n",
    "       'County_Okanogan', 'County_Pacific', 'County_Pend Oreille',\n",
    "       'County_Pierce', 'County_Skagit', 'County_Skamania', 'County_Snohomish',\n",
    "       'County_Spokane', 'County_Stevens', 'County_Thurston',\n",
    "       'County_Wahkiakum', 'County_Walla Walla', 'County_Whatcom',\n",
    "       'County_Whitman', 'County_Yakima',\n",
    "       'Weather Condition_Blowing Sand or Dirt or Snow',\n",
    "       'Weather Condition_Clear', 'Weather Condition_Fog or Smog or Smoke',\n",
    "       'Weather Condition_Overcast', 'Weather Condition_Partly Cloudy',\n",
    "       'Weather Condition_Raining', 'Weather Condition_Severe Crosswind',\n",
    "       'Weather Condition_Sleet or Hail or Freezing Rain',\n",
    "       'Weather Condition_Snowing',\n",
    "       'Lighting Condition_Dark - Unknown Lighting',\n",
    "       'Lighting Condition_Dark-No Street Lights',\n",
    "       'Lighting Condition_Dark-Street Lights Off',\n",
    "       'Lighting Condition_Dark-Street Lights On', 'Lighting Condition_Dawn',\n",
    "       'Lighting Condition_Daylight', 'Lighting Condition_Dusk',\n",
    "       'Lighting Condition_Other']]\n",
    "X_model = sm.add_constant(RX)\n",
    "model = sm.OLS(RY, X_model)\n",
    "results = model.fit()"
   ]
  },
  {
   "cell_type": "code",
   "execution_count": 471,
   "id": "9bcff726-7931-48a3-9b24-01e1dad49f36",
   "metadata": {},
   "outputs": [
    {
     "name": "stdout",
     "output_type": "stream",
     "text": [
      "                            OLS Regression Results                            \n",
      "==============================================================================\n",
      "Dep. Variable:        Injury Severity   R-squared:                       0.079\n",
      "Model:                            OLS   Adj. R-squared:                  0.078\n",
      "Method:                 Least Squares   F-statistic:                     56.82\n",
      "Date:                Mon, 27 May 2024   Prob (F-statistic):               0.00\n",
      "Time:                        23:19:45   Log-Likelihood:                 16762.\n",
      "No. Observations:               42360   AIC:                        -3.339e+04\n",
      "Df Residuals:                   42295   BIC:                        -3.283e+04\n",
      "Df Model:                          64                                         \n",
      "Covariance Type:            nonrobust                                         \n",
      "====================================================================================================================\n",
      "                                                       coef    std err          t      P>|t|      [0.025      0.975]\n",
      "--------------------------------------------------------------------------------------------------------------------\n",
      "const                                                0.0977      0.038      2.557      0.011       0.023       0.173\n",
      "Associated State Road Number                     -1.158e-05   4.55e-06     -2.544      0.011   -2.05e-05   -2.66e-06\n",
      "School Zone                                         -0.0332      0.073     -0.454      0.650      -0.176       0.110\n",
      "Intersection Related                                 0.0020      0.002      0.824      0.410      -0.003       0.007\n",
      "Motor Vehicles Involved                              0.0024      0.001      2.039      0.041    9.22e-05       0.005\n",
      "Passengers Involved                                  0.0125      0.002      7.078      0.000       0.009       0.016\n",
      "Commercial Carrier Involved                          0.0115      0.003      4.176      0.000       0.006       0.017\n",
      "School Bus Involved                                  0.0453      0.038      1.205      0.228      -0.028       0.119\n",
      "Pedestrians Involved                                 0.4945      0.009     52.483      0.000       0.476       0.513\n",
      "Pedalcyclists Involved                               0.1861      0.016     11.924      0.000       0.156       0.217\n",
      "AADT                                             -1.067e-07   1.64e-08     -6.519      0.000   -1.39e-07   -7.46e-08\n",
      "County_Adams                                         0.0482      0.010      4.820      0.000       0.029       0.068\n",
      "County_Asotin                                        0.1065      0.030      3.506      0.000       0.047       0.166\n",
      "County_Benton                                       -0.0036      0.005     -0.743      0.457      -0.013       0.006\n",
      "County_Chelan                                        0.0041      0.008      0.507      0.612      -0.012       0.020\n",
      "County_Clallam                                       0.0346      0.009      3.876      0.000       0.017       0.052\n",
      "County_Clark                                         0.0039      0.004      0.899      0.369      -0.005       0.012\n",
      "County_Columbia                                      0.0595      0.034      1.740      0.082      -0.008       0.126\n",
      "County_Cowlitz                                       0.0251      0.007      3.733      0.000       0.012       0.038\n",
      "County_Douglas                                       0.0315      0.010      3.187      0.001       0.012       0.051\n",
      "County_Ferry                                         0.0725      0.026      2.830      0.005       0.022       0.123\n",
      "County_Franklin                                      0.0018      0.007      0.243      0.808      -0.012       0.016\n",
      "County_Garfield                                      0.0965      0.033      2.887      0.004       0.031       0.162\n",
      "County_Grant                                         0.0203      0.007      3.041      0.002       0.007       0.033\n",
      "County_Grays Harbor                                  0.0213      0.008      2.589      0.010       0.005       0.037\n",
      "County_Island                                       -0.0007      0.010     -0.072      0.943      -0.020       0.018\n",
      "County_Jefferson                                     0.0407      0.011      3.798      0.000       0.020       0.062\n",
      "County_Kitsap                                        0.0013      0.005      0.254      0.799      -0.009       0.011\n",
      "County_Kittitas                                      0.0090      0.006      1.569      0.117      -0.002       0.020\n",
      "County_Klickitat                                     0.0530      0.013      4.102      0.000       0.028       0.078\n",
      "County_Lewis                                         0.0122      0.007      1.848      0.065      -0.001       0.025\n",
      "County_Lincoln                                       0.0195      0.014      1.364      0.173      -0.009       0.048\n",
      "County_Mason                                         0.0122      0.008      1.545      0.122      -0.003       0.028\n",
      "County_Okanogan                                      0.0421      0.011      3.752      0.000       0.020       0.064\n",
      "County_Pacific                                       0.0147      0.012      1.179      0.238      -0.010       0.039\n",
      "County_Pend Oreille                                  0.0551      0.017      3.253      0.001       0.022       0.088\n",
      "County_Pierce                                        0.0032      0.003      1.191      0.234      -0.002       0.008\n",
      "County_Skagit                                        0.0058      0.005      1.068      0.285      -0.005       0.016\n",
      "County_Skamania                                      0.0502      0.021      2.403      0.016       0.009       0.091\n",
      "County_Snohomish                                    -0.0051      0.003     -1.881      0.060      -0.010       0.000\n",
      "County_Spokane                                       0.0006      0.004      0.141      0.888      -0.008       0.009\n",
      "County_Stevens                                       0.0419      0.011      3.687      0.000       0.020       0.064\n",
      "County_Thurston                                     -0.0041      0.005     -0.868      0.386      -0.013       0.005\n",
      "County_Wahkiakum                                     0.0302      0.028      1.075      0.282      -0.025       0.085\n",
      "County_Walla Walla                                   0.0228      0.010      2.303      0.021       0.003       0.042\n",
      "County_Whatcom                                      -0.0007      0.006     -0.113      0.910      -0.012       0.011\n",
      "County_Whitman                                       0.0006      0.011      0.053      0.957      -0.021       0.023\n",
      "County_Yakima                                        0.0020      0.006      0.350      0.726      -0.009       0.013\n",
      "Weather Condition_Blowing Sand or Dirt or Snow      -0.0509      0.060     -0.853      0.394      -0.168       0.066\n",
      "Weather Condition_Clear                             -0.0034      0.015     -0.225      0.822      -0.033       0.026\n",
      "Weather Condition_Fog or Smog or Smoke               0.0099      0.016      0.609      0.543      -0.022       0.042\n",
      "Weather Condition_Overcast                          -0.0114      0.015     -0.758      0.449      -0.041       0.018\n",
      "Weather Condition_Partly Cloudy                     -0.0404      0.041     -0.977      0.329      -0.121       0.041\n",
      "Weather Condition_Raining                           -0.0171      0.015     -1.136      0.256      -0.047       0.012\n",
      "Weather Condition_Severe Crosswind                  -0.0508      0.027     -1.894      0.058      -0.103       0.002\n",
      "Weather Condition_Sleet or Hail or Freezing Rain    -0.0177      0.017     -1.055      0.291      -0.051       0.015\n",
      "Weather Condition_Snowing                           -0.0334      0.016     -2.145      0.032      -0.064      -0.003\n",
      "Lighting Condition_Dark - Unknown Lighting          -0.0564      0.036     -1.548      0.122      -0.128       0.015\n",
      "Lighting Condition_Dark-No Street Lights            -0.0530      0.036     -1.486      0.137      -0.123       0.017\n",
      "Lighting Condition_Dark-Street Lights Off           -0.0675      0.037     -1.826      0.068      -0.140       0.005\n",
      "Lighting Condition_Dark-Street Lights On            -0.0585      0.036     -1.638      0.101      -0.128       0.011\n",
      "Lighting Condition_Dawn                             -0.0745      0.036     -2.066      0.039      -0.145      -0.004\n",
      "Lighting Condition_Daylight                         -0.0734      0.036     -2.061      0.039      -0.143      -0.004\n",
      "Lighting Condition_Dusk                             -0.0642      0.036     -1.782      0.075      -0.135       0.006\n",
      "Lighting Condition_Other                            -0.0126      0.049     -0.258      0.797      -0.108       0.083\n",
      "==============================================================================\n",
      "Omnibus:                    42600.603   Durbin-Watson:                   1.696\n",
      "Prob(Omnibus):                  0.000   Jarque-Bera (JB):          1650006.824\n",
      "Skew:                           5.233   Prob(JB):                         0.00\n",
      "Kurtosis:                      31.728   Cond. No.                     1.31e+07\n",
      "==============================================================================\n",
      "\n",
      "Notes:\n",
      "[1] Standard Errors assume that the covariance matrix of the errors is correctly specified.\n",
      "[2] The condition number is large, 1.31e+07. This might indicate that there are\n",
      "strong multicollinearity or other numerical problems.\n"
     ]
    }
   ],
   "source": [
    "print(results.summary())"
   ]
  },
  {
   "cell_type": "code",
   "execution_count": 510,
   "id": "7f261d61-cfdd-4924-baf6-34dcf27b1b5e",
   "metadata": {},
   "outputs": [],
   "source": [
    "SeattleRData = Seattle_Known_Injury_Data[Seattle_Known_Injury_Data['County'].notna() \n",
    "                                    & Seattle_Known_Injury_Data['Weather Condition'].notna() \n",
    "                                    & Seattle_Known_Injury_Data['Lighting Condition'].notna()]\n",
    "SeattleRData = SeattleRData.join(pd.get_dummies(SeattleRData[['Weather Condition','Lighting Condition']], dtype=float))\n",
    "SeattleRData = SeattleRData[SeattleRData[\"Injury Severity\"] != \"Unknown Injury Collision\"]"
   ]
  },
  {
   "cell_type": "code",
   "execution_count": 511,
   "id": "5f90258d-0730-43d5-b5d9-b74da1364590",
   "metadata": {},
   "outputs": [],
   "source": [
    "SeattleRData = SeattleRData.drop(['County','Weather Condition','Lighting Condition',\n",
    "        'Collision Report Number', 'Collision Date', 'City', 'Jurisdiction',\n",
    "       'Agency', 'Primary Trafficway', 'Primary Road Number',\n",
    "       'Secondary Trafficway', 'Secondary Road Number', 'Block Number',\n",
    "                   'Object Struck', 'Damage Threshold Met', 'Hit and Run', 'Mile Post'], axis=1)"
   ]
  },
  {
   "cell_type": "code",
   "execution_count": 553,
   "id": "31178399-f5b2-4332-a471-48c7988017e3",
   "metadata": {},
   "outputs": [],
   "source": [
    "#Just finding between severe Injury or not\n",
    "SeattleRegressData = SeattleRData.replace({'Injury Severity': {\"No Injury Collision\": 0, \n",
    "                                   'Minor Injury Collision': 0,\n",
    "                                  \"Serious Injury Collision\": 1, \n",
    "                                   'Fatal Collision': 1}})\n",
    "SRX = SeattleRegressData[['Injury Severity','Associated State Road Number', \n",
    "       'School Zone', 'Intersection Related', \n",
    "       'Motor Vehicles Involved',\n",
    "       'Passengers Involved', 'Commercial Carrier Involved',\n",
    "       'School Bus Involved', 'Pedestrians Involved', 'Pedalcyclists Involved',\n",
    "       'AADT', \n",
    "       'Weather Condition_Clear', 'Weather Condition_Fog or Smog or Smoke',\n",
    "       'Weather Condition_Overcast', \n",
    "       'Weather Condition_Raining', \n",
    "       'Weather Condition_Sleet or Hail or Freezing Rain',\n",
    "       'Weather Condition_Snowing',\n",
    "       'Lighting Condition_Dark - Unknown Lighting',\n",
    "       'Lighting Condition_Dark-No Street Lights',\n",
    "       'Lighting Condition_Dark-Street Lights Off',\n",
    "       'Lighting Condition_Dark-Street Lights On', 'Lighting Condition_Dawn',\n",
    "       'Lighting Condition_Daylight', 'Lighting Condition_Dusk',\n",
    "       'Lighting Condition_Other']]\n",
    "SRX = SRX.dropna()\n",
    "SRY = SRX['Injury Severity']\n",
    "SRX = SRX[['Associated State Road Number',\n",
    "       'School Zone', 'Intersection Related', \n",
    "       'Motor Vehicles Involved',\n",
    "       'Passengers Involved', 'Commercial Carrier Involved',\n",
    "       'School Bus Involved', 'Pedestrians Involved', 'Pedalcyclists Involved',\n",
    "       'AADT', \n",
    "       'Weather Condition_Clear', 'Weather Condition_Fog or Smog or Smoke',\n",
    "       'Weather Condition_Overcast', \n",
    "       'Weather Condition_Raining', 'Weather Condition_Sleet or Hail or Freezing Rain',\n",
    "       'Weather Condition_Snowing',\n",
    "       'Lighting Condition_Dark - Unknown Lighting',\n",
    "       'Lighting Condition_Dark-No Street Lights',\n",
    "       'Lighting Condition_Dark-Street Lights Off',\n",
    "       'Lighting Condition_Dark-Street Lights On', 'Lighting Condition_Dawn',\n",
    "       'Lighting Condition_Daylight', 'Lighting Condition_Dusk',\n",
    "       'Lighting Condition_Other']]\n",
    "SX_model = sm.add_constant(SRX)\n",
    "model = sm.OLS(SRY, SX_model)\n",
    "results = model.fit()"
   ]
  },
  {
   "cell_type": "code",
   "execution_count": 554,
   "id": "1f07f36b-b953-4686-9898-97a3ec08026a",
   "metadata": {},
   "outputs": [
    {
     "name": "stdout",
     "output_type": "stream",
     "text": [
      "                            OLS Regression Results                            \n",
      "==============================================================================\n",
      "Dep. Variable:        Injury Severity   R-squared:                       0.001\n",
      "Model:                            OLS   Adj. R-squared:                  0.001\n",
      "Method:                 Least Squares   F-statistic:                     5.448\n",
      "Date:                Tue, 28 May 2024   Prob (F-statistic):             0.0196\n",
      "Time:                        01:53:11   Log-Likelihood:                 2661.8\n",
      "No. Observations:                3780   AIC:                            -5320.\n",
      "Df Residuals:                    3778   BIC:                            -5307.\n",
      "Df Model:                           1                                         \n",
      "Covariance Type:            nonrobust                                         \n",
      "==============================================================================\n",
      "                 coef    std err          t      P>|t|      [0.025      0.975]\n",
      "------------------------------------------------------------------------------\n",
      "const          0.0236      0.004      5.432      0.000       0.015       0.032\n",
      "AADT       -6.285e-08   2.69e-08     -2.334      0.020   -1.16e-07   -1.01e-08\n",
      "==============================================================================\n",
      "Omnibus:                     5138.242   Durbin-Watson:                   1.441\n",
      "Prob(Omnibus):                  0.000   Jarque-Bera (JB):           677541.308\n",
      "Skew:                           8.091   Prob(JB):                         0.00\n",
      "Kurtosis:                      66.561   Cond. No.                     3.61e+05\n",
      "==============================================================================\n",
      "\n",
      "Notes:\n",
      "[1] Standard Errors assume that the covariance matrix of the errors is correctly specified.\n",
      "[2] The condition number is large, 3.61e+05. This might indicate that there are\n",
      "strong multicollinearity or other numerical problems.\n"
     ]
    }
   ],
   "source": [
    "print(results.summary())"
   ]
  },
  {
   "cell_type": "code",
   "execution_count": 50,
   "id": "9de374ca-657e-46b4-9a65-ab69d07c7f97",
   "metadata": {},
   "outputs": [],
   "source": [
    "SRw100 = Data[\"Associated State Road Number\"].value_counts().head(57).index.to_list()"
   ]
  },
  {
   "cell_type": "code",
   "execution_count": 51,
   "id": "e9acb290-53dc-40fd-a8ab-1f323b8bff28",
   "metadata": {
    "scrolled": true
   },
   "outputs": [
    {
     "data": {
      "text/html": [
       "<div>\n",
       "<style scoped>\n",
       "    .dataframe tbody tr th:only-of-type {\n",
       "        vertical-align: middle;\n",
       "    }\n",
       "\n",
       "    .dataframe tbody tr th {\n",
       "        vertical-align: top;\n",
       "    }\n",
       "\n",
       "    .dataframe thead th {\n",
       "        text-align: right;\n",
       "    }\n",
       "</style>\n",
       "<table border=\"1\" class=\"dataframe\">\n",
       "  <thead>\n",
       "    <tr style=\"text-align: right;\">\n",
       "      <th></th>\n",
       "      <th>Collision Report Number</th>\n",
       "      <th>Collision Date</th>\n",
       "      <th>County</th>\n",
       "      <th>City</th>\n",
       "      <th>Jurisdiction</th>\n",
       "      <th>Agency</th>\n",
       "      <th>Primary Trafficway</th>\n",
       "      <th>Primary Road Number</th>\n",
       "      <th>Secondary Trafficway</th>\n",
       "      <th>Secondary Road Number</th>\n",
       "      <th>...</th>\n",
       "      <th>Object Struck</th>\n",
       "      <th>Damage Threshold Met</th>\n",
       "      <th>Hit and Run</th>\n",
       "      <th>Motor Vehicles Involved</th>\n",
       "      <th>Passengers Involved</th>\n",
       "      <th>Commercial Carrier Involved</th>\n",
       "      <th>School Bus Involved</th>\n",
       "      <th>Pedestrians Involved</th>\n",
       "      <th>Pedalcyclists Involved</th>\n",
       "      <th>AADT</th>\n",
       "    </tr>\n",
       "  </thead>\n",
       "  <tbody>\n",
       "    <tr>\n",
       "      <th>0</th>\n",
       "      <td>EC07394</td>\n",
       "      <td>1/1/2022 3:20:00 AM</td>\n",
       "      <td>Pierce</td>\n",
       "      <td>Lakewood</td>\n",
       "      <td>State Road</td>\n",
       "      <td>State Patrol</td>\n",
       "      <td>84TH ST</td>\n",
       "      <td>NaN</td>\n",
       "      <td>SB I5</td>\n",
       "      <td>5.0</td>\n",
       "      <td>...</td>\n",
       "      <td>LIGHT POLE</td>\n",
       "      <td>1</td>\n",
       "      <td>1</td>\n",
       "      <td>1</td>\n",
       "      <td>0</td>\n",
       "      <td>0</td>\n",
       "      <td>0</td>\n",
       "      <td>0</td>\n",
       "      <td>0</td>\n",
       "      <td>173000.0</td>\n",
       "    </tr>\n",
       "    <tr>\n",
       "      <th>1</th>\n",
       "      <td>EC07169</td>\n",
       "      <td>1/1/2022 4:49:00 AM</td>\n",
       "      <td>King</td>\n",
       "      <td>Federal Way</td>\n",
       "      <td>State Road</td>\n",
       "      <td>State Patrol</td>\n",
       "      <td>NB I-5</td>\n",
       "      <td>5.0</td>\n",
       "      <td>SR-18</td>\n",
       "      <td>18.0</td>\n",
       "      <td>...</td>\n",
       "      <td>NaN</td>\n",
       "      <td>1</td>\n",
       "      <td>0</td>\n",
       "      <td>1</td>\n",
       "      <td>0</td>\n",
       "      <td>0</td>\n",
       "      <td>0</td>\n",
       "      <td>0</td>\n",
       "      <td>0</td>\n",
       "      <td>135000.0</td>\n",
       "    </tr>\n",
       "    <tr>\n",
       "      <th>2</th>\n",
       "      <td>EC07459</td>\n",
       "      <td>1/1/2022 5:52:00 AM</td>\n",
       "      <td>King</td>\n",
       "      <td>Seattle</td>\n",
       "      <td>State Road</td>\n",
       "      <td>State Patrol</td>\n",
       "      <td>INTERSTATE 5</td>\n",
       "      <td>5.0</td>\n",
       "      <td>MERCER ST</td>\n",
       "      <td>NaN</td>\n",
       "      <td>...</td>\n",
       "      <td>NaN</td>\n",
       "      <td>1</td>\n",
       "      <td>1</td>\n",
       "      <td>2</td>\n",
       "      <td>0</td>\n",
       "      <td>0</td>\n",
       "      <td>0</td>\n",
       "      <td>0</td>\n",
       "      <td>0</td>\n",
       "      <td>180000.0</td>\n",
       "    </tr>\n",
       "    <tr>\n",
       "      <th>3</th>\n",
       "      <td>EC07499</td>\n",
       "      <td>1/1/2022 12:28:00 PM</td>\n",
       "      <td>King</td>\n",
       "      <td>Seattle</td>\n",
       "      <td>State Road</td>\n",
       "      <td>State Patrol</td>\n",
       "      <td>SB I-5</td>\n",
       "      <td>5.0</td>\n",
       "      <td>NaN</td>\n",
       "      <td>NaN</td>\n",
       "      <td>...</td>\n",
       "      <td>NaN</td>\n",
       "      <td>1</td>\n",
       "      <td>1</td>\n",
       "      <td>3</td>\n",
       "      <td>1</td>\n",
       "      <td>0</td>\n",
       "      <td>0</td>\n",
       "      <td>0</td>\n",
       "      <td>0</td>\n",
       "      <td>190000.0</td>\n",
       "    </tr>\n",
       "    <tr>\n",
       "      <th>4</th>\n",
       "      <td>EC07499</td>\n",
       "      <td>1/1/2022 12:28:00 PM</td>\n",
       "      <td>King</td>\n",
       "      <td>Seattle</td>\n",
       "      <td>State Road</td>\n",
       "      <td>State Patrol</td>\n",
       "      <td>SB I-5</td>\n",
       "      <td>5.0</td>\n",
       "      <td>NaN</td>\n",
       "      <td>NaN</td>\n",
       "      <td>...</td>\n",
       "      <td>NaN</td>\n",
       "      <td>0</td>\n",
       "      <td>1</td>\n",
       "      <td>3</td>\n",
       "      <td>1</td>\n",
       "      <td>0</td>\n",
       "      <td>0</td>\n",
       "      <td>0</td>\n",
       "      <td>0</td>\n",
       "      <td>190000.0</td>\n",
       "    </tr>\n",
       "    <tr>\n",
       "      <th>...</th>\n",
       "      <td>...</td>\n",
       "      <td>...</td>\n",
       "      <td>...</td>\n",
       "      <td>...</td>\n",
       "      <td>...</td>\n",
       "      <td>...</td>\n",
       "      <td>...</td>\n",
       "      <td>...</td>\n",
       "      <td>...</td>\n",
       "      <td>...</td>\n",
       "      <td>...</td>\n",
       "      <td>...</td>\n",
       "      <td>...</td>\n",
       "      <td>...</td>\n",
       "      <td>...</td>\n",
       "      <td>...</td>\n",
       "      <td>...</td>\n",
       "      <td>...</td>\n",
       "      <td>...</td>\n",
       "      <td>...</td>\n",
       "      <td>...</td>\n",
       "    </tr>\n",
       "    <tr>\n",
       "      <th>12805</th>\n",
       "      <td>ED20647</td>\n",
       "      <td>12/30/2022 10:00:00 PM</td>\n",
       "      <td>King</td>\n",
       "      <td>Federal Way</td>\n",
       "      <td>State Road</td>\n",
       "      <td>State Patrol</td>\n",
       "      <td>SB I-5</td>\n",
       "      <td>5.0</td>\n",
       "      <td>S 320TH ST</td>\n",
       "      <td>NaN</td>\n",
       "      <td>...</td>\n",
       "      <td>Guardrail</td>\n",
       "      <td>1</td>\n",
       "      <td>1</td>\n",
       "      <td>2</td>\n",
       "      <td>1</td>\n",
       "      <td>0</td>\n",
       "      <td>0</td>\n",
       "      <td>0</td>\n",
       "      <td>0</td>\n",
       "      <td>178000.0</td>\n",
       "    </tr>\n",
       "    <tr>\n",
       "      <th>12806</th>\n",
       "      <td>ED20500</td>\n",
       "      <td>12/30/2022 10:30:00 PM</td>\n",
       "      <td>Cowlitz</td>\n",
       "      <td>Castle Rock</td>\n",
       "      <td>State Road</td>\n",
       "      <td>State Patrol</td>\n",
       "      <td>NB I-5</td>\n",
       "      <td>5.0</td>\n",
       "      <td>NB TOUTLE REST AREA</td>\n",
       "      <td>NaN</td>\n",
       "      <td>...</td>\n",
       "      <td>NaN</td>\n",
       "      <td>0</td>\n",
       "      <td>0</td>\n",
       "      <td>2</td>\n",
       "      <td>1</td>\n",
       "      <td>0</td>\n",
       "      <td>0</td>\n",
       "      <td>0</td>\n",
       "      <td>0</td>\n",
       "      <td>41000.0</td>\n",
       "    </tr>\n",
       "    <tr>\n",
       "      <th>12807</th>\n",
       "      <td>ED20500</td>\n",
       "      <td>12/30/2022 10:30:00 PM</td>\n",
       "      <td>Cowlitz</td>\n",
       "      <td>Castle Rock</td>\n",
       "      <td>State Road</td>\n",
       "      <td>State Patrol</td>\n",
       "      <td>NB I-5</td>\n",
       "      <td>5.0</td>\n",
       "      <td>NB TOUTLE REST AREA</td>\n",
       "      <td>NaN</td>\n",
       "      <td>...</td>\n",
       "      <td>NaN</td>\n",
       "      <td>1</td>\n",
       "      <td>0</td>\n",
       "      <td>2</td>\n",
       "      <td>1</td>\n",
       "      <td>0</td>\n",
       "      <td>0</td>\n",
       "      <td>0</td>\n",
       "      <td>0</td>\n",
       "      <td>41000.0</td>\n",
       "    </tr>\n",
       "    <tr>\n",
       "      <th>12808</th>\n",
       "      <td>ED21608</td>\n",
       "      <td>12/30/2022 11:33:00 PM</td>\n",
       "      <td>Cowlitz</td>\n",
       "      <td>Woodland</td>\n",
       "      <td>State Road</td>\n",
       "      <td>State Patrol</td>\n",
       "      <td>INTERSTATE 5</td>\n",
       "      <td>5.0</td>\n",
       "      <td>DIKE ROAD</td>\n",
       "      <td>NaN</td>\n",
       "      <td>...</td>\n",
       "      <td>Guardrail</td>\n",
       "      <td>1</td>\n",
       "      <td>0</td>\n",
       "      <td>1</td>\n",
       "      <td>0</td>\n",
       "      <td>0</td>\n",
       "      <td>0</td>\n",
       "      <td>0</td>\n",
       "      <td>0</td>\n",
       "      <td>67000.0</td>\n",
       "    </tr>\n",
       "    <tr>\n",
       "      <th>12809</th>\n",
       "      <td>ED21604</td>\n",
       "      <td>12/30/2022 11:51:00 PM</td>\n",
       "      <td>King</td>\n",
       "      <td>Federal Way</td>\n",
       "      <td>State Road</td>\n",
       "      <td>State Patrol</td>\n",
       "      <td>SOUTHBOUND I-5</td>\n",
       "      <td>5.0</td>\n",
       "      <td>W/B STATE ROUTE 18</td>\n",
       "      <td>18.0</td>\n",
       "      <td>...</td>\n",
       "      <td>NaN</td>\n",
       "      <td>1</td>\n",
       "      <td>1</td>\n",
       "      <td>2</td>\n",
       "      <td>0</td>\n",
       "      <td>0</td>\n",
       "      <td>0</td>\n",
       "      <td>0</td>\n",
       "      <td>0</td>\n",
       "      <td>178000.0</td>\n",
       "    </tr>\n",
       "  </tbody>\n",
       "</table>\n",
       "<p>12810 rows × 28 columns</p>\n",
       "</div>"
      ],
      "text/plain": [
       "      Collision Report Number          Collision Date   County         City  \\\n",
       "0                     EC07394     1/1/2022 3:20:00 AM   Pierce     Lakewood   \n",
       "1                     EC07169     1/1/2022 4:49:00 AM     King  Federal Way   \n",
       "2                     EC07459     1/1/2022 5:52:00 AM     King      Seattle   \n",
       "3                     EC07499    1/1/2022 12:28:00 PM     King      Seattle   \n",
       "4                     EC07499    1/1/2022 12:28:00 PM     King      Seattle   \n",
       "...                       ...                     ...      ...          ...   \n",
       "12805                 ED20647  12/30/2022 10:00:00 PM     King  Federal Way   \n",
       "12806                 ED20500  12/30/2022 10:30:00 PM  Cowlitz  Castle Rock   \n",
       "12807                 ED20500  12/30/2022 10:30:00 PM  Cowlitz  Castle Rock   \n",
       "12808                 ED21608  12/30/2022 11:33:00 PM  Cowlitz     Woodland   \n",
       "12809                 ED21604  12/30/2022 11:51:00 PM     King  Federal Way   \n",
       "\n",
       "      Jurisdiction        Agency    Primary Trafficway  Primary Road Number  \\\n",
       "0       State Road  State Patrol  84TH ST                               NaN   \n",
       "1       State Road  State Patrol  NB I-5                                5.0   \n",
       "2       State Road  State Patrol  INTERSTATE 5                          5.0   \n",
       "3       State Road  State Patrol  SB I-5                                5.0   \n",
       "4       State Road  State Patrol  SB I-5                                5.0   \n",
       "...            ...           ...                   ...                  ...   \n",
       "12805   State Road  State Patrol  SB I-5                                5.0   \n",
       "12806   State Road  State Patrol  NB I-5                                5.0   \n",
       "12807   State Road  State Patrol  NB I-5                                5.0   \n",
       "12808   State Road  State Patrol  INTERSTATE 5                          5.0   \n",
       "12809   State Road  State Patrol  SOUTHBOUND I-5                        5.0   \n",
       "\n",
       "       Secondary Trafficway  Secondary Road Number  ...  Object Struck  \\\n",
       "0      SB I5                                   5.0  ...     LIGHT POLE   \n",
       "1      SR-18                                  18.0  ...            NaN   \n",
       "2      MERCER ST                               NaN  ...            NaN   \n",
       "3                       NaN                    NaN  ...            NaN   \n",
       "4                       NaN                    NaN  ...            NaN   \n",
       "...                     ...                    ...  ...            ...   \n",
       "12805  S 320TH ST                              NaN  ...      Guardrail   \n",
       "12806  NB TOUTLE REST AREA                     NaN  ...            NaN   \n",
       "12807  NB TOUTLE REST AREA                     NaN  ...            NaN   \n",
       "12808  DIKE ROAD                               NaN  ...      Guardrail   \n",
       "12809  W/B STATE ROUTE 18                     18.0  ...            NaN   \n",
       "\n",
       "      Damage Threshold Met  Hit and Run  Motor Vehicles Involved  \\\n",
       "0                        1            1                        1   \n",
       "1                        1            0                        1   \n",
       "2                        1            1                        2   \n",
       "3                        1            1                        3   \n",
       "4                        0            1                        3   \n",
       "...                    ...          ...                      ...   \n",
       "12805                    1            1                        2   \n",
       "12806                    0            0                        2   \n",
       "12807                    1            0                        2   \n",
       "12808                    1            0                        1   \n",
       "12809                    1            1                        2   \n",
       "\n",
       "       Passengers Involved Commercial Carrier Involved School Bus Involved  \\\n",
       "0                        0                           0                   0   \n",
       "1                        0                           0                   0   \n",
       "2                        0                           0                   0   \n",
       "3                        1                           0                   0   \n",
       "4                        1                           0                   0   \n",
       "...                    ...                         ...                 ...   \n",
       "12805                    1                           0                   0   \n",
       "12806                    1                           0                   0   \n",
       "12807                    1                           0                   0   \n",
       "12808                    0                           0                   0   \n",
       "12809                    0                           0                   0   \n",
       "\n",
       "      Pedestrians Involved Pedalcyclists Involved      AADT  \n",
       "0                        0                      0  173000.0  \n",
       "1                        0                      0  135000.0  \n",
       "2                        0                      0  180000.0  \n",
       "3                        0                      0  190000.0  \n",
       "4                        0                      0  190000.0  \n",
       "...                    ...                    ...       ...  \n",
       "12805                    0                      0  178000.0  \n",
       "12806                    0                      0   41000.0  \n",
       "12807                    0                      0   41000.0  \n",
       "12808                    0                      0   67000.0  \n",
       "12809                    0                      0  178000.0  \n",
       "\n",
       "[12810 rows x 28 columns]"
      ]
     },
     "execution_count": 51,
     "metadata": {},
     "output_type": "execute_result"
    }
   ],
   "source": [
    "Data[Data[\"Associated State Road Number\"] == 5].set_index(np.arange(len(Data[Data[\"Associated State Road Number\"] == 5])))"
   ]
  },
  {
   "cell_type": "code",
   "execution_count": 52,
   "id": "98c6c1b1-b081-4c18-b6ce-1ac512801b9a",
   "metadata": {},
   "outputs": [],
   "source": [
    "rng = np.random.default_rng(seed=12345)"
   ]
  },
  {
   "cell_type": "code",
   "execution_count": null,
   "id": "01eadd3e-6cdf-4d72-8fd1-5138d60d4668",
   "metadata": {},
   "outputs": [],
   "source": []
  },
  {
   "cell_type": "code",
   "execution_count": 56,
   "id": "102d6c94-3db7-4095-92ab-71a6693c448b",
   "metadata": {},
   "outputs": [],
   "source": [
    "import random\n",
    "\n",
    "# Set the seed\n",
    "random.seed(42)\n",
    "\n",
    "def generate100Numbers(max: int, seed: int) -> np.array:\n",
    "    random.seed(seed)\n",
    "    random_numbers = random.sample(range(0, max), 100)  # Example: 10 unique random numbers between 1 and 100\n",
    "    return np.array(random_numbers)\n"
   ]
  },
  {
   "cell_type": "code",
   "execution_count": 58,
   "id": "09065f0f-d37b-4069-8499-f1860af7eaa9",
   "metadata": {},
   "outputs": [
    {
     "data": {
      "text/plain": [
       "array([ 86,  88,  60,  54,  84,  17,  59,  82,  39,  98,  79,  24,  15,\n",
       "        43,  36,   4,  41,  11,  91,  31,   1,  96,  50,  33,  67,  23,\n",
       "        46, 100,   6, 102,  21,  57,  94,  10,  34,  32,  68,  87,   0,\n",
       "        75,  72,  28,  19,  26,  71,  63,  85,  61,  29,  66,  42,  20,\n",
       "        64,  27,  83,  99,  48,   9,  25,  92,  14,  53,  93,  56,  47,\n",
       "       101,  70,  97,  38,  44,  78, 104,  81,  90,  77,  37,  35,  12,\n",
       "        74,  65,  40,  51,  22,  89,  30,   8, 103,  45,  69,  18,  16,\n",
       "        76,  58,  73,   2,  62,   5,  13,  52,   3])"
      ]
     },
     "execution_count": 58,
     "metadata": {},
     "output_type": "execute_result"
    }
   ],
   "source": [
    "generate100Numbers(105,481)"
   ]
  },
  {
   "cell_type": "code",
   "execution_count": 59,
   "id": "bfe81f30-14b0-4881-aba6-809c0230817a",
   "metadata": {},
   "outputs": [
    {
     "data": {
      "text/html": [
       "<div>\n",
       "<style scoped>\n",
       "    .dataframe tbody tr th:only-of-type {\n",
       "        vertical-align: middle;\n",
       "    }\n",
       "\n",
       "    .dataframe tbody tr th {\n",
       "        vertical-align: top;\n",
       "    }\n",
       "\n",
       "    .dataframe thead th {\n",
       "        text-align: right;\n",
       "    }\n",
       "</style>\n",
       "<table border=\"1\" class=\"dataframe\">\n",
       "  <thead>\n",
       "    <tr style=\"text-align: right;\">\n",
       "      <th></th>\n",
       "      <th>Collision Report Number</th>\n",
       "      <th>Collision Date</th>\n",
       "      <th>County</th>\n",
       "      <th>City</th>\n",
       "      <th>Jurisdiction</th>\n",
       "      <th>Agency</th>\n",
       "      <th>Primary Trafficway</th>\n",
       "      <th>Primary Road Number</th>\n",
       "      <th>Secondary Trafficway</th>\n",
       "      <th>Secondary Road Number</th>\n",
       "      <th>...</th>\n",
       "      <th>Object Struck</th>\n",
       "      <th>Damage Threshold Met</th>\n",
       "      <th>Hit and Run</th>\n",
       "      <th>Motor Vehicles Involved</th>\n",
       "      <th>Passengers Involved</th>\n",
       "      <th>Commercial Carrier Involved</th>\n",
       "      <th>School Bus Involved</th>\n",
       "      <th>Pedestrians Involved</th>\n",
       "      <th>Pedalcyclists Involved</th>\n",
       "      <th>AADT</th>\n",
       "    </tr>\n",
       "  </thead>\n",
       "  <tbody>\n",
       "  </tbody>\n",
       "</table>\n",
       "<p>0 rows × 28 columns</p>\n",
       "</div>"
      ],
      "text/plain": [
       "Empty DataFrame\n",
       "Columns: [Collision Report Number, Collision Date, County, City, Jurisdiction, Agency, Primary Trafficway, Primary Road Number, Secondary Trafficway, Secondary Road Number, Associated State Road Number, Block Number, Mile Post, School Zone, Intersection Related, Weather Condition, Lighting Condition, Injury Severity, Object Struck, Damage Threshold Met, Hit and Run, Motor Vehicles Involved, Passengers Involved, Commercial Carrier Involved, School Bus Involved, Pedestrians Involved, Pedalcyclists Involved, AADT]\n",
       "Index: []\n",
       "\n",
       "[0 rows x 28 columns]"
      ]
     },
     "execution_count": 59,
     "metadata": {},
     "output_type": "execute_result"
    }
   ],
   "source": [
    "Data100s = Data[Data[\"Associated State Road Number\"] == 0]\n",
    "Data100s"
   ]
  },
  {
   "cell_type": "code",
   "execution_count": 60,
   "id": "561ba9fb-aa12-419f-b366-b9ad03bfe336",
   "metadata": {},
   "outputs": [],
   "source": [
    "Data100s = Data[Data[\"Associated State Road Number\"] == 0]\n",
    "for i in SRw100:\n",
    "    Data100s = pd.concat([Data100s, Data[Data[\"Associated State Road Number\"] == i].set_index(\n",
    "        np.arange(len(Data[Data[\"Associated State Road Number\"] == i]))).iloc[\n",
    "        generate100Numbers(len(Data[Data[\"Associated State Road Number\"] == i]),481)]])\n",
    "\n",
    "Data100s = Data100s[(Data100s[\"Injury Severity\"] != \"Unknown Injury Collision\")]"
   ]
  },
  {
   "cell_type": "code",
   "execution_count": 61,
   "id": "555f2455-bad7-4b50-a3dd-1756f6f2057a",
   "metadata": {},
   "outputs": [
    {
     "data": {
      "text/plain": [
       "array(['No Injury Collision', 'Minor Injury Collision',\n",
       "       'Serious Injury Collision', 'Fatal Collision'], dtype=object)"
      ]
     },
     "execution_count": 61,
     "metadata": {},
     "output_type": "execute_result"
    }
   ],
   "source": [
    "Data100s[\"Injury Severity\"].unique()"
   ]
  },
  {
   "cell_type": "code",
   "execution_count": 62,
   "id": "dd0d722c-f44d-40b1-afb9-34be0a204359",
   "metadata": {},
   "outputs": [],
   "source": [
    "X_100s = Data100s[['Associated State Road Number',\"Injury Severity\",'Intersection Related', 'Weather Condition',\n",
    "       'Lighting Condition',\n",
    "       'Passengers Involved', 'Commercial Carrier Involved',\n",
    "       'School Bus Involved', 'Pedestrians Involved', 'Pedalcyclists Involved',\n",
    "       'AADT']]"
   ]
  },
  {
   "cell_type": "code",
   "execution_count": 63,
   "id": "51f983d7-0bd4-46bb-a189-24645ee7fea0",
   "metadata": {},
   "outputs": [],
   "source": [
    "values = {\"Lighting Condition\": 'Unkown', \"Weather Condition\": 'Other', 'Passengers Involved':0.0, 'Commercial Carrier Involved':0.0,\n",
    "       'School Bus Involved':0.0, 'Pedestrians Involved':0.0, 'Pedalcyclists Involved':0.0}\n",
    "X_100s=X_100s.fillna(value=values)\n",
    "X_100s=X_100s.dropna()"
   ]
  },
  {
   "cell_type": "code",
   "execution_count": 64,
   "id": "91a3b6bc-e373-4b51-82c8-c8905581506c",
   "metadata": {},
   "outputs": [
    {
     "data": {
      "text/plain": [
       "array(['No Injury Collision', 'Minor Injury Collision',\n",
       "       'Serious Injury Collision', 'Fatal Collision'], dtype=object)"
      ]
     },
     "execution_count": 64,
     "metadata": {},
     "output_type": "execute_result"
    }
   ],
   "source": [
    "X_100s[\"Injury Severity\"].unique()"
   ]
  },
  {
   "cell_type": "code",
   "execution_count": 65,
   "id": "52746989-48e6-4dfb-b021-959af2c87277",
   "metadata": {},
   "outputs": [],
   "source": [
    "for Condition in Conditions:\n",
    "    use_list = []\n",
    "    states = []\n",
    "    if Condition == 'Weather Condition':\n",
    "        use_list = Weather_Correspondance = [0,7,2,3,5,4,0,6,1,8]\n",
    "        states = X_100s['Weather Condition'].unique()\n",
    "    else:\n",
    "        use_list = Lighting_Correspondance=[3,5,2,7,4,0,6,2,7]\n",
    "        states = X_100s['Lighting Condition'].unique()\n",
    "    for i in np.arange(X_100s[Condition].unique().shape[0]):\n",
    "        X_100s.loc[X_100s[Condition] == states[i], Condition] = use_list[i]"
   ]
  },
  {
   "cell_type": "code",
   "execution_count": 66,
   "id": "7cea3492-ffe7-4a3a-9e84-32591c9f4108",
   "metadata": {},
   "outputs": [],
   "source": [
    "Y_100s = X_100s[[\"Injury Severity\"]]\n",
    "X_100s = X_100s.drop([\"Injury Severity\"], axis = 1)"
   ]
  },
  {
   "cell_type": "code",
   "execution_count": 67,
   "id": "f44d0cec-9bcc-44b2-830b-2ea60d975e57",
   "metadata": {},
   "outputs": [
    {
     "data": {
      "text/plain": [
       "array(['No Injury Collision', 'Minor Injury Collision',\n",
       "       'Serious Injury Collision', 'Fatal Collision'], dtype=object)"
      ]
     },
     "execution_count": 67,
     "metadata": {},
     "output_type": "execute_result"
    }
   ],
   "source": [
    "Y_100s[\"Injury Severity\"].unique()"
   ]
  },
  {
   "cell_type": "code",
   "execution_count": 71,
   "id": "5b5c7794-d341-4072-bd9e-1ee0a04d96d8",
   "metadata": {},
   "outputs": [
    {
     "name": "stdout",
     "output_type": "stream",
     "text": [
      "Number of mislabeled points out of a total 1108 points : 537\n",
      "0.5153429602888087\n",
      "Confusion Matrix:\n",
      "[[  4   6   2   0]\n",
      " [  2 123 128   5]\n",
      " [  1 352 443  15]\n",
      " [  1  13  12   1]]\n",
      "\n",
      "Classification Report:\n",
      "                          precision    recall  f1-score   support\n",
      "\n",
      "         Fatal Collision       0.50      0.33      0.40        12\n",
      "  Minor Injury Collision       0.25      0.48      0.33       258\n",
      "     No Injury Collision       0.76      0.55      0.63       811\n",
      "Serious Injury Collision       0.05      0.04      0.04        27\n",
      "\n",
      "                accuracy                           0.52      1108\n",
      "               macro avg       0.39      0.35      0.35      1108\n",
      "            weighted avg       0.62      0.52      0.55      1108\n",
      "\n"
     ]
    },
    {
     "data": {
      "image/png": "[encoded data removed]",
      "text/plain": [
       "<Figure size 500x400 with 2 Axes>"
      ]
     },
     "metadata": {},
     "output_type": "display_data"
    },
    {
     "name": "stdout",
     "output_type": "stream",
     "text": [
      "Predicted values:\n",
      "Fatal Collision occurs 8 times\n",
      "Minor Injury Collision occurs 494 times\n",
      "No Injury Collision occurs 585 times\n",
      "Serious Injury Collision occurs 21 times\n",
      "\n",
      "Actual values:\n",
      "Fatal Collision occurs 12 times\n",
      "Minor Injury Collision occurs 258 times\n",
      "No Injury Collision occurs 811 times\n",
      "Serious Injury Collision occurs 27 times\n"
     ]
    }
   ],
   "source": [
    "PredictionReport(X_100s.drop([\"AADT\"], axis = 1),Y_100s,\"Complement\")"
   ]
  },
  {
   "cell_type": "code",
   "execution_count": 750,
   "id": "f97b5771-72cf-4d72-b012-8c53eb235aa3",
   "metadata": {},
   "outputs": [],
   "source": [
    "Data100s = Data100s.sort_index().set_index(np.arange(len(Data100s)))\n"
   ]
  },
  {
   "cell_type": "code",
   "execution_count": 113,
   "id": "0238c6ce-8984-4164-9ab1-80673c0c86fd",
   "metadata": {},
   "outputs": [],
   "source": [
    "from scipy import stats as st"
   ]
  },
  {
   "cell_type": "code",
   "execution_count": 126,
   "id": "4bc53bb0-4414-4676-897d-5c2226d5a210",
   "metadata": {},
   "outputs": [
    {
     "data": {
      "text/plain": [
       "ModeResult(mode=5400.0, count=3922)"
      ]
     },
     "execution_count": 126,
     "metadata": {},
     "output_type": "execute_result"
    }
   ],
   "source": [
    "st.mode(Data['AADT'].to_numpy())"
   ]
  },
  {
   "cell_type": "code",
   "execution_count": 75,
   "id": "e866065a-c108-47bb-8578-b2f942c999c9",
   "metadata": {},
   "outputs": [
    {
     "data": {
      "text/plain": [
       "31073.59696641387"
      ]
     },
     "execution_count": 75,
     "metadata": {},
     "output_type": "execute_result"
    }
   ],
   "source": [
    "np.average(Data100s['AADT'].to_numpy())"
   ]
  },
  {
   "cell_type": "code",
   "execution_count": 82,
   "id": "42a1570b-f578-4056-9061-6dc71e25db46",
   "metadata": {},
   "outputs": [
    {
     "data": {
      "text/plain": [
       "(247000.0, 90.0)"
      ]
     },
     "execution_count": 82,
     "metadata": {},
     "output_type": "execute_result"
    }
   ],
   "source": [
    "(np.max(Data['AADT'].to_numpy()),np.min(Data['AADT'].to_numpy()))"
   ]
  },
  {
   "cell_type": "code",
   "execution_count": 123,
   "id": "8ffbde6e-0f0d-400c-a614-591d1bacc8c7",
   "metadata": {},
   "outputs": [
    {
     "data": {
      "text/plain": [
       "AADT\n",
       "5400.0      3922\n",
       "190000.0     770\n",
       "17000.0      562\n",
       "23000.0      558\n",
       "19000.0      514\n",
       "            ... \n",
       "920.0          1\n",
       "330.0          1\n",
       "530.0          1\n",
       "990.0          1\n",
       "980.0          1\n",
       "Name: count, Length: 336, dtype: int64"
      ]
     },
     "execution_count": 123,
     "metadata": {},
     "output_type": "execute_result"
    }
   ],
   "source": [
    "Data['AADT'].value_counts()"
   ]
  },
  {
   "cell_type": "code",
   "execution_count": 135,
   "id": "c5486f92-c732-4be5-867b-db03bdaf4109",
   "metadata": {},
   "outputs": [
    {
     "data": {
      "text/plain": [
       "(array([ 103.,  214.,  418.,  509.,  385.,  396.,  282.,  321.,  199.,\n",
       "         385., 4155.,  525.,  266.,  237.,  378.,  291.,  251.,  204.,\n",
       "         126.,  435.,  158.,    0.,  388.,    0.,  337.,    0.,  496.,\n",
       "           0.,  249.,    0.,  350.,    0.,  408.,    0.,  562.,    0.,\n",
       "         495.,    0.,  514.,    0.,  492.,    0.,  386.,    0.,  416.,\n",
       "           0.,  558.,    0.,  189.,    0.,  435.,    0.,  340.,    0.,\n",
       "           0.,  207.,    0.,  483.,    0.,  381.,    0.,  257.,    0.,\n",
       "         272.,    0.,  338.,    0.,  293.,    0.,  372.,    0.,  440.,\n",
       "           0.,  260.,    0.,  166.,    0.,  323.,    0.,   74.,    0.,\n",
       "         367.,    0.,   89.,    0.,  382.,    0.,  152.,    0.,  304.,\n",
       "           0.,   97.,    0.,  165.,    0.,  100.,    0.,  162.,    0.,\n",
       "         261.]),\n",
       " array([   90. ,   579.1,  1068.2,  1557.3,  2046.4,  2535.5,  3024.6,\n",
       "         3513.7,  4002.8,  4491.9,  4981. ,  5470.1,  5959.2,  6448.3,\n",
       "         6937.4,  7426.5,  7915.6,  8404.7,  8893.8,  9382.9,  9872. ,\n",
       "        10361.1, 10850.2, 11339.3, 11828.4, 12317.5, 12806.6, 13295.7,\n",
       "        13784.8, 14273.9, 14763. , 15252.1, 15741.2, 16230.3, 16719.4,\n",
       "        17208.5, 17697.6, 18186.7, 18675.8, 19164.9, 19654. , 20143.1,\n",
       "        20632.2, 21121.3, 21610.4, 22099.5, 22588.6, 23077.7, 23566.8,\n",
       "        24055.9, 24545. , 25034.1, 25523.2, 26012.3, 26501.4, 26990.5,\n",
       "        27479.6, 27968.7, 28457.8, 28946.9, 29436. , 29925.1, 30414.2,\n",
       "        30903.3, 31392.4, 31881.5, 32370.6, 32859.7, 33348.8, 33837.9,\n",
       "        34327. , 34816.1, 35305.2, 35794.3, 36283.4, 36772.5, 37261.6,\n",
       "        37750.7, 38239.8, 38728.9, 39218. , 39707.1, 40196.2, 40685.3,\n",
       "        41174.4, 41663.5, 42152.6, 42641.7, 43130.8, 43619.9, 44109. ,\n",
       "        44598.1, 45087.2, 45576.3, 46065.4, 46554.5, 47043.6, 47532.7,\n",
       "        48021.8, 48510.9, 49000. ]),\n",
       " <BarContainer object of 100 artists>)"
      ]
     },
     "execution_count": 135,
     "metadata": {},
     "output_type": "execute_result"
    },
    {
     "data": {
      "image/png": "[encoded data removed]",
      "text/plain": [
       "<Figure size 640x480 with 1 Axes>"
      ]
     },
     "metadata": {},
     "output_type": "display_data"
    }
   ],
   "source": [
    "plt.hist(Data[(Data['AADT'] < 50000)]['AADT'].to_numpy(), bins = 100)"
   ]
  },
  {
   "cell_type": "code",
   "execution_count": 138,
   "id": "5370cd08-49a6-4a5b-bdbb-6d38ed1e34a8",
   "metadata": {},
   "outputs": [
    {
     "data": {
      "text/html": [
       "<div>\n",
       "<style scoped>\n",
       "    .dataframe tbody tr th:only-of-type {\n",
       "        vertical-align: middle;\n",
       "    }\n",
       "\n",
       "    .dataframe tbody tr th {\n",
       "        vertical-align: top;\n",
       "    }\n",
       "\n",
       "    .dataframe thead th {\n",
       "        text-align: right;\n",
       "    }\n",
       "</style>\n",
       "<table border=\"1\" class=\"dataframe\">\n",
       "  <thead>\n",
       "    <tr style=\"text-align: right;\">\n",
       "      <th></th>\n",
       "      <th>County</th>\n",
       "      <th>City</th>\n",
       "      <th>Associated State Road Number</th>\n",
       "      <th>Mile Post</th>\n",
       "      <th>School Zone</th>\n",
       "      <th>Intersection Related</th>\n",
       "      <th>Weather Condition</th>\n",
       "      <th>Lighting Condition</th>\n",
       "      <th>Injury Severity</th>\n",
       "      <th>Object Struck</th>\n",
       "      <th>Damage Threshold Met</th>\n",
       "      <th>Hit and Run</th>\n",
       "      <th>Motor Vehicles Involved</th>\n",
       "      <th>Passengers Involved</th>\n",
       "      <th>Commercial Carrier Involved</th>\n",
       "      <th>School Bus Involved</th>\n",
       "      <th>Pedestrians Involved</th>\n",
       "      <th>Pedalcyclists Involved</th>\n",
       "      <th>AADT</th>\n",
       "    </tr>\n",
       "  </thead>\n",
       "  <tbody>\n",
       "    <tr>\n",
       "      <th>11108</th>\n",
       "      <td>Pierce</td>\n",
       "      <td>Fife</td>\n",
       "      <td>5.0</td>\n",
       "      <td>135.80</td>\n",
       "      <td>0</td>\n",
       "      <td>0</td>\n",
       "      <td>Clear</td>\n",
       "      <td>Dark-Street Lights On</td>\n",
       "      <td>No Injury Collision</td>\n",
       "      <td>NaN</td>\n",
       "      <td>1</td>\n",
       "      <td>0</td>\n",
       "      <td>2</td>\n",
       "      <td>0</td>\n",
       "      <td>0</td>\n",
       "      <td>0</td>\n",
       "      <td>0</td>\n",
       "      <td>0</td>\n",
       "      <td>204000.0</td>\n",
       "    </tr>\n",
       "    <tr>\n",
       "      <th>11323</th>\n",
       "      <td>King</td>\n",
       "      <td>Seattle</td>\n",
       "      <td>5.0</td>\n",
       "      <td>173.50</td>\n",
       "      <td>0</td>\n",
       "      <td>0</td>\n",
       "      <td>Clear</td>\n",
       "      <td>Daylight</td>\n",
       "      <td>No Injury Collision</td>\n",
       "      <td>NaN</td>\n",
       "      <td>1</td>\n",
       "      <td>0</td>\n",
       "      <td>2</td>\n",
       "      <td>0</td>\n",
       "      <td>0</td>\n",
       "      <td>0</td>\n",
       "      <td>0</td>\n",
       "      <td>0</td>\n",
       "      <td>190000.0</td>\n",
       "    </tr>\n",
       "    <tr>\n",
       "      <th>7753</th>\n",
       "      <td>Thurston</td>\n",
       "      <td>Lacey</td>\n",
       "      <td>5.0</td>\n",
       "      <td>114.00</td>\n",
       "      <td>0</td>\n",
       "      <td>0</td>\n",
       "      <td>Clear</td>\n",
       "      <td>Daylight</td>\n",
       "      <td>No Injury Collision</td>\n",
       "      <td>NaN</td>\n",
       "      <td>1</td>\n",
       "      <td>0</td>\n",
       "      <td>2</td>\n",
       "      <td>0</td>\n",
       "      <td>0</td>\n",
       "      <td>0</td>\n",
       "      <td>0</td>\n",
       "      <td>0</td>\n",
       "      <td>96000.0</td>\n",
       "    </tr>\n",
       "    <tr>\n",
       "      <th>6960</th>\n",
       "      <td>King</td>\n",
       "      <td>Seattle</td>\n",
       "      <td>5.0</td>\n",
       "      <td>166.62</td>\n",
       "      <td>0</td>\n",
       "      <td>0</td>\n",
       "      <td>Clear</td>\n",
       "      <td>Daylight</td>\n",
       "      <td>No Injury Collision</td>\n",
       "      <td>NaN</td>\n",
       "      <td>1</td>\n",
       "      <td>0</td>\n",
       "      <td>2</td>\n",
       "      <td>1</td>\n",
       "      <td>0</td>\n",
       "      <td>0</td>\n",
       "      <td>0</td>\n",
       "      <td>0</td>\n",
       "      <td>29000.0</td>\n",
       "    </tr>\n",
       "    <tr>\n",
       "      <th>10790</th>\n",
       "      <td>King</td>\n",
       "      <td>Federal Way</td>\n",
       "      <td>5.0</td>\n",
       "      <td>144.00</td>\n",
       "      <td>0</td>\n",
       "      <td>0</td>\n",
       "      <td>Clear</td>\n",
       "      <td>Daylight</td>\n",
       "      <td>No Injury Collision</td>\n",
       "      <td>NaN</td>\n",
       "      <td>1</td>\n",
       "      <td>0</td>\n",
       "      <td>3</td>\n",
       "      <td>0</td>\n",
       "      <td>0</td>\n",
       "      <td>0</td>\n",
       "      <td>0</td>\n",
       "      <td>0</td>\n",
       "      <td>159000.0</td>\n",
       "    </tr>\n",
       "  </tbody>\n",
       "</table>\n",
       "</div>"
      ],
      "text/plain": [
       "         County         City  Associated State Road Number  Mile Post  \\\n",
       "11108    Pierce         Fife                           5.0     135.80   \n",
       "11323      King      Seattle                           5.0     173.50   \n",
       "7753   Thurston        Lacey                           5.0     114.00   \n",
       "6960       King      Seattle                           5.0     166.62   \n",
       "10790      King  Federal Way                           5.0     144.00   \n",
       "\n",
       "       School Zone  Intersection Related Weather Condition  \\\n",
       "11108            0                     0             Clear   \n",
       "11323            0                     0             Clear   \n",
       "7753             0                     0             Clear   \n",
       "6960             0                     0             Clear   \n",
       "10790            0                     0             Clear   \n",
       "\n",
       "          Lighting Condition      Injury Severity Object Struck  \\\n",
       "11108  Dark-Street Lights On  No Injury Collision           NaN   \n",
       "11323               Daylight  No Injury Collision           NaN   \n",
       "7753                Daylight  No Injury Collision           NaN   \n",
       "6960                Daylight  No Injury Collision           NaN   \n",
       "10790               Daylight  No Injury Collision           NaN   \n",
       "\n",
       "       Damage Threshold Met  Hit and Run  Motor Vehicles Involved  \\\n",
       "11108                     1            0                        2   \n",
       "11323                     1            0                        2   \n",
       "7753                      1            0                        2   \n",
       "6960                      1            0                        2   \n",
       "10790                     1            0                        3   \n",
       "\n",
       "       Passengers Involved  Commercial Carrier Involved  School Bus Involved  \\\n",
       "11108                    0                            0                    0   \n",
       "11323                    0                            0                    0   \n",
       "7753                     0                            0                    0   \n",
       "6960                     1                            0                    0   \n",
       "10790                    0                            0                    0   \n",
       "\n",
       "       Pedestrians Involved  Pedalcyclists Involved      AADT  \n",
       "11108                     0                       0  204000.0  \n",
       "11323                     0                       0  190000.0  \n",
       "7753                      0                       0   96000.0  \n",
       "6960                      0                       0   29000.0  \n",
       "10790                     0                       0  159000.0  "
      ]
     },
     "execution_count": 138,
     "metadata": {},
     "output_type": "execute_result"
    }
   ],
   "source": [
    "Data100s.drop(['Collision Report Number', 'Collision Date',\n",
    "       'Jurisdiction', 'Agency', 'Primary Trafficway', 'Primary Road Number',\n",
    "       'Secondary Trafficway', 'Secondary Road Number','Block Number'], axis =1 ).head()"
   ]
  },
  {
   "cell_type": "code",
   "execution_count": 50,
   "id": "62308387-3ab9-4237-8d02-4c411476211e",
   "metadata": {},
   "outputs": [],
   "source": [
    "Data5400 = Data[(Data['AADT'] == 5400)]"
   ]
  },
  {
   "cell_type": "code",
   "execution_count": 51,
   "id": "39be6504-20dc-47f6-afa8-37cb9cb3a33f",
   "metadata": {},
   "outputs": [
    {
     "data": {
      "text/plain": [
       "3922"
      ]
     },
     "execution_count": 51,
     "metadata": {},
     "output_type": "execute_result"
    }
   ],
   "source": [
    "len(Data5400)"
   ]
  },
  {
   "cell_type": "code",
   "execution_count": 53,
   "id": "1f1730a5-a0c9-4579-b063-9a20fc43a042",
   "metadata": {},
   "outputs": [],
   "source": [
    "X_5400 = Data5400[['Associated State Road Number',\"Injury Severity\",'Intersection Related', 'Weather Condition',\n",
    "       'Lighting Condition',\n",
    "       'Passengers Involved', 'Commercial Carrier Involved',\n",
    "       'School Bus Involved', 'Pedestrians Involved', 'Pedalcyclists Involved']]\n",
    "values = {\"Lighting Condition\": 'Unkown', \"Weather Condition\": 'Other', 'Passengers Involved':0.0, 'Commercial Carrier Involved':0.0,\n",
    "       'School Bus Involved':0.0, 'Pedestrians Involved':0.0, 'Pedalcyclists Involved':0.0}\n",
    "X_5400=X_5400.fillna(value=values)\n",
    "X_5400=X_5400.dropna()"
   ]
  },
  {
   "cell_type": "code",
   "execution_count": 54,
   "id": "77cdf06c-22ed-4e10-8cd7-dee67fd293fd",
   "metadata": {},
   "outputs": [
    {
     "data": {
      "text/html": [
       "<div>\n",
       "<style scoped>\n",
       "    .dataframe tbody tr th:only-of-type {\n",
       "        vertical-align: middle;\n",
       "    }\n",
       "\n",
       "    .dataframe tbody tr th {\n",
       "        vertical-align: top;\n",
       "    }\n",
       "\n",
       "    .dataframe thead th {\n",
       "        text-align: right;\n",
       "    }\n",
       "</style>\n",
       "<table border=\"1\" class=\"dataframe\">\n",
       "  <thead>\n",
       "    <tr style=\"text-align: right;\">\n",
       "      <th></th>\n",
       "      <th>Associated State Road Number</th>\n",
       "      <th>Injury Severity</th>\n",
       "      <th>Intersection Related</th>\n",
       "      <th>Weather Condition</th>\n",
       "      <th>Lighting Condition</th>\n",
       "      <th>Passengers Involved</th>\n",
       "      <th>Commercial Carrier Involved</th>\n",
       "      <th>School Bus Involved</th>\n",
       "      <th>Pedestrians Involved</th>\n",
       "      <th>Pedalcyclists Involved</th>\n",
       "    </tr>\n",
       "  </thead>\n",
       "  <tbody>\n",
       "    <tr>\n",
       "      <th>2</th>\n",
       "      <td>2.0</td>\n",
       "      <td>No Injury Collision</td>\n",
       "      <td>1</td>\n",
       "      <td>Overcast</td>\n",
       "      <td>Dark-Street Lights On</td>\n",
       "      <td>1</td>\n",
       "      <td>0</td>\n",
       "      <td>0</td>\n",
       "      <td>0</td>\n",
       "      <td>0</td>\n",
       "    </tr>\n",
       "    <tr>\n",
       "      <th>3</th>\n",
       "      <td>2.0</td>\n",
       "      <td>No Injury Collision</td>\n",
       "      <td>1</td>\n",
       "      <td>Overcast</td>\n",
       "      <td>Dark-Street Lights On</td>\n",
       "      <td>1</td>\n",
       "      <td>0</td>\n",
       "      <td>0</td>\n",
       "      <td>0</td>\n",
       "      <td>0</td>\n",
       "    </tr>\n",
       "    <tr>\n",
       "      <th>33</th>\n",
       "      <td>530.0</td>\n",
       "      <td>No Injury Collision</td>\n",
       "      <td>0</td>\n",
       "      <td>Overcast</td>\n",
       "      <td>Daylight</td>\n",
       "      <td>0</td>\n",
       "      <td>1</td>\n",
       "      <td>0</td>\n",
       "      <td>0</td>\n",
       "      <td>0</td>\n",
       "    </tr>\n",
       "    <tr>\n",
       "      <th>42</th>\n",
       "      <td>7.0</td>\n",
       "      <td>Unknown Injury Collision</td>\n",
       "      <td>0</td>\n",
       "      <td>Overcast</td>\n",
       "      <td>Dark-Street Lights On</td>\n",
       "      <td>0</td>\n",
       "      <td>0</td>\n",
       "      <td>0</td>\n",
       "      <td>0</td>\n",
       "      <td>0</td>\n",
       "    </tr>\n",
       "    <tr>\n",
       "      <th>43</th>\n",
       "      <td>7.0</td>\n",
       "      <td>Unknown Injury Collision</td>\n",
       "      <td>0</td>\n",
       "      <td>Overcast</td>\n",
       "      <td>Dark-Street Lights On</td>\n",
       "      <td>0</td>\n",
       "      <td>0</td>\n",
       "      <td>0</td>\n",
       "      <td>0</td>\n",
       "      <td>0</td>\n",
       "    </tr>\n",
       "    <tr>\n",
       "      <th>...</th>\n",
       "      <td>...</td>\n",
       "      <td>...</td>\n",
       "      <td>...</td>\n",
       "      <td>...</td>\n",
       "      <td>...</td>\n",
       "      <td>...</td>\n",
       "      <td>...</td>\n",
       "      <td>...</td>\n",
       "      <td>...</td>\n",
       "      <td>...</td>\n",
       "    </tr>\n",
       "    <tr>\n",
       "      <th>43328</th>\n",
       "      <td>26.0</td>\n",
       "      <td>No Injury Collision</td>\n",
       "      <td>1</td>\n",
       "      <td>Fog or Smog or Smoke</td>\n",
       "      <td>Daylight</td>\n",
       "      <td>0</td>\n",
       "      <td>0</td>\n",
       "      <td>0</td>\n",
       "      <td>0</td>\n",
       "      <td>0</td>\n",
       "    </tr>\n",
       "    <tr>\n",
       "      <th>43329</th>\n",
       "      <td>26.0</td>\n",
       "      <td>No Injury Collision</td>\n",
       "      <td>1</td>\n",
       "      <td>Fog or Smog or Smoke</td>\n",
       "      <td>Daylight</td>\n",
       "      <td>0</td>\n",
       "      <td>0</td>\n",
       "      <td>0</td>\n",
       "      <td>0</td>\n",
       "      <td>0</td>\n",
       "    </tr>\n",
       "    <tr>\n",
       "      <th>43336</th>\n",
       "      <td>530.0</td>\n",
       "      <td>Minor Injury Collision</td>\n",
       "      <td>0</td>\n",
       "      <td>Overcast</td>\n",
       "      <td>Daylight</td>\n",
       "      <td>0</td>\n",
       "      <td>0</td>\n",
       "      <td>0</td>\n",
       "      <td>0</td>\n",
       "      <td>0</td>\n",
       "    </tr>\n",
       "    <tr>\n",
       "      <th>43365</th>\n",
       "      <td>2.0</td>\n",
       "      <td>No Injury Collision</td>\n",
       "      <td>0</td>\n",
       "      <td>Raining</td>\n",
       "      <td>Dark-Street Lights On</td>\n",
       "      <td>0</td>\n",
       "      <td>0</td>\n",
       "      <td>0</td>\n",
       "      <td>0</td>\n",
       "      <td>0</td>\n",
       "    </tr>\n",
       "    <tr>\n",
       "      <th>43389</th>\n",
       "      <td>117.0</td>\n",
       "      <td>Minor Injury Collision</td>\n",
       "      <td>0</td>\n",
       "      <td>Raining</td>\n",
       "      <td>Dark-Street Lights On</td>\n",
       "      <td>1</td>\n",
       "      <td>0</td>\n",
       "      <td>0</td>\n",
       "      <td>0</td>\n",
       "      <td>0</td>\n",
       "    </tr>\n",
       "  </tbody>\n",
       "</table>\n",
       "<p>3922 rows × 10 columns</p>\n",
       "</div>"
      ],
      "text/plain": [
       "       Associated State Road Number           Injury Severity  \\\n",
       "2                               2.0       No Injury Collision   \n",
       "3                               2.0       No Injury Collision   \n",
       "33                            530.0       No Injury Collision   \n",
       "42                              7.0  Unknown Injury Collision   \n",
       "43                              7.0  Unknown Injury Collision   \n",
       "...                             ...                       ...   \n",
       "43328                          26.0       No Injury Collision   \n",
       "43329                          26.0       No Injury Collision   \n",
       "43336                         530.0    Minor Injury Collision   \n",
       "43365                           2.0       No Injury Collision   \n",
       "43389                         117.0    Minor Injury Collision   \n",
       "\n",
       "       Intersection Related     Weather Condition     Lighting Condition  \\\n",
       "2                         1              Overcast  Dark-Street Lights On   \n",
       "3                         1              Overcast  Dark-Street Lights On   \n",
       "33                        0              Overcast               Daylight   \n",
       "42                        0              Overcast  Dark-Street Lights On   \n",
       "43                        0              Overcast  Dark-Street Lights On   \n",
       "...                     ...                   ...                    ...   \n",
       "43328                     1  Fog or Smog or Smoke               Daylight   \n",
       "43329                     1  Fog or Smog or Smoke               Daylight   \n",
       "43336                     0              Overcast               Daylight   \n",
       "43365                     0               Raining  Dark-Street Lights On   \n",
       "43389                     0               Raining  Dark-Street Lights On   \n",
       "\n",
       "       Passengers Involved  Commercial Carrier Involved  School Bus Involved  \\\n",
       "2                        1                            0                    0   \n",
       "3                        1                            0                    0   \n",
       "33                       0                            1                    0   \n",
       "42                       0                            0                    0   \n",
       "43                       0                            0                    0   \n",
       "...                    ...                          ...                  ...   \n",
       "43328                    0                            0                    0   \n",
       "43329                    0                            0                    0   \n",
       "43336                    0                            0                    0   \n",
       "43365                    0                            0                    0   \n",
       "43389                    1                            0                    0   \n",
       "\n",
       "       Pedestrians Involved  Pedalcyclists Involved  \n",
       "2                         0                       0  \n",
       "3                         0                       0  \n",
       "33                        0                       0  \n",
       "42                        0                       0  \n",
       "43                        0                       0  \n",
       "...                     ...                     ...  \n",
       "43328                     0                       0  \n",
       "43329                     0                       0  \n",
       "43336                     0                       0  \n",
       "43365                     0                       0  \n",
       "43389                     0                       0  \n",
       "\n",
       "[3922 rows x 10 columns]"
      ]
     },
     "execution_count": 54,
     "metadata": {},
     "output_type": "execute_result"
    }
   ],
   "source": [
    "X_5400"
   ]
  },
  {
   "cell_type": "code",
   "execution_count": 169,
   "id": "92332f29-3014-4c9d-95c5-f6e80145334b",
   "metadata": {},
   "outputs": [],
   "source": [
    "for Condition in Conditions:\n",
    "    use_list = []\n",
    "    states = []\n",
    "    if Condition == 'Weather Condition':\n",
    "        use_list = Weather_Correspondance = [0,7,2,3,5,4,0,6,1,8]\n",
    "        states = X_5400['Weather Condition'].unique()\n",
    "    else:\n",
    "        use_list = Lighting_Correspondance=[3,5,2,7,4,0,6,2,7]\n",
    "        states = X_5400['Lighting Condition'].unique()\n",
    "    for i in np.arange(X_5400[Condition].unique().shape[0]):\n",
    "        X_5400.loc[X_5400[Condition] == states[i], Condition] = use_list[i]"
   ]
  },
  {
   "cell_type": "code",
   "execution_count": 170,
   "id": "59696e56-3e25-4bef-b2f5-78782fc35f3d",
   "metadata": {},
   "outputs": [],
   "source": [
    "X_5400 = X_5400[(X_5400[\"Injury Severity\"] != \"Unknown Injury Collision\")]"
   ]
  },
  {
   "cell_type": "code",
   "execution_count": 171,
   "id": "d9a84f61-4ee5-4bac-b914-a63f65146d28",
   "metadata": {},
   "outputs": [
    {
     "data": {
      "text/plain": [
       "array(['No Injury Collision', 'Minor Injury Collision',\n",
       "       'Serious Injury Collision', 'Fatal Collision'], dtype=object)"
      ]
     },
     "execution_count": 171,
     "metadata": {},
     "output_type": "execute_result"
    }
   ],
   "source": [
    "X_5400[\"Injury Severity\"].unique()"
   ]
  },
  {
   "cell_type": "code",
   "execution_count": 172,
   "id": "9b9b4243-4589-4a37-ac4b-1f48bcf36828",
   "metadata": {},
   "outputs": [],
   "source": [
    "Y_5400 = Data[['Injury Severity']].iloc[X_5400.index.to_list()]\n",
    "X_5400 = X_5400.drop([\"Injury Severity\"], axis = 1)"
   ]
  },
  {
   "cell_type": "code",
   "execution_count": 176,
   "id": "5e8dfebb-7d3b-425a-8167-3237500dfba2",
   "metadata": {},
   "outputs": [
    {
     "name": "stdout",
     "output_type": "stream",
     "text": [
      "Number of mislabeled points out of a total 769 points : 290\n",
      "0.6228868660598179\n",
      "Confusion Matrix:\n",
      "[[  0   1   2   0]\n",
      " [  1   5 171  31]\n",
      " [  0   0 470  67]\n",
      " [  1   1  15   4]]\n",
      "\n",
      "Classification Report:\n",
      "                          precision    recall  f1-score   support\n",
      "\n",
      "         Fatal Collision       0.00      0.00      0.00         3\n",
      "  Minor Injury Collision       0.71      0.02      0.05       208\n",
      "     No Injury Collision       0.71      0.88      0.79       537\n",
      "Serious Injury Collision       0.04      0.19      0.07        21\n",
      "\n",
      "                accuracy                           0.62       769\n",
      "               macro avg       0.37      0.27      0.22       769\n",
      "            weighted avg       0.69      0.62      0.56       769\n",
      "\n"
     ]
    },
    {
     "data": {
      "image/png": "[encoded data removed]",
      "text/plain": [
       "<Figure size 500x400 with 2 Axes>"
      ]
     },
     "metadata": {},
     "output_type": "display_data"
    },
    {
     "name": "stdout",
     "output_type": "stream",
     "text": [
      "Predicted values:\n",
      "Fatal Collision occurs 2 times\n",
      "Minor Injury Collision occurs 7 times\n",
      "No Injury Collision occurs 658 times\n",
      "Serious Injury Collision occurs 102 times\n",
      "\n",
      "Actual values:\n",
      "Fatal Collision occurs 3 times\n",
      "Minor Injury Collision occurs 208 times\n",
      "No Injury Collision occurs 537 times\n",
      "Serious Injury Collision occurs 21 times\n"
     ]
    }
   ],
   "source": [
    "PredictionReport(X_5400,Y_5400,\"Multinomial\")"
   ]
  },
  {
   "cell_type": "code",
   "execution_count": 221,
   "id": "f6bc39e3-153f-4200-9898-227067ea0833",
   "metadata": {},
   "outputs": [],
   "source": [
    "R5400Data = Data5400[Data5400['County'].notna() \n",
    "                                    & Data5400['Weather Condition'].notna() \n",
    "                                    & Data5400['Lighting Condition'].notna()]\n",
    "R5400Data[\"Associated State Road Number\"] = R5400Data[\"Associated State Road Number\"].astype(str)\n",
    "R5400Data = R5400Data.join(pd.get_dummies(R5400Data[['Weather Condition','Lighting Condition', \n",
    "                                                     'County', 'Associated State Road Number']], dtype=float))\n",
    "R5400Data = R5400Data[R5400Data[\"Injury Severity\"] != \"Unknown Injury Collision\"]"
   ]
  },
  {
   "cell_type": "code",
   "execution_count": 222,
   "id": "829c49d4-05f5-4456-ba82-df525e099bbb",
   "metadata": {},
   "outputs": [],
   "source": [
    "R5400Data = R5400Data.drop(['County','Weather Condition','Lighting Condition',\"Associated State Road Number\",\n",
    "        'Collision Report Number', 'Collision Date', 'City', 'Jurisdiction',\n",
    "       'Agency', 'Primary Trafficway', 'Primary Road Number',\n",
    "       'Secondary Trafficway', 'Secondary Road Number', 'Block Number',\n",
    "                   'Object Struck', 'Damage Threshold Met', 'Hit and Run', 'Mile Post', 'AADT'], axis=1)"
   ]
  },
  {
   "cell_type": "code",
   "execution_count": null,
   "id": "358a44ad-63f7-430c-b732-795dab040e85",
   "metadata": {},
   "outputs": [],
   "source": []
  },
  {
   "cell_type": "code",
   "execution_count": 223,
   "id": "fff659cd-6267-4d3f-9fae-b69faa21d552",
   "metadata": {},
   "outputs": [],
   "source": [
    "#Just finding between severe Injury or not\n",
    "Regress5400Data = R5400Data.replace({'Injury Severity': {\"No Injury Collision\": 0, \n",
    "                                   'Minor Injury Collision': 0,\n",
    "                                  \"Serious Injury Collision\": 1, \n",
    "                                   'Fatal Collision': 1}})\n",
    "R5400X = Regress5400Data\n",
    "\n",
    "R5400X = R5400X.dropna()\n",
    "R5400Y = R5400X['Injury Severity']\n",
    "R5400X = R5400X.drop(['Injury Severity'], axis = 1)\n",
    "R5400X_model = sm.add_constant(R5400X)\n",
    "model = sm.OLS(R5400Y, R5400X_model)\n",
    "results = model.fit()"
   ]
  },
  {
   "cell_type": "code",
   "execution_count": 224,
   "id": "16bffd21-03c1-472e-a970-40b5827976eb",
   "metadata": {},
   "outputs": [
    {
     "name": "stdout",
     "output_type": "stream",
     "text": [
      "                            OLS Regression Results                            \n",
      "==============================================================================\n",
      "Dep. Variable:        Injury Severity   R-squared:                       0.163\n",
      "Model:                            OLS   Adj. R-squared:                  0.150\n",
      "Method:                 Least Squares   F-statistic:                     12.49\n",
      "Date:                Tue, 28 May 2024   Prob (F-statistic):          4.31e-106\n",
      "Time:                        19:47:01   Log-Likelihood:                 1878.5\n",
      "No. Observations:                3844   AIC:                            -3637.\n",
      "Df Residuals:                    3784   BIC:                            -3262.\n",
      "Df Model:                          59                                         \n",
      "Covariance Type:            nonrobust                                         \n",
      "====================================================================================================================\n",
      "                                                       coef    std err          t      P>|t|      [0.025      0.975]\n",
      "--------------------------------------------------------------------------------------------------------------------\n",
      "const                                                0.0052      0.020      0.259      0.796      -0.034       0.045\n",
      "School Zone                                          0.0218      0.108      0.201      0.840      -0.190       0.234\n",
      "Intersection Related                                -0.0017      0.005     -0.335      0.737      -0.012       0.008\n",
      "Motor Vehicles Involved                              0.0162      0.004      3.888      0.000       0.008       0.024\n",
      "Passengers Involved                                 -0.0003      0.005     -0.050      0.960      -0.010       0.010\n",
      "Commercial Carrier Involved                          0.0299      0.012      2.577      0.010       0.007       0.053\n",
      "School Bus Involved                                 -0.0734      0.076     -0.965      0.335      -0.223       0.076\n",
      "Pedestrians Involved                                 0.4465      0.019     23.502      0.000       0.409       0.484\n",
      "Pedalcyclists Involved                               0.1022      0.027      3.848      0.000       0.050       0.154\n",
      "Weather Condition_Blowing Sand or Dirt or Snow      -0.0159      0.138     -0.116      0.908      -0.286       0.254\n",
      "Weather Condition_Clear                             -0.0084      0.019     -0.438      0.661      -0.046       0.029\n",
      "Weather Condition_Fog or Smog or Smoke              -0.0281      0.026     -1.061      0.289      -0.080       0.024\n",
      "Weather Condition_Other                              0.1452      0.045      3.200      0.001       0.056       0.234\n",
      "Weather Condition_Overcast                          -0.0042      0.020     -0.212      0.832      -0.043       0.034\n",
      "Weather Condition_Partly Cloudy                     -0.0217      0.038     -0.572      0.567      -0.096       0.053\n",
      "Weather Condition_Raining                           -0.0162      0.020     -0.815      0.415      -0.055       0.023\n",
      "Weather Condition_Severe Crosswind                  -0.0062      0.103     -0.060      0.952      -0.208       0.195\n",
      "Weather Condition_Sleet or Hail or Freezing Rain    -0.0109      0.043     -0.250      0.803      -0.096       0.074\n",
      "Weather Condition_Snowing                           -0.0285      0.023     -1.215      0.224      -0.074       0.017\n",
      "Lighting Condition_Dark - Unknown Lighting           0.0012      0.024      0.050      0.960      -0.046       0.049\n",
      "Lighting Condition_Dark-No Street Lights             0.0319      0.015      2.103      0.035       0.002       0.062\n",
      "Lighting Condition_Dark-Street Lights Off           -0.0086      0.033     -0.262      0.793      -0.073       0.056\n",
      "Lighting Condition_Dark-Street Lights On             0.0205      0.012      1.659      0.097      -0.004       0.045\n",
      "Lighting Condition_Dawn                             -0.0258      0.022     -1.179      0.238      -0.069       0.017\n",
      "Lighting Condition_Daylight                          0.0006      0.012      0.049      0.961      -0.022       0.023\n",
      "Lighting Condition_Dusk                             -0.0052      0.019     -0.279      0.780      -0.042       0.031\n",
      "Lighting Condition_Other                            -0.0135      0.061     -0.221      0.825      -0.133       0.106\n",
      "Lighting Condition_Unknown                           0.0041      0.061      0.067      0.947      -0.116       0.124\n",
      "County_Adams                                        -0.0325      0.056     -0.584      0.559      -0.142       0.077\n",
      "County_Asotin                                       -0.0323      0.073     -0.442      0.659      -0.176       0.111\n",
      "County_Benton                                       -0.0340      0.025     -1.357      0.175      -0.083       0.015\n",
      "County_Chelan                                       -0.0293      0.027     -1.081      0.280      -0.082       0.024\n",
      "County_Clallam                                       0.2260      0.034      6.733      0.000       0.160       0.292\n",
      "County_Clark                                        -0.0271      0.015     -1.765      0.078      -0.057       0.003\n",
      "County_Cowlitz                                       0.1159      0.029      3.966      0.000       0.059       0.173\n",
      "County_Douglas                                      -0.0286      0.022     -1.294      0.196      -0.072       0.015\n",
      "County_Franklin                                      0.0664      0.034      1.929      0.054      -0.001       0.134\n",
      "County_Grant                                        -0.0129      0.021     -0.626      0.531      -0.053       0.028\n",
      "County_Grays Harbor                                 -0.0345      0.043     -0.804      0.422      -0.119       0.050\n",
      "County_Island                                       -0.0117      0.015     -0.805      0.421      -0.040       0.017\n",
      "County_Jefferson                                     0.0868      0.032      2.751      0.006       0.025       0.149\n",
      "County_King                                         -0.0089      0.010     -0.916      0.360      -0.028       0.010\n",
      "County_Kitsap                                       -0.0049      0.012     -0.395      0.693      -0.029       0.019\n",
      "County_Kittitas                                      0.0967      0.040      2.425      0.015       0.019       0.175\n",
      "County_Klickitat                                    -0.0214      0.060     -0.358      0.720      -0.139       0.096\n",
      "County_Lewis                                         0.0493      0.043      1.153      0.249      -0.035       0.133\n",
      "County_Lincoln                                      -0.0286      0.058     -0.494      0.621      -0.142       0.085\n",
      "County_Mason                                        -0.0359      0.026     -1.367      0.172      -0.087       0.016\n",
      "County_Okanogan                                     -0.0269      0.066     -0.409      0.682      -0.155       0.102\n",
      "County_Pacific                                      -0.0366      0.041     -0.888      0.374      -0.117       0.044\n",
      "County_Pend Oreille                                 -0.0385      0.103     -0.373      0.709      -0.241       0.164\n",
      "County_Pierce                                       -0.0223      0.011     -1.951      0.051      -0.045       0.000\n",
      "County_Skagit                                       -0.0265      0.013     -2.044      0.041      -0.052      -0.001\n",
      "County_Skamania                                     -0.0277      0.066     -0.422      0.673      -0.156       0.101\n",
      "County_Snohomish                                    -0.0197      0.009     -2.172      0.030      -0.038      -0.002\n",
      "County_Spokane                                      -0.0277      0.014     -2.000      0.046      -0.055      -0.001\n",
      "County_Stevens                                       0.0546      0.030      1.806      0.071      -0.005       0.114\n",
      "County_Thurston                                     -0.0314      0.026     -1.197      0.231      -0.083       0.020\n",
      "County_Wahkiakum                                    -0.0253      0.147     -0.172      0.864      -0.314       0.263\n",
      "County_Walla Walla                                   0.0142      0.033      0.435      0.664      -0.050       0.078\n",
      "County_Whatcom                                      -0.0282      0.031     -0.914      0.361      -0.089       0.032\n",
      "County_Whitman                                      -0.0360      0.019     -1.910      0.056      -0.073       0.001\n",
      "County_Yakima                                       -0.0153      0.018     -0.841      0.401      -0.051       0.020\n",
      "==============================================================================\n",
      "Omnibus:                     3883.872   Durbin-Watson:                   1.729\n",
      "Prob(Omnibus):                  0.000   Jarque-Bera (JB):           175108.182\n",
      "Skew:                           5.103   Prob(JB):                         0.00\n",
      "Kurtosis:                      34.450   Cond. No.                     1.12e+16\n",
      "==============================================================================\n",
      "\n",
      "Notes:\n",
      "[1] Standard Errors assume that the covariance matrix of the errors is correctly specified.\n",
      "[2] The smallest eigenvalue is 2.02e-28. This might indicate that there are\n",
      "strong multicollinearity problems or that the design matrix is singular.\n"
     ]
    }
   ],
   "source": [
    "print(results.summary())"
   ]
  },
  {
   "cell_type": "code",
   "execution_count": 49,
   "id": "021c3eb3-fe3b-4f95-9aee-5d13f116014f",
   "metadata": {},
   "outputs": [
    {
     "ename": "NameError",
     "evalue": "name 'results' is not defined",
     "output_type": "error",
     "traceback": [
      "\u001b[0;31m---------------------------------------------------------------------------\u001b[0m",
      "\u001b[0;31mNameError\u001b[0m                                 Traceback (most recent call last)",
      "Cell \u001b[0;32mIn[49], line 1\u001b[0m\n\u001b[0;32m----> 1\u001b[0m \u001b[43mresults\u001b[49m\u001b[38;5;241m.\u001b[39mcoeff()\n",
      "\u001b[0;31mNameError\u001b[0m: name 'results' is not defined"
     ]
    }
   ],
   "source": [
    "results.coeff()"
   ]
  },
  {
   "cell_type": "code",
   "execution_count": null,
   "id": "841eb74e-d1f7-47bb-ab18-1e4d4fcdf936",
   "metadata": {},
   "outputs": [],
   "source": []
  }
 ],
 "metadata": {
  "kernelspec": {
   "display_name": "Python 3 (ipykernel)",
   "language": "python",
   "name": "python3"
  },
  "language_info": {
   "codemirror_mode": {
    "name": "ipython",
    "version": 3
   },
   "file_extension": ".py",
   "mimetype": "text/x-python",
   "name": "python",
   "nbconvert_exporter": "python",
   "pygments_lexer": "ipython3",
   "version": "3.10.13"
  }
 },
 "nbformat": 4,
 "nbformat_minor": 5
}
